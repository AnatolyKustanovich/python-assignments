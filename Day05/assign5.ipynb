





<!DOCTYPE html>
<html
  lang="en"
  
  data-color-mode="auto" data-light-theme="light" data-dark-theme="dark"
  data-a11y-animated-images="system" data-a11y-link-underlines="true"
  
  >



  <head>
    <meta charset="utf-8">
  <link rel="dns-prefetch" href="https://github.githubassets.com">
  <link rel="dns-prefetch" href="https://avatars.githubusercontent.com">
  <link rel="dns-prefetch" href="https://github-cloud.s3.amazonaws.com">
  <link rel="dns-prefetch" href="https://user-images.githubusercontent.com/">
  <link rel="preconnect" href="https://github.githubassets.com" crossorigin>
  <link rel="preconnect" href="https://avatars.githubusercontent.com">

  


  <link crossorigin="anonymous" media="all" rel="stylesheet" href="https://github.githubassets.com/assets/light-0cfd1fd8509e.css" /><link crossorigin="anonymous" media="all" rel="stylesheet" href="https://github.githubassets.com/assets/dark-d782f59290e2.css" /><link data-color-theme="dark_dimmed" crossorigin="anonymous" media="all" rel="stylesheet" data-href="https://github.githubassets.com/assets/dark_dimmed-f9fbc4b99a77.css" /><link data-color-theme="dark_high_contrast" crossorigin="anonymous" media="all" rel="stylesheet" data-href="https://github.githubassets.com/assets/dark_high_contrast-cff1c9b27b1a.css" /><link data-color-theme="dark_colorblind" crossorigin="anonymous" media="all" rel="stylesheet" data-href="https://github.githubassets.com/assets/dark_colorblind-70097f75aec1.css" /><link data-color-theme="light_colorblind" crossorigin="anonymous" media="all" rel="stylesheet" data-href="https://github.githubassets.com/assets/light_colorblind-c2f0d49bdcd9.css" /><link data-color-theme="light_high_contrast" crossorigin="anonymous" media="all" rel="stylesheet" data-href="https://github.githubassets.com/assets/light_high_contrast-4747d7bc0bc4.css" /><link data-color-theme="light_tritanopia" crossorigin="anonymous" media="all" rel="stylesheet" data-href="https://github.githubassets.com/assets/light_tritanopia-d3f6a61c91c8.css" /><link data-color-theme="dark_tritanopia" crossorigin="anonymous" media="all" rel="stylesheet" data-href="https://github.githubassets.com/assets/dark_tritanopia-a188d53f44bb.css" />

    <link crossorigin="anonymous" media="all" rel="stylesheet" href="https://github.githubassets.com/assets/primer-primitives-52ea80b74554.css" />
    <link crossorigin="anonymous" media="all" rel="stylesheet" href="https://github.githubassets.com/assets/primer-af846850481e.css" />
    <link crossorigin="anonymous" media="all" rel="stylesheet" href="https://github.githubassets.com/assets/global-58c8ce4e66a8.css" />
    <link crossorigin="anonymous" media="all" rel="stylesheet" href="https://github.githubassets.com/assets/github-ee2a200f1d82.css" />
  <link crossorigin="anonymous" media="all" rel="stylesheet" href="https://github.githubassets.com/assets/repository-d031bcc14e1b.css" />
<link crossorigin="anonymous" media="all" rel="stylesheet" href="https://github.githubassets.com/assets/code-a0610fd00b47.css" />

  


  <script type="application/json" id="client-env">{"locale":"en","featureFlags":["copilot_new_references_ui","copilot_beta_features_opt_in","copilot_chat_static_thread_suggestions","copilot_conversational_ux_history_refs","copilot_implicit_context","copilot_smell_icebreaker_ux","copilot_summary_beta","experimentation_azure_variant_endpoint","failbot_handle_non_errors","geojson_azure_maps","ghost_pilot_confidence_truncation_25","ghost_pilot_confidence_truncation_40","hovercard_accessibility","issues_advanced_search","issues_react_new_timeline","issues_react_avatar_refactor","issues_react_remove_placeholders","issues_react_blur_item_picker_on_close","marketing_pages_search_explore_provider","primer_react_css_modules_ga","react_keyboard_shortcuts_dialog","remove_child_patch","repository_suggester_elastic_search","sample_network_conn_type","site_metered_billing_update","lifecycle_label_name_updates"],"login":"AnatolyKustanovich"}</script>
<script crossorigin="anonymous" defer="defer" type="application/javascript" src="https://github.githubassets.com/assets/wp-runtime-052fb4401979.js"></script>
<script crossorigin="anonymous" defer="defer" type="application/javascript" src="https://github.githubassets.com/assets/vendors-node_modules_oddbird_popover-polyfill_dist_popover_js-aff936e590ed.js"></script>
<script crossorigin="anonymous" defer="defer" type="application/javascript" src="https://github.githubassets.com/assets/vendors-node_modules_github_arianotify-polyfill_ariaNotify-polyfill_js-node_modules_github_mi-3abb8f-3f7d38a7b47d.js"></script>
<script crossorigin="anonymous" defer="defer" type="application/javascript" src="https://github.githubassets.com/assets/ui_packages_failbot_failbot_ts-93b6a0551aa9.js"></script>
<script crossorigin="anonymous" defer="defer" type="application/javascript" src="https://github.githubassets.com/assets/environment-7b93e0f0c8ff.js"></script>
<script crossorigin="anonymous" defer="defer" type="application/javascript" src="https://github.githubassets.com/assets/vendors-node_modules_primer_behaviors_dist_esm_index_mjs-4aa4b0e95669.js"></script>
<script crossorigin="anonymous" defer="defer" type="application/javascript" src="https://github.githubassets.com/assets/vendors-node_modules_github_selector-observer_dist_index_esm_js-f690fd9ae3d5.js"></script>
<script crossorigin="anonymous" defer="defer" type="application/javascript" src="https://github.githubassets.com/assets/vendors-node_modules_github_relative-time-element_dist_index_js-6d3967acd51c.js"></script>
<script crossorigin="anonymous" defer="defer" type="application/javascript" src="https://github.githubassets.com/assets/vendors-node_modules_github_combobox-nav_dist_index_js-node_modules_github_g-emoji-element_di-6ce195-53781cbc550f.js"></script>
<script crossorigin="anonymous" defer="defer" type="application/javascript" src="https://github.githubassets.com/assets/vendors-node_modules_github_auto-complete-element_dist_index_js-node_modules_github_catalyst_-8e9f78-a74b4e0a8a6b.js"></script>
<script crossorigin="anonymous" defer="defer" type="application/javascript" src="https://github.githubassets.com/assets/vendors-node_modules_github_text-expander-element_dist_index_js-f5498b8d4e5d.js"></script>
<script crossorigin="anonymous" defer="defer" type="application/javascript" src="https://github.githubassets.com/assets/vendors-node_modules_github_filter-input-element_dist_index_js-node_modules_github_remote-inp-b5f1d7-492b5042c841.js"></script>
<script crossorigin="anonymous" defer="defer" type="application/javascript" src="https://github.githubassets.com/assets/vendors-node_modules_github_file-attachment-element_dist_index_js-node_modules_primer_view-co-381a4f-a11b2f0361af.js"></script>
<script crossorigin="anonymous" defer="defer" type="application/javascript" src="https://github.githubassets.com/assets/github-elements-aa9238e3dc93.js"></script>
<script crossorigin="anonymous" defer="defer" type="application/javascript" src="https://github.githubassets.com/assets/element-registry-85ef1e841a3f.js"></script>
<script crossorigin="anonymous" defer="defer" type="application/javascript" src="https://github.githubassets.com/assets/vendors-node_modules_braintree_browser-detection_dist_browser-detection_js-node_modules_githu-bb80ec-634de60bacfa.js"></script>
<script crossorigin="anonymous" defer="defer" type="application/javascript" src="https://github.githubassets.com/assets/vendors-node_modules_lit-html_lit-html_js-ce7225a304c5.js"></script>
<script crossorigin="anonymous" defer="defer" type="application/javascript" src="https://github.githubassets.com/assets/vendors-node_modules_github_mini-throttle_dist_index_js-node_modules_morphdom_dist_morphdom-e-7c534c-f8a5485c982a.js"></script>
<script crossorigin="anonymous" defer="defer" type="application/javascript" src="https://github.githubassets.com/assets/vendors-node_modules_github_turbo_dist_turbo_es2017-esm_js-d2aff86c7695.js"></script>
<script crossorigin="anonymous" defer="defer" type="application/javascript" src="https://github.githubassets.com/assets/vendors-node_modules_github_remote-form_dist_index_js-node_modules_delegated-events_dist_inde-893f9f-6cf3320416b8.js"></script>
<script crossorigin="anonymous" defer="defer" type="application/javascript" src="https://github.githubassets.com/assets/vendors-node_modules_color-convert_index_js-0e07cc183eed.js"></script>
<script crossorigin="anonymous" defer="defer" type="application/javascript" src="https://github.githubassets.com/assets/vendors-node_modules_github_quote-selection_dist_index_js-node_modules_github_session-resume_-69cfcc-ceb1758d1876.js"></script>
<script crossorigin="anonymous" defer="defer" type="application/javascript" src="https://github.githubassets.com/assets/ui_packages_updatable-content_updatable-content_ts-3f0e021c7215.js"></script>
<script crossorigin="anonymous" defer="defer" type="application/javascript" src="https://github.githubassets.com/assets/app_assets_modules_github_behaviors_task-list_ts-app_assets_modules_github_sso_ts-ui_packages-900dde-24e9d16a679d.js"></script>
<script crossorigin="anonymous" defer="defer" type="application/javascript" src="https://github.githubassets.com/assets/app_assets_modules_github_sticky-scroll-into-view_ts-7cbef09a422c.js"></script>
<script crossorigin="anonymous" defer="defer" type="application/javascript" src="https://github.githubassets.com/assets/app_assets_modules_github_behaviors_ajax-error_ts-app_assets_modules_github_behaviors_include-d0d0a6-0e9fa537dc4f.js"></script>
<script crossorigin="anonymous" defer="defer" type="application/javascript" src="https://github.githubassets.com/assets/app_assets_modules_github_behaviors_commenting_edit_ts-app_assets_modules_github_behaviors_ht-83c235-fb43816ab83c.js"></script>
<script crossorigin="anonymous" defer="defer" type="application/javascript" src="https://github.githubassets.com/assets/behaviors-6f1334817a54.js"></script>
<script crossorigin="anonymous" defer="defer" type="application/javascript" src="https://github.githubassets.com/assets/vendors-node_modules_delegated-events_dist_index_js-node_modules_github_catalyst_lib_index_js-f6223d90c7ba.js"></script>
<script crossorigin="anonymous" defer="defer" type="application/javascript" src="https://github.githubassets.com/assets/notifications-global-3366f6b6298e.js"></script>
<script crossorigin="anonymous" defer="defer" type="application/javascript" src="https://github.githubassets.com/assets/vendors-node_modules_github_mini-throttle_dist_index_js-node_modules_github_catalyst_lib_inde-dbbea9-9b97703a4e6a.js"></script>
<script crossorigin="anonymous" defer="defer" type="application/javascript" src="https://github.githubassets.com/assets/code-menu-13971a40799a.js"></script>
  
  <script crossorigin="anonymous" defer="defer" type="application/javascript" src="https://github.githubassets.com/assets/primer-react-ce1a90e9cdd1.js"></script>
<script crossorigin="anonymous" defer="defer" type="application/javascript" src="https://github.githubassets.com/assets/react-core-9952372f2df0.js"></script>
<script crossorigin="anonymous" defer="defer" type="application/javascript" src="https://github.githubassets.com/assets/react-lib-7b7b5264f6c1.js"></script>
<script crossorigin="anonymous" defer="defer" type="application/javascript" src="https://github.githubassets.com/assets/octicons-react-45c3a19dd792.js"></script>
<script crossorigin="anonymous" defer="defer" type="application/javascript" src="https://github.githubassets.com/assets/vendors-node_modules_tanstack_query-core_build_modern_queryClient_js-e40bb86d3e93.js"></script>
<script crossorigin="anonymous" defer="defer" type="application/javascript" src="https://github.githubassets.com/assets/vendors-node_modules_emotion_is-prop-valid_dist_emotion-is-prop-valid_esm_js-node_modules_emo-37e3d5-31653d7f2342.js"></script>
<script crossorigin="anonymous" defer="defer" type="application/javascript" src="https://github.githubassets.com/assets/vendors-node_modules_github_mini-throttle_dist_index_js-node_modules_stacktrace-parser_dist_s-e7dcdd-074052b7d26b.js"></script>
<script crossorigin="anonymous" defer="defer" type="application/javascript" src="https://github.githubassets.com/assets/vendors-node_modules_oddbird_popover-polyfill_dist_popover-fn_js-4896ddd4b7bb.js"></script>
<script crossorigin="anonymous" defer="defer" type="application/javascript" src="https://github.githubassets.com/assets/vendors-node_modules_dompurify_dist_purify_js-b73fdff77a4e.js"></script>
<script crossorigin="anonymous" defer="defer" type="application/javascript" src="https://github.githubassets.com/assets/vendors-node_modules_lodash-es__Stack_js-node_modules_lodash-es__Uint8Array_js-node_modules_l-4faaa6-13a0602a5edf.js"></script>
<script crossorigin="anonymous" defer="defer" type="application/javascript" src="https://github.githubassets.com/assets/vendors-node_modules_lodash-es__baseIsEqual_js-8929eb9718d5.js"></script>
<script crossorigin="anonymous" defer="defer" type="application/javascript" src="https://github.githubassets.com/assets/vendors-node_modules_react-reverse-portal_dist_web_index_js-node_modules_primer_live-region-e-18c5ad-d9666a921899.js"></script>
<script crossorigin="anonymous" defer="defer" type="application/javascript" src="https://github.githubassets.com/assets/ui_packages_aria-live_aria-live_ts-ui_packages_promise-with-resolvers-polyfill_promise-with-r-014121-e1792bd5a31e.js"></script>
<script crossorigin="anonymous" defer="defer" type="application/javascript" src="https://github.githubassets.com/assets/ui_packages_paths_index_ts-2cf6f74f0be6.js"></script>
<script crossorigin="anonymous" defer="defer" type="application/javascript" src="https://github.githubassets.com/assets/ui_packages_ref-selector_RefSelector_tsx-a7dc2980b9fd.js"></script>
<script crossorigin="anonymous" defer="defer" type="application/javascript" src="https://github.githubassets.com/assets/ui_packages_code-view-shared_utilities_web-worker_ts-ui_packages_code-view-shared_worker-jobs-cdcae1-ab3886bb685a.js"></script>
<script crossorigin="anonymous" defer="defer" type="application/javascript" src="https://github.githubassets.com/assets/ui_packages_code-view-shared_hooks_use-canonical-object_ts-ui_packages_code-view-shared_hooks-503c34-c6f674b2de11.js"></script>
<script crossorigin="anonymous" defer="defer" type="application/javascript" src="https://github.githubassets.com/assets/ui_packages_document-metadata_document-metadata_ts-ui_packages_repos-file-tree-view_repos-fil-5db355-eee649c0cd94.js"></script>
<script crossorigin="anonymous" defer="defer" type="application/javascript" src="https://github.githubassets.com/assets/app_assets_modules_github_blob-anchor_ts-ui_packages_code-nav_code-nav_ts-ui_packages_filter--8253c1-87c39cb5708f.js"></script>
<script crossorigin="anonymous" defer="defer" type="application/javascript" src="https://github.githubassets.com/assets/react-code-view-bca55611b4e0.js"></script>
<link crossorigin="anonymous" media="all" rel="stylesheet" href="https://github.githubassets.com/assets/primer-react.62690248c131a6fc074d.module.css" />
<link crossorigin="anonymous" media="all" rel="stylesheet" href="https://github.githubassets.com/assets/react-code-view.6b587a69b593e23c3657.module.css" />


  <title>Pythoncourse_assignments/day05/assign5.ipynb at main · Aish16032001/Pythoncourse_assignments</title>



  <meta name="route-pattern" content="/:user_id/:repository/blob/*name(/*path)" data-turbo-transient>
  <meta name="route-controller" content="blob" data-turbo-transient>
  <meta name="route-action" content="show" data-turbo-transient>

    
  <meta name="current-catalog-service-hash" content="f3abb0cc802f3d7b95fc8762b94bdcb13bf39634c40c357301c4aa1d67a256fb">


  <meta name="request-id" content="CE83:19984A:3E9D2B:69460E:6752230B" data-turbo-transient="true" /><meta name="html-safe-nonce" content="626a3329982ddabd5783e59d062da52fae69a2ad03f0fadc7de3da0f59f50078" data-turbo-transient="true" /><meta name="visitor-payload" content="eyJyZWZlcnJlciI6Imh0dHBzOi8vZ2l0aHViLmNvbS9BaXNoMTYwMzIwMDEvUHl0aG9uY291cnNlX2Fzc2lnbm1lbnRzL2Jsb2IvbWFpbi9kYXkwNS9hc3NpZ241LmlweW5iIiwicmVxdWVzdF9pZCI6IkNFODM6MTk5ODRBOjNFOUQyQjo2OTQ2MEU6Njc1MjIzMEIiLCJ2aXNpdG9yX2lkIjoiMjUzODk4MDU0MDIxNTIzODY5NSIsInJlZ2lvbl9lZGdlIjoiaWxjLTAxIiwicmVnaW9uX3JlbmRlciI6ImlhZCJ9" data-turbo-transient="true" /><meta name="visitor-hmac" content="0b6ee4f93e95fd58b202feec60697e3f62f7d037ee43b26b5637bcf8113c75f8" data-turbo-transient="true" />


    <meta name="hovercard-subject-tag" content="repository:886136272" data-turbo-transient>


  <meta name="github-keyboard-shortcuts" content="repository,source-code,file-tree,copilot" data-turbo-transient="true" />
  

  <meta name="selected-link" value="repo_source" data-turbo-transient>
  <link rel="assets" href="https://github.githubassets.com/">

    <meta name="google-site-verification" content="Apib7-x98H0j5cPqHWwSMm6dNU4GmODRoqxLiDzdx9I">

<meta name="octolytics-url" content="https://collector.github.com/github/collect" /><meta name="octolytics-actor-id" content="53263438" /><meta name="octolytics-actor-login" content="AnatolyKustanovich" /><meta name="octolytics-actor-hash" content="78bb28e7531464aa5e02a6c23c909710ea1d3dd96e9515423fd51c39f5474fac" />

  <meta name="analytics-location" content="/&lt;user-name&gt;/&lt;repo-name&gt;/blob/show" data-turbo-transient="true" />

  




    <meta name="user-login" content="AnatolyKustanovich">

  <link rel="sudo-modal" href="/sessions/sudo_modal">

    <meta name="viewport" content="width=device-width">

    

      <meta name="description" content="Contribute to Aish16032001/Pythoncourse_assignments development by creating an account on GitHub.">

      <link rel="search" type="application/opensearchdescription+xml" href="/opensearch.xml" title="GitHub">

    <link rel="fluid-icon" href="https://github.com/fluidicon.png" title="GitHub">
    <meta property="fb:app_id" content="1401488693436528">
    <meta name="apple-itunes-app" content="app-id=1477376905, app-argument=https://github.com/Aish16032001/Pythoncourse_assignments/blob/main/day05/assign5.ipynb" />

      <meta name="twitter:image" content="https://opengraph.githubassets.com/cf8a3de5a638aa463e3af02b811fa0f27516b652375985af957f6b8c6279d2fa/Aish16032001/Pythoncourse_assignments" /><meta name="twitter:site" content="@github" /><meta name="twitter:card" content="summary_large_image" /><meta name="twitter:title" content="Pythoncourse_assignments/day05/assign5.ipynb at main · Aish16032001/Pythoncourse_assignments" /><meta name="twitter:description" content="Contribute to Aish16032001/Pythoncourse_assignments development by creating an account on GitHub." />
  <meta property="og:image" content="https://opengraph.githubassets.com/cf8a3de5a638aa463e3af02b811fa0f27516b652375985af957f6b8c6279d2fa/Aish16032001/Pythoncourse_assignments" /><meta property="og:image:alt" content="Contribute to Aish16032001/Pythoncourse_assignments development by creating an account on GitHub." /><meta property="og:image:width" content="1200" /><meta property="og:image:height" content="600" /><meta property="og:site_name" content="GitHub" /><meta property="og:type" content="object" /><meta property="og:title" content="Pythoncourse_assignments/day05/assign5.ipynb at main · Aish16032001/Pythoncourse_assignments" /><meta property="og:url" content="https://github.com/Aish16032001/Pythoncourse_assignments/blob/main/day05/assign5.ipynb" /><meta property="og:description" content="Contribute to Aish16032001/Pythoncourse_assignments development by creating an account on GitHub." />
  


      <link rel="shared-web-socket" href="wss://alive.github.com/_sockets/u/53263438/ws?session=eyJ2IjoiVjMiLCJ1Ijo1MzI2MzQzOCwicyI6MTUwOTAwNzEzNCwiYyI6NzI3MjI2NDcyLCJ0IjoxNzMzNDM2MTcyfQ==--133e82f5b73d08a30d32bd14c819add8a9ead22530169f1840e5198fda917040" data-refresh-url="/_alive" data-session-id="7a248ba1f1edc0eb46f46ef675e8b2a96066a5c1695511df92adb72830233798">
      <link rel="shared-web-socket-src" href="/assets-cdn/worker/socket-worker-1a9b1a7a6108.js">


      <meta name="hostname" content="github.com">


      <meta name="keyboard-shortcuts-preference" content="all">
      <meta name="hovercards-preference" content="true">
      <meta name="announcement-preference-hovercard" content="true">

        <meta name="expected-hostname" content="github.com">


  <meta http-equiv="x-pjax-version" content="9be2e3dedea648a5362beed038d035a3434a42bc68546643682757f752c13297" data-turbo-track="reload">
  <meta http-equiv="x-pjax-csp-version" content="ace39c3b6632770952207593607e6e0be0db363435a8b877b1f96abe6430f345" data-turbo-track="reload">
  <meta http-equiv="x-pjax-css-version" content="9f4da01681928ee9b5aec9017228270929abd54f898385964d2a3a6099d593a3" data-turbo-track="reload">
  <meta http-equiv="x-pjax-js-version" content="694aba57dbed57493f20a630b567041f909e937bc95de5940e58bdbd5b38f3fb" data-turbo-track="reload">

  <meta name="turbo-cache-control" content="no-preview" data-turbo-transient="">

      <meta name="turbo-cache-control" content="no-cache" data-turbo-transient>

    <meta data-hydrostats="publish">

    <link crossorigin="anonymous" media="all" rel="stylesheet" href="https://github.githubassets.com/assets/react-1a79343258bd.css" />
  <meta name="go-import" content="github.com/Aish16032001/Pythoncourse_assignments git https://github.com/Aish16032001/Pythoncourse_assignments.git">

  <meta name="octolytics-dimension-user_id" content="187172808" /><meta name="octolytics-dimension-user_login" content="Aish16032001" /><meta name="octolytics-dimension-repository_id" content="886136272" /><meta name="octolytics-dimension-repository_nwo" content="Aish16032001/Pythoncourse_assignments" /><meta name="octolytics-dimension-repository_public" content="true" /><meta name="octolytics-dimension-repository_is_fork" content="false" /><meta name="octolytics-dimension-repository_network_root_id" content="886136272" /><meta name="octolytics-dimension-repository_network_root_nwo" content="Aish16032001/Pythoncourse_assignments" />



    

    <meta name="turbo-body-classes" content="logged-in env-production page-responsive">


  <meta name="browser-stats-url" content="https://api.github.com/_private/browser/stats">

  <meta name="browser-errors-url" content="https://api.github.com/_private/browser/errors">

  <link rel="mask-icon" href="https://github.githubassets.com/assets/pinned-octocat-093da3e6fa40.svg" color="#000000">
  <link rel="alternate icon" class="js-site-favicon" type="image/png" href="https://github.githubassets.com/favicons/favicon.png">
  <link rel="icon" class="js-site-favicon" type="image/svg+xml" href="https://github.githubassets.com/favicons/favicon.svg" data-base-href="https://github.githubassets.com/favicons/favicon">

<meta name="theme-color" content="#1e2327">
<meta name="color-scheme" content="light dark" />


  <link rel="manifest" href="/manifest.json" crossOrigin="use-credentials">

  </head>

  <body class="logged-in env-production page-responsive" style="word-wrap: break-word;">
    <div data-turbo-body class="logged-in env-production page-responsive" style="word-wrap: break-word;">
      


    <div class="position-relative header-wrapper js-header-wrapper ">
      <a href="#start-of-content" data-skip-target-assigned="false" class="p-3 color-bg-accent-emphasis color-fg-on-emphasis show-on-focus js-skip-to-content">Skip to content</a>

      <span data-view-component="true" class="progress-pjax-loader Progress position-fixed width-full">
    <span style="width: 0%;" data-view-component="true" class="Progress-item progress-pjax-loader-bar left-0 top-0 color-bg-accent-emphasis"></span>
</span>      
      
      <script crossorigin="anonymous" defer="defer" type="application/javascript" src="https://github.githubassets.com/assets/ui_packages_ui-commands_ui-commands_ts-4bc1636ff219.js"></script>
<script crossorigin="anonymous" defer="defer" type="application/javascript" src="https://github.githubassets.com/assets/keyboard-shortcuts-dialog-8137640712fa.js"></script>
<link crossorigin="anonymous" media="all" rel="stylesheet" href="https://github.githubassets.com/assets/primer-react.62690248c131a6fc074d.module.css" />

<react-partial
  partial-name="keyboard-shortcuts-dialog"
  data-ssr="false"
  data-attempted-ssr="false"
>
  
  <script type="application/json" data-target="react-partial.embeddedData">{"props":{"docsUrl":"https://docs.github.com/get-started/accessibility/keyboard-shortcuts"}}</script>
  <div data-target="react-partial.reactRoot"></div>
</react-partial>




      

          

              <header class="AppHeader" role="banner">
  <h2 class="sr-only">Navigation Menu</h2>

    

    <div class="AppHeader-globalBar pb-2 js-global-bar">
      <div class="AppHeader-globalBar-start">
          <deferred-side-panel data-url="/_side-panels/global">
  <include-fragment data-target="deferred-side-panel.fragment">
      <button aria-label="Open global navigation menu" data-action="click:deferred-side-panel#loadPanel click:deferred-side-panel#panelOpened" data-show-dialog-id="dialog-295fdb1a-ffc0-4e5a-b9e5-59e700922f76" id="dialog-show-dialog-295fdb1a-ffc0-4e5a-b9e5-59e700922f76" type="button" data-view-component="true" class="Button Button--iconOnly Button--secondary Button--medium AppHeader-button p-0 color-fg-muted">  <svg aria-hidden="true" height="16" viewBox="0 0 16 16" version="1.1" width="16" data-view-component="true" class="octicon octicon-three-bars Button-visual">
    <path d="M1 2.75A.75.75 0 0 1 1.75 2h12.5a.75.75 0 0 1 0 1.5H1.75A.75.75 0 0 1 1 2.75Zm0 5A.75.75 0 0 1 1.75 7h12.5a.75.75 0 0 1 0 1.5H1.75A.75.75 0 0 1 1 7.75ZM1.75 12h12.5a.75.75 0 0 1 0 1.5H1.75a.75.75 0 0 1 0-1.5Z"></path>
</svg>
</button>

<dialog-helper>
  <dialog data-target="deferred-side-panel.panel" id="dialog-295fdb1a-ffc0-4e5a-b9e5-59e700922f76" aria-modal="true" aria-labelledby="dialog-295fdb1a-ffc0-4e5a-b9e5-59e700922f76-title" aria-describedby="dialog-295fdb1a-ffc0-4e5a-b9e5-59e700922f76-description" data-view-component="true" class="Overlay Overlay-whenNarrow Overlay--size-small-portrait Overlay--motion-scaleFade Overlay--placement-left SidePanel Overlay--disableScroll">
    <div styles="flex-direction: row;" data-view-component="true" class="Overlay-header">
  <div class="Overlay-headerContentWrap">
    <div class="Overlay-titleWrap">
      <h1 class="Overlay-title sr-only" id="dialog-295fdb1a-ffc0-4e5a-b9e5-59e700922f76-title">
        Global navigation
      </h1>
            <div data-view-component="true" class="d-flex">
      <div data-view-component="true" class="AppHeader-logo position-relative">
        <svg aria-hidden="true" height="24" viewBox="0 0 24 24" version="1.1" width="24" data-view-component="true" class="octicon octicon-mark-github">
    <path d="M12.5.75C6.146.75 1 5.896 1 12.25c0 5.089 3.292 9.387 7.863 10.91.575.101.79-.244.79-.546 0-.273-.014-1.178-.014-2.142-2.889.532-3.636-.704-3.866-1.35-.13-.331-.69-1.352-1.18-1.625-.402-.216-.977-.748-.014-.762.906-.014 1.553.834 1.769 1.179 1.035 1.74 2.688 1.25 3.349.948.1-.747.402-1.25.733-1.538-2.559-.287-5.232-1.279-5.232-5.678 0-1.25.445-2.285 1.178-3.09-.115-.288-.517-1.467.115-3.048 0 0 .963-.302 3.163 1.179.92-.259 1.897-.388 2.875-.388.977 0 1.955.13 2.875.388 2.2-1.495 3.162-1.179 3.162-1.179.633 1.581.23 2.76.115 3.048.733.805 1.179 1.825 1.179 3.09 0 4.413-2.688 5.39-5.247 5.678.417.36.776 1.05.776 2.128 0 1.538-.014 2.774-.014 3.162 0 .302.216.662.79.547C20.709 21.637 24 17.324 24 12.25 24 5.896 18.854.75 12.5.75Z"></path>
</svg>
</div></div>
    </div>
    <div class="Overlay-actionWrap">
      <button data-close-dialog-id="dialog-295fdb1a-ffc0-4e5a-b9e5-59e700922f76" aria-label="Close" type="button" data-view-component="true" class="close-button Overlay-closeButton"><svg aria-hidden="true" height="16" viewBox="0 0 16 16" version="1.1" width="16" data-view-component="true" class="octicon octicon-x">
    <path d="M3.72 3.72a.75.75 0 0 1 1.06 0L8 6.94l3.22-3.22a.749.749 0 0 1 1.275.326.749.749 0 0 1-.215.734L9.06 8l3.22 3.22a.749.749 0 0 1-.326 1.275.749.749 0 0 1-.734-.215L8 9.06l-3.22 3.22a.751.751 0 0 1-1.042-.018.751.751 0 0 1-.018-1.042L6.94 8 3.72 4.78a.75.75 0 0 1 0-1.06Z"></path>
</svg></button>
    </div>
  </div>
  
</div>
      <scrollable-region data-labelled-by="dialog-295fdb1a-ffc0-4e5a-b9e5-59e700922f76-title">
        <div data-view-component="true" class="Overlay-body d-flex flex-column px-2">    <div data-view-component="true" class="d-flex flex-column mb-3">
        <nav aria-label="Site navigation" data-view-component="true" class="ActionList">
  
  <nav-list>
    <ul data-target="nav-list.topLevelList" data-view-component="true" class="ActionListWrap">
        
          
<li data-item-id="" data-targets="nav-list.items" data-view-component="true" class="ActionListItem">
    
    
    <a data-hotkey="g d" data-analytics-event="{&quot;category&quot;:&quot;Global navigation&quot;,&quot;action&quot;:&quot;HOME&quot;,&quot;label&quot;:null}" id="item-1b0d3ced-fa62-4ff2-a293-ad7269d637ae" href="/dashboard" data-view-component="true" class="ActionListContent ActionListContent--visual16">
        <span class="ActionListItem-visual ActionListItem-visual--leading">
          <svg aria-hidden="true" height="16" viewBox="0 0 16 16" version="1.1" width="16" data-view-component="true" class="octicon octicon-home">
    <path d="M6.906.664a1.749 1.749 0 0 1 2.187 0l5.25 4.2c.415.332.657.835.657 1.367v7.019A1.75 1.75 0 0 1 13.25 15h-3.5a.75.75 0 0 1-.75-.75V9H7v5.25a.75.75 0 0 1-.75.75h-3.5A1.75 1.75 0 0 1 1 13.25V6.23c0-.531.242-1.034.657-1.366l5.25-4.2Zm1.25 1.171a.25.25 0 0 0-.312 0l-5.25 4.2a.25.25 0 0 0-.094.196v7.019c0 .138.112.25.25.25H5.5V8.25a.75.75 0 0 1 .75-.75h3.5a.75.75 0 0 1 .75.75v5.25h2.75a.25.25 0 0 0 .25-.25V6.23a.25.25 0 0 0-.094-.195Z"></path>
</svg>
        </span>
      
        <span data-view-component="true" class="ActionListItem-label">
          Home
</span>      
</a>
  
</li>

        
          
<li data-item-id="" data-targets="nav-list.items" data-view-component="true" class="ActionListItem">
    
    
    <a data-hotkey="g i" data-analytics-event="{&quot;category&quot;:&quot;Global navigation&quot;,&quot;action&quot;:&quot;ISSUES&quot;,&quot;label&quot;:null}" id="item-b8dbae5e-8ef7-4ccb-b2ec-0366f7dd49cc" href="/issues" data-view-component="true" class="ActionListContent ActionListContent--visual16">
        <span class="ActionListItem-visual ActionListItem-visual--leading">
          <svg aria-hidden="true" height="16" viewBox="0 0 16 16" version="1.1" width="16" data-view-component="true" class="octicon octicon-issue-opened">
    <path d="M8 9.5a1.5 1.5 0 1 0 0-3 1.5 1.5 0 0 0 0 3Z"></path><path d="M8 0a8 8 0 1 1 0 16A8 8 0 0 1 8 0ZM1.5 8a6.5 6.5 0 1 0 13 0 6.5 6.5 0 0 0-13 0Z"></path>
</svg>
        </span>
      
        <span data-view-component="true" class="ActionListItem-label">
          Issues
</span>      
</a>
  
</li>

        
          
<li data-item-id="" data-targets="nav-list.items" data-view-component="true" class="ActionListItem">
    
    
    <a data-hotkey="g p" data-analytics-event="{&quot;category&quot;:&quot;Global navigation&quot;,&quot;action&quot;:&quot;PULL_REQUESTS&quot;,&quot;label&quot;:null}" id="item-839860c7-134b-45c8-88ab-9ff105b2fd79" href="/pulls" data-view-component="true" class="ActionListContent ActionListContent--visual16">
        <span class="ActionListItem-visual ActionListItem-visual--leading">
          <svg aria-hidden="true" height="16" viewBox="0 0 16 16" version="1.1" width="16" data-view-component="true" class="octicon octicon-git-pull-request">
    <path d="M1.5 3.25a2.25 2.25 0 1 1 3 2.122v5.256a2.251 2.251 0 1 1-1.5 0V5.372A2.25 2.25 0 0 1 1.5 3.25Zm5.677-.177L9.573.677A.25.25 0 0 1 10 .854V2.5h1A2.5 2.5 0 0 1 13.5 5v5.628a2.251 2.251 0 1 1-1.5 0V5a1 1 0 0 0-1-1h-1v1.646a.25.25 0 0 1-.427.177L7.177 3.427a.25.25 0 0 1 0-.354ZM3.75 2.5a.75.75 0 1 0 0 1.5.75.75 0 0 0 0-1.5Zm0 9.5a.75.75 0 1 0 0 1.5.75.75 0 0 0 0-1.5Zm8.25.75a.75.75 0 1 0 1.5 0 .75.75 0 0 0-1.5 0Z"></path>
</svg>
        </span>
      
        <span data-view-component="true" class="ActionListItem-label">
          Pull requests
</span>      
</a>
  
</li>

        
          
<li data-item-id="" data-targets="nav-list.items" data-item-id="projects" data-view-component="true" class="ActionListItem">
    
    
    <a data-analytics-event="{&quot;category&quot;:&quot;Global navigation&quot;,&quot;action&quot;:&quot;PROJECTS&quot;,&quot;label&quot;:null}" id="item-299f784f-a273-480f-bf15-68c426e76faa" href="/projects" data-view-component="true" class="ActionListContent ActionListContent--visual16">
        <span class="ActionListItem-visual ActionListItem-visual--leading">
          <svg aria-hidden="true" height="16" viewBox="0 0 16 16" version="1.1" width="16" data-view-component="true" class="octicon octicon-table">
    <path d="M0 1.75C0 .784.784 0 1.75 0h12.5C15.216 0 16 .784 16 1.75v12.5A1.75 1.75 0 0 1 14.25 16H1.75A1.75 1.75 0 0 1 0 14.25ZM6.5 6.5v8h7.75a.25.25 0 0 0 .25-.25V6.5Zm8-1.5V1.75a.25.25 0 0 0-.25-.25H6.5V5Zm-13 1.5v7.75c0 .138.112.25.25.25H5v-8ZM5 5V1.5H1.75a.25.25 0 0 0-.25.25V5Z"></path>
</svg>
        </span>
      
        <span data-view-component="true" class="ActionListItem-label">
          Projects
</span>      
</a>
  
</li>

        
          
<li data-item-id="" data-targets="nav-list.items" data-view-component="true" class="ActionListItem">
    
    
    <a data-analytics-event="{&quot;category&quot;:&quot;Global navigation&quot;,&quot;action&quot;:&quot;DISCUSSIONS&quot;,&quot;label&quot;:null}" id="item-5598dd68-ea07-4aa5-97b1-9b619d673ab2" href="/discussions" data-view-component="true" class="ActionListContent ActionListContent--visual16">
        <span class="ActionListItem-visual ActionListItem-visual--leading">
          <svg aria-hidden="true" height="16" viewBox="0 0 16 16" version="1.1" width="16" data-view-component="true" class="octicon octicon-comment-discussion">
    <path d="M1.75 1h8.5c.966 0 1.75.784 1.75 1.75v5.5A1.75 1.75 0 0 1 10.25 10H7.061l-2.574 2.573A1.458 1.458 0 0 1 2 11.543V10h-.25A1.75 1.75 0 0 1 0 8.25v-5.5C0 1.784.784 1 1.75 1ZM1.5 2.75v5.5c0 .138.112.25.25.25h1a.75.75 0 0 1 .75.75v2.19l2.72-2.72a.749.749 0 0 1 .53-.22h3.5a.25.25 0 0 0 .25-.25v-5.5a.25.25 0 0 0-.25-.25h-8.5a.25.25 0 0 0-.25.25Zm13 2a.25.25 0 0 0-.25-.25h-.5a.75.75 0 0 1 0-1.5h.5c.966 0 1.75.784 1.75 1.75v5.5A1.75 1.75 0 0 1 14.25 12H14v1.543a1.458 1.458 0 0 1-2.487 1.03L9.22 12.28a.749.749 0 0 1 .326-1.275.749.749 0 0 1 .734.215l2.22 2.22v-2.19a.75.75 0 0 1 .75-.75h1a.25.25 0 0 0 .25-.25Z"></path>
</svg>
        </span>
      
        <span data-view-component="true" class="ActionListItem-label">
          Discussions
</span>      
</a>
  
</li>

        
          
<li data-item-id="" data-targets="nav-list.items" data-view-component="true" class="ActionListItem">
    
    
    <a data-analytics-event="{&quot;category&quot;:&quot;Global navigation&quot;,&quot;action&quot;:&quot;CODESPACES&quot;,&quot;label&quot;:null}" id="item-79341855-ea1c-49e3-88e4-f76429abbd85" href="https://github.com/codespaces" data-view-component="true" class="ActionListContent ActionListContent--visual16">
        <span class="ActionListItem-visual ActionListItem-visual--leading">
          <svg aria-hidden="true" height="16" viewBox="0 0 16 16" version="1.1" width="16" data-view-component="true" class="octicon octicon-codespaces">
    <path d="M0 11.25c0-.966.784-1.75 1.75-1.75h12.5c.966 0 1.75.784 1.75 1.75v3A1.75 1.75 0 0 1 14.25 16H1.75A1.75 1.75 0 0 1 0 14.25Zm2-9.5C2 .784 2.784 0 3.75 0h8.5C13.216 0 14 .784 14 1.75v5a1.75 1.75 0 0 1-1.75 1.75h-8.5A1.75 1.75 0 0 1 2 6.75Zm1.75-.25a.25.25 0 0 0-.25.25v5c0 .138.112.25.25.25h8.5a.25.25 0 0 0 .25-.25v-5a.25.25 0 0 0-.25-.25Zm-2 9.5a.25.25 0 0 0-.25.25v3c0 .138.112.25.25.25h12.5a.25.25 0 0 0 .25-.25v-3a.25.25 0 0 0-.25-.25Z"></path><path d="M7 12.75a.75.75 0 0 1 .75-.75h4.5a.75.75 0 0 1 0 1.5h-4.5a.75.75 0 0 1-.75-.75Zm-4 0a.75.75 0 0 1 .75-.75h.5a.75.75 0 0 1 0 1.5h-.5a.75.75 0 0 1-.75-.75Z"></path>
</svg>
        </span>
      
        <span data-view-component="true" class="ActionListItem-label">
          Codespaces
</span>      
</a>
  
</li>

        
          <li role="presentation" aria-hidden="true" data-view-component="true" class="ActionList-sectionDivider"></li>
        
          
<li data-item-id="" data-targets="nav-list.items" data-view-component="true" class="ActionListItem">
    
    
    <a data-analytics-event="{&quot;category&quot;:&quot;Global navigation&quot;,&quot;action&quot;:&quot;EXPLORE&quot;,&quot;label&quot;:null}" id="item-61964c94-7f11-44ce-8858-14dbef4416b8" href="/explore" data-view-component="true" class="ActionListContent ActionListContent--visual16">
        <span class="ActionListItem-visual ActionListItem-visual--leading">
          <svg aria-hidden="true" height="16" viewBox="0 0 16 16" version="1.1" width="16" data-view-component="true" class="octicon octicon-telescope">
    <path d="M14.184 1.143v-.001l1.422 2.464a1.75 1.75 0 0 1-.757 2.451L3.104 11.713a1.75 1.75 0 0 1-2.275-.702l-.447-.775a1.75 1.75 0 0 1 .53-2.32L11.682.573a1.748 1.748 0 0 1 2.502.57Zm-4.709 9.32h-.001l2.644 3.863a.75.75 0 1 1-1.238.848l-1.881-2.75v2.826a.75.75 0 0 1-1.5 0v-2.826l-1.881 2.75a.75.75 0 1 1-1.238-.848l2.049-2.992a.746.746 0 0 1 .293-.253l1.809-.87a.749.749 0 0 1 .944.252ZM9.436 3.92h-.001l-4.97 3.39.942 1.63 5.42-2.61Zm3.091-2.108h.001l-1.85 1.26 1.505 2.605 2.016-.97a.247.247 0 0 0 .13-.151.247.247 0 0 0-.022-.199l-1.422-2.464a.253.253 0 0 0-.161-.119.254.254 0 0 0-.197.038ZM1.756 9.157a.25.25 0 0 0-.075.33l.447.775a.25.25 0 0 0 .325.1l1.598-.769-.83-1.436-1.465 1Z"></path>
</svg>
        </span>
      
        <span data-view-component="true" class="ActionListItem-label">
          Explore
</span>      
</a>
  
</li>

        
          
<li data-item-id="" data-targets="nav-list.items" data-view-component="true" class="ActionListItem">
    
    
    <a data-analytics-event="{&quot;category&quot;:&quot;Global navigation&quot;,&quot;action&quot;:&quot;MARKETPLACE&quot;,&quot;label&quot;:null}" id="item-aa6c141a-e920-4cd2-bdcc-304ad5547bdd" href="/marketplace" data-view-component="true" class="ActionListContent ActionListContent--visual16">
        <span class="ActionListItem-visual ActionListItem-visual--leading">
          <svg aria-hidden="true" height="16" viewBox="0 0 16 16" version="1.1" width="16" data-view-component="true" class="octicon octicon-gift">
    <path d="M2 2.75A2.75 2.75 0 0 1 4.75 0c.983 0 1.873.42 2.57 1.232.268.318.497.668.68 1.042.183-.375.411-.725.68-1.044C9.376.42 10.266 0 11.25 0a2.75 2.75 0 0 1 2.45 4h.55c.966 0 1.75.784 1.75 1.75v2c0 .698-.409 1.301-1 1.582v4.918A1.75 1.75 0 0 1 13.25 16H2.75A1.75 1.75 0 0 1 1 14.25V9.332C.409 9.05 0 8.448 0 7.75v-2C0 4.784.784 4 1.75 4h.55c-.192-.375-.3-.8-.3-1.25ZM7.25 9.5H2.5v4.75c0 .138.112.25.25.25h4.5Zm1.5 0v5h4.5a.25.25 0 0 0 .25-.25V9.5Zm0-4V8h5.5a.25.25 0 0 0 .25-.25v-2a.25.25 0 0 0-.25-.25Zm-7 0a.25.25 0 0 0-.25.25v2c0 .138.112.25.25.25h5.5V5.5h-5.5Zm3-4a1.25 1.25 0 0 0 0 2.5h2.309c-.233-.818-.542-1.401-.878-1.793-.43-.502-.915-.707-1.431-.707ZM8.941 4h2.309a1.25 1.25 0 0 0 0-2.5c-.516 0-1 .205-1.43.707-.337.392-.646.975-.879 1.793Z"></path>
</svg>
        </span>
      
        <span data-view-component="true" class="ActionListItem-label">
          Marketplace
</span>      
</a>
  
</li>

</ul>  </nav-list>
</nav>

        <div data-view-component="true" class="my-3 d-flex flex-justify-center height-full">
          <span data-view-component="true">
  <svg style="box-sizing: content-box; color: var(--color-icon-primary);" width="16" height="16" viewBox="0 0 16 16" fill="none" aria-hidden="true" data-view-component="true" class="anim-rotate">
    <circle cx="8" cy="8" r="7" stroke="currentColor" stroke-opacity="0.25" stroke-width="2" vector-effect="non-scaling-stroke" fill="none" />
    <path d="M15 8a7.002 7.002 0 00-7-7" stroke="currentColor" stroke-width="2" stroke-linecap="round" vector-effect="non-scaling-stroke" />
</svg>    <span class="sr-only">Loading</span>
</span>
</div>
</div>
      <div data-view-component="true" class="flex-1"></div>


      <div data-view-component="true" class="px-2">      <p class="color-fg-subtle text-small text-light">&copy; 2024 GitHub, Inc.</p>

      <div data-view-component="true" class="d-flex flex-wrap text-small text-light">
          <a target="_blank" href="https://github.com/about" data-view-component="true" class="Link mr-2">About</a>
          <a target="_blank" href="https://github.blog" data-view-component="true" class="Link mr-2">Blog</a>
          <a target="_blank" href="https://docs.github.com/site-policy/github-terms/github-terms-of-service" data-view-component="true" class="Link mr-2">Terms</a>
          <a target="_blank" href="https://docs.github.com/site-policy/privacy-policies/github-privacy-statement" data-view-component="true" class="Link mr-2">Privacy</a>
          <a target="_blank" href="https://github.com/security" data-view-component="true" class="Link mr-2">Security</a>
          <a target="_blank" href="https://www.githubstatus.com/" data-view-component="true" class="Link mr-3">Status</a>

</div></div>
</div>
      </scrollable-region>
      
</dialog></dialog-helper>

  </include-fragment>
</deferred-side-panel>

        <a
          class="AppHeader-logo ml-1"
          href="https://github.com/"
          data-hotkey="g d"
          aria-label="Homepage "
          data-turbo="false"
          data-analytics-event="{&quot;category&quot;:&quot;Header&quot;,&quot;action&quot;:&quot;go to dashboard&quot;,&quot;label&quot;:&quot;icon:logo&quot;}"
        >
          <svg height="32" aria-hidden="true" viewBox="0 0 24 24" version="1.1" width="32" data-view-component="true" class="octicon octicon-mark-github v-align-middle">
    <path d="M12.5.75C6.146.75 1 5.896 1 12.25c0 5.089 3.292 9.387 7.863 10.91.575.101.79-.244.79-.546 0-.273-.014-1.178-.014-2.142-2.889.532-3.636-.704-3.866-1.35-.13-.331-.69-1.352-1.18-1.625-.402-.216-.977-.748-.014-.762.906-.014 1.553.834 1.769 1.179 1.035 1.74 2.688 1.25 3.349.948.1-.747.402-1.25.733-1.538-2.559-.287-5.232-1.279-5.232-5.678 0-1.25.445-2.285 1.178-3.09-.115-.288-.517-1.467.115-3.048 0 0 .963-.302 3.163 1.179.92-.259 1.897-.388 2.875-.388.977 0 1.955.13 2.875.388 2.2-1.495 3.162-1.179 3.162-1.179.633 1.581.23 2.76.115 3.048.733.805 1.179 1.825 1.179 3.09 0 4.413-2.688 5.39-5.247 5.678.417.36.776 1.05.776 2.128 0 1.538-.014 2.774-.014 3.162 0 .302.216.662.79.547C20.709 21.637 24 17.324 24 12.25 24 5.896 18.854.75 12.5.75Z"></path>
</svg>
        </a>

          <div class="AppHeader-context" >
  <div class="AppHeader-context-compact">
      <button aria-expanded="false" aria-haspopup="dialog" aria-label="Page context: Aish16032001 / Pythoncourse_assignments" id="dialog-show-context-region-dialog" data-show-dialog-id="context-region-dialog" type="button" data-view-component="true" class="AppHeader-context-compact-trigger Truncate Button--secondary Button--medium Button box-shadow-none">  <span class="Button-content">
    <span class="Button-label"><span class="AppHeader-context-compact-lead">
                <span class="AppHeader-context-compact-parentItem">Aish16032001</span>
                <span class="no-wrap">&nbsp;/</span>

            </span>

            <strong class="AppHeader-context-compact-mainItem d-flex flex-items-center Truncate" >
  <span class="Truncate-text ">Pythoncourse_assignments</span>

</strong></span>
  </span>
</button>

<dialog-helper>
  <dialog id="context-region-dialog" aria-modal="true" aria-labelledby="context-region-dialog-title" aria-describedby="context-region-dialog-description" data-view-component="true" class="Overlay Overlay-whenNarrow Overlay--size-medium Overlay--motion-scaleFade Overlay--disableScroll">
    <div data-view-component="true" class="Overlay-header">
  <div class="Overlay-headerContentWrap">
    <div class="Overlay-titleWrap">
      <h1 class="Overlay-title " id="context-region-dialog-title">
        Navigate back to
      </h1>
        
    </div>
    <div class="Overlay-actionWrap">
      <button data-close-dialog-id="context-region-dialog" aria-label="Close" type="button" data-view-component="true" class="close-button Overlay-closeButton"><svg aria-hidden="true" height="16" viewBox="0 0 16 16" version="1.1" width="16" data-view-component="true" class="octicon octicon-x">
    <path d="M3.72 3.72a.75.75 0 0 1 1.06 0L8 6.94l3.22-3.22a.749.749 0 0 1 1.275.326.749.749 0 0 1-.215.734L9.06 8l3.22 3.22a.749.749 0 0 1-.326 1.275.749.749 0 0 1-.734-.215L8 9.06l-3.22 3.22a.751.751 0 0 1-1.042-.018.751.751 0 0 1-.018-1.042L6.94 8 3.72 4.78a.75.75 0 0 1 0-1.06Z"></path>
</svg></button>
    </div>
  </div>
  
</div>
      <scrollable-region data-labelled-by="context-region-dialog-title">
        <div data-view-component="true" class="Overlay-body">          <ul role="list" class="list-style-none" >
    <li>
      <a data-analytics-event="{&quot;category&quot;:&quot;SiteHeaderComponent&quot;,&quot;action&quot;:&quot;context_region_crumb&quot;,&quot;label&quot;:&quot;Aish16032001&quot;,&quot;screen_size&quot;:&quot;compact&quot;}" href="/Aish16032001" data-view-component="true" class="Link--primary Truncate d-flex flex-items-center py-1">
        <span class="AppHeader-context-item-label Truncate-text ">
            <svg aria-hidden="true" height="12" viewBox="0 0 16 16" version="1.1" width="12" data-view-component="true" class="octicon octicon-person mr-1">
    <path d="M10.561 8.073a6.005 6.005 0 0 1 3.432 5.142.75.75 0 1 1-1.498.07 4.5 4.5 0 0 0-8.99 0 .75.75 0 0 1-1.498-.07 6.004 6.004 0 0 1 3.431-5.142 3.999 3.999 0 1 1 5.123 0ZM10.5 5a2.5 2.5 0 1 0-5 0 2.5 2.5 0 0 0 5 0Z"></path>
</svg>

          Aish16032001
        </span>

</a>
    </li>
    <li>
      <a data-analytics-event="{&quot;category&quot;:&quot;SiteHeaderComponent&quot;,&quot;action&quot;:&quot;context_region_crumb&quot;,&quot;label&quot;:&quot;Pythoncourse_assignments&quot;,&quot;screen_size&quot;:&quot;compact&quot;}" href="/Aish16032001/Pythoncourse_assignments" data-view-component="true" class="Link--primary Truncate d-flex flex-items-center py-1">
        <span class="AppHeader-context-item-label Truncate-text ">
            <svg aria-hidden="true" height="12" viewBox="0 0 16 16" version="1.1" width="12" data-view-component="true" class="octicon octicon-repo mr-1">
    <path d="M2 2.5A2.5 2.5 0 0 1 4.5 0h8.75a.75.75 0 0 1 .75.75v12.5a.75.75 0 0 1-.75.75h-2.5a.75.75 0 0 1 0-1.5h1.75v-2h-8a1 1 0 0 0-.714 1.7.75.75 0 1 1-1.072 1.05A2.495 2.495 0 0 1 2 11.5Zm10.5-1h-8a1 1 0 0 0-1 1v6.708A2.486 2.486 0 0 1 4.5 9h8ZM5 12.25a.25.25 0 0 1 .25-.25h3.5a.25.25 0 0 1 .25.25v3.25a.25.25 0 0 1-.4.2l-1.45-1.087a.249.249 0 0 0-.3 0L5.4 15.7a.25.25 0 0 1-.4-.2Z"></path>
</svg>

          Pythoncourse_assignments
        </span>

</a>
    </li>
</ul>

</div>
      </scrollable-region>
      
</dialog></dialog-helper>
  </div>

  <div class="AppHeader-context-full">
    <nav role="navigation" aria-label="Page context">
      <ul role="list" class="list-style-none" >
    <li>
      <a data-analytics-event="{&quot;category&quot;:&quot;SiteHeaderComponent&quot;,&quot;action&quot;:&quot;context_region_crumb&quot;,&quot;label&quot;:&quot;Aish16032001&quot;,&quot;screen_size&quot;:&quot;full&quot;}" data-hovercard-type="user" data-hovercard-url="/users/Aish16032001/hovercard" data-octo-click="hovercard-link-click" data-octo-dimensions="link_type:self" href="/Aish16032001" data-view-component="true" class="AppHeader-context-item">
        <span class="AppHeader-context-item-label  ">

          Aish16032001
        </span>

</a>
        <span class="AppHeader-context-item-separator">
          <span class='sr-only'>/</span>
          <svg width="16" height="16" viewBox="0 0 16 16" xmlns="http://www.w3.org/2000/svg" aria-hidden="true">
            <path d="M10.956 1.27994L6.06418 14.7201L5 14.7201L9.89181 1.27994L10.956 1.27994Z" fill="currentcolor"/>
          </svg>
        </span>
    </li>
    <li>
      <a data-analytics-event="{&quot;category&quot;:&quot;SiteHeaderComponent&quot;,&quot;action&quot;:&quot;context_region_crumb&quot;,&quot;label&quot;:&quot;Pythoncourse_assignments&quot;,&quot;screen_size&quot;:&quot;full&quot;}" href="/Aish16032001/Pythoncourse_assignments" data-view-component="true" class="AppHeader-context-item">
        <span class="AppHeader-context-item-label  ">

          Pythoncourse_assignments
        </span>

</a>
    </li>
</ul>

    </nav>
  </div>
</div>

      </div>
      <div class="AppHeader-globalBar-end">
          <div class="AppHeader-search" >
              


<qbsearch-input class="search-input" data-scope="repo:Aish16032001/Pythoncourse_assignments" data-custom-scopes-path="/search/custom_scopes" data-delete-custom-scopes-csrf="xvORHsYgfzEjz8aJbB7EAYzZWP94KIuS45PdDjvO4y5dOcpaXamvJZ6CpGRon28TgHszOARO5CezsqMZeNpMYg" data-max-custom-scopes="10" data-header-redesign-enabled="true" data-initial-value="" data-blackbird-suggestions-path="/search/suggestions" data-jump-to-suggestions-path="/_graphql/GetSuggestedNavigationDestinations" data-current-repository="Aish16032001/Pythoncourse_assignments" data-current-org="" data-current-owner="Aish16032001" data-logged-in="true" data-copilot-chat-enabled="false" data-nl-search-enabled="false">
  <div
    class="search-input-container search-with-dialog position-relative d-flex flex-row flex-items-center height-auto color-bg-transparent border-0 color-fg-subtle mx-0"
    data-action="click:qbsearch-input#searchInputContainerClicked"
  >
      
            <button type="button" data-action="click:qbsearch-input#handleExpand" class="AppHeader-button AppHeader-search-whenNarrow" aria-label="Search or jump to…" aria-expanded="false" aria-haspopup="dialog">
            <svg aria-hidden="true" height="16" viewBox="0 0 16 16" version="1.1" width="16" data-view-component="true" class="octicon octicon-search">
    <path d="M10.68 11.74a6 6 0 0 1-7.922-8.982 6 6 0 0 1 8.982 7.922l3.04 3.04a.749.749 0 0 1-.326 1.275.749.749 0 0 1-.734-.215ZM11.5 7a4.499 4.499 0 1 0-8.997 0A4.499 4.499 0 0 0 11.5 7Z"></path>
</svg>
          </button>


<div class="AppHeader-search-whenRegular">
  <div class="AppHeader-search-wrap AppHeader-search-wrap--hasTrailing">
    <div class="AppHeader-search-control">
      <label
        for="AppHeader-searchInput"
        aria-label="Search or jump to…"
        class="AppHeader-search-visual--leading"
      >
        <svg aria-hidden="true" height="16" viewBox="0 0 16 16" version="1.1" width="16" data-view-component="true" class="octicon octicon-search">
    <path d="M10.68 11.74a6 6 0 0 1-7.922-8.982 6 6 0 0 1 8.982 7.922l3.04 3.04a.749.749 0 0 1-.326 1.275.749.749 0 0 1-.734-.215ZM11.5 7a4.499 4.499 0 1 0-8.997 0A4.499 4.499 0 0 0 11.5 7Z"></path>
</svg>
      </label>

                <button
            type="button"
            data-target="qbsearch-input.inputButton"
            data-action="click:qbsearch-input#handleExpand"
            class="AppHeader-searchButton form-control input-contrast text-left color-fg-subtle no-wrap"
            data-hotkey="s,/"
            data-analytics-event="{&quot;location&quot;:&quot;navbar&quot;,&quot;action&quot;:&quot;searchbar&quot;,&quot;context&quot;:&quot;global&quot;,&quot;tag&quot;:&quot;input&quot;,&quot;label&quot;:&quot;searchbar_input_global_navbar&quot;}"
            aria-describedby="search-error-message-flash"
          >
            <div class="overflow-hidden">
              <span id="qb-input-query" data-target="qbsearch-input.inputButtonText">
                  Type <kbd class="AppHeader-search-kbd">/</kbd> to search
              </span>
            </div>
          </button>

    </div>


  </div>
</div>

    <input type="hidden" name="type" class="js-site-search-type-field">

    
<div class="Overlay--hidden " data-modal-dialog-overlay>
  <modal-dialog data-action="close:qbsearch-input#handleClose cancel:qbsearch-input#handleClose" data-target="qbsearch-input.searchSuggestionsDialog" role="dialog" id="search-suggestions-dialog" aria-modal="true" aria-labelledby="search-suggestions-dialog-header" data-view-component="true" class="Overlay Overlay--width-medium Overlay--height-auto">
      <h1 id="search-suggestions-dialog-header" class="sr-only">Search code, repositories, users, issues, pull requests...</h1>
    <div class="Overlay-body Overlay-body--paddingNone">
      
          <div data-view-component="true">        <div class="search-suggestions position-absolute width-full color-shadow-large border color-fg-default color-bg-default overflow-hidden d-flex flex-column query-builder-container"
          style="border-radius: 12px;"
          data-target="qbsearch-input.queryBuilderContainer"
          hidden
        >
          <!-- '"` --><!-- </textarea></xmp> --></option></form><form id="query-builder-test-form" action="" accept-charset="UTF-8" method="get">
  <query-builder data-target="qbsearch-input.queryBuilder" id="query-builder-query-builder-test" data-filter-key=":" data-view-component="true" class="QueryBuilder search-query-builder">
    <div class="FormControl FormControl--fullWidth">
      <label id="query-builder-test-label" for="query-builder-test" class="FormControl-label sr-only">
        Search
      </label>
      <div
        class="QueryBuilder-StyledInput width-fit "
        data-target="query-builder.styledInput"
      >
          <span id="query-builder-test-leadingvisual-wrap" class="FormControl-input-leadingVisualWrap QueryBuilder-leadingVisualWrap">
            <svg aria-hidden="true" height="16" viewBox="0 0 16 16" version="1.1" width="16" data-view-component="true" class="octicon octicon-search FormControl-input-leadingVisual">
    <path d="M10.68 11.74a6 6 0 0 1-7.922-8.982 6 6 0 0 1 8.982 7.922l3.04 3.04a.749.749 0 0 1-.326 1.275.749.749 0 0 1-.734-.215ZM11.5 7a4.499 4.499 0 1 0-8.997 0A4.499 4.499 0 0 0 11.5 7Z"></path>
</svg>
          </span>
        <div data-target="query-builder.styledInputContainer" class="QueryBuilder-StyledInputContainer">
          <div
            aria-hidden="true"
            class="QueryBuilder-StyledInputContent"
            data-target="query-builder.styledInputContent"
          ></div>
          <div class="QueryBuilder-InputWrapper">
            <div aria-hidden="true" class="QueryBuilder-Sizer" data-target="query-builder.sizer"></div>
            <input id="query-builder-test" name="query-builder-test" value="" autocomplete="off" type="text" role="combobox" spellcheck="false" aria-expanded="false" aria-describedby="validation-1bf46187-0059-4080-b7e4-ce2fb1b8054e" data-target="query-builder.input" data-action="
          input:query-builder#inputChange
          blur:query-builder#inputBlur
          keydown:query-builder#inputKeydown
          focus:query-builder#inputFocus
        " data-view-component="true" class="FormControl-input QueryBuilder-Input FormControl-medium" />
          </div>
        </div>
          <span class="sr-only" id="query-builder-test-clear">Clear</span>
          <button role="button" id="query-builder-test-clear-button" aria-labelledby="query-builder-test-clear query-builder-test-label" data-target="query-builder.clearButton" data-action="
                click:query-builder#clear
                focus:query-builder#clearButtonFocus
                blur:query-builder#clearButtonBlur
              " variant="small" hidden="hidden" type="button" data-view-component="true" class="Button Button--iconOnly Button--invisible Button--medium mr-1 px-2 py-0 d-flex flex-items-center rounded-1 color-fg-muted">  <svg aria-hidden="true" height="16" viewBox="0 0 16 16" version="1.1" width="16" data-view-component="true" class="octicon octicon-x-circle-fill Button-visual">
    <path d="M2.343 13.657A8 8 0 1 1 13.658 2.343 8 8 0 0 1 2.343 13.657ZM6.03 4.97a.751.751 0 0 0-1.042.018.751.751 0 0 0-.018 1.042L6.94 8 4.97 9.97a.749.749 0 0 0 .326 1.275.749.749 0 0 0 .734-.215L8 9.06l1.97 1.97a.749.749 0 0 0 1.275-.326.749.749 0 0 0-.215-.734L9.06 8l1.97-1.97a.749.749 0 0 0-.326-1.275.749.749 0 0 0-.734.215L8 6.94Z"></path>
</svg>
</button>

      </div>
      <template id="search-icon">
  <svg aria-hidden="true" height="16" viewBox="0 0 16 16" version="1.1" width="16" data-view-component="true" class="octicon octicon-search">
    <path d="M10.68 11.74a6 6 0 0 1-7.922-8.982 6 6 0 0 1 8.982 7.922l3.04 3.04a.749.749 0 0 1-.326 1.275.749.749 0 0 1-.734-.215ZM11.5 7a4.499 4.499 0 1 0-8.997 0A4.499 4.499 0 0 0 11.5 7Z"></path>
</svg>
</template>

<template id="code-icon">
  <svg aria-hidden="true" height="16" viewBox="0 0 16 16" version="1.1" width="16" data-view-component="true" class="octicon octicon-code">
    <path d="m11.28 3.22 4.25 4.25a.75.75 0 0 1 0 1.06l-4.25 4.25a.749.749 0 0 1-1.275-.326.749.749 0 0 1 .215-.734L13.94 8l-3.72-3.72a.749.749 0 0 1 .326-1.275.749.749 0 0 1 .734.215Zm-6.56 0a.751.751 0 0 1 1.042.018.751.751 0 0 1 .018 1.042L2.06 8l3.72 3.72a.749.749 0 0 1-.326 1.275.749.749 0 0 1-.734-.215L.47 8.53a.75.75 0 0 1 0-1.06Z"></path>
</svg>
</template>

<template id="file-code-icon">
  <svg aria-hidden="true" height="16" viewBox="0 0 16 16" version="1.1" width="16" data-view-component="true" class="octicon octicon-file-code">
    <path d="M4 1.75C4 .784 4.784 0 5.75 0h5.586c.464 0 .909.184 1.237.513l2.914 2.914c.329.328.513.773.513 1.237v8.586A1.75 1.75 0 0 1 14.25 15h-9a.75.75 0 0 1 0-1.5h9a.25.25 0 0 0 .25-.25V6h-2.75A1.75 1.75 0 0 1 10 4.25V1.5H5.75a.25.25 0 0 0-.25.25v2.5a.75.75 0 0 1-1.5 0Zm1.72 4.97a.75.75 0 0 1 1.06 0l2 2a.75.75 0 0 1 0 1.06l-2 2a.749.749 0 0 1-1.275-.326.749.749 0 0 1 .215-.734l1.47-1.47-1.47-1.47a.75.75 0 0 1 0-1.06ZM3.28 7.78 1.81 9.25l1.47 1.47a.751.751 0 0 1-.018 1.042.751.751 0 0 1-1.042.018l-2-2a.75.75 0 0 1 0-1.06l2-2a.751.751 0 0 1 1.042.018.751.751 0 0 1 .018 1.042Zm8.22-6.218V4.25c0 .138.112.25.25.25h2.688l-.011-.013-2.914-2.914-.013-.011Z"></path>
</svg>
</template>

<template id="history-icon">
  <svg aria-hidden="true" height="16" viewBox="0 0 16 16" version="1.1" width="16" data-view-component="true" class="octicon octicon-history">
    <path d="m.427 1.927 1.215 1.215a8.002 8.002 0 1 1-1.6 5.685.75.75 0 1 1 1.493-.154 6.5 6.5 0 1 0 1.18-4.458l1.358 1.358A.25.25 0 0 1 3.896 6H.25A.25.25 0 0 1 0 5.75V2.104a.25.25 0 0 1 .427-.177ZM7.75 4a.75.75 0 0 1 .75.75v2.992l2.028.812a.75.75 0 0 1-.557 1.392l-2.5-1A.751.751 0 0 1 7 8.25v-3.5A.75.75 0 0 1 7.75 4Z"></path>
</svg>
</template>

<template id="repo-icon">
  <svg aria-hidden="true" height="16" viewBox="0 0 16 16" version="1.1" width="16" data-view-component="true" class="octicon octicon-repo">
    <path d="M2 2.5A2.5 2.5 0 0 1 4.5 0h8.75a.75.75 0 0 1 .75.75v12.5a.75.75 0 0 1-.75.75h-2.5a.75.75 0 0 1 0-1.5h1.75v-2h-8a1 1 0 0 0-.714 1.7.75.75 0 1 1-1.072 1.05A2.495 2.495 0 0 1 2 11.5Zm10.5-1h-8a1 1 0 0 0-1 1v6.708A2.486 2.486 0 0 1 4.5 9h8ZM5 12.25a.25.25 0 0 1 .25-.25h3.5a.25.25 0 0 1 .25.25v3.25a.25.25 0 0 1-.4.2l-1.45-1.087a.249.249 0 0 0-.3 0L5.4 15.7a.25.25 0 0 1-.4-.2Z"></path>
</svg>
</template>

<template id="bookmark-icon">
  <svg aria-hidden="true" height="16" viewBox="0 0 16 16" version="1.1" width="16" data-view-component="true" class="octicon octicon-bookmark">
    <path d="M3 2.75C3 1.784 3.784 1 4.75 1h6.5c.966 0 1.75.784 1.75 1.75v11.5a.75.75 0 0 1-1.227.579L8 11.722l-3.773 3.107A.751.751 0 0 1 3 14.25Zm1.75-.25a.25.25 0 0 0-.25.25v9.91l3.023-2.489a.75.75 0 0 1 .954 0l3.023 2.49V2.75a.25.25 0 0 0-.25-.25Z"></path>
</svg>
</template>

<template id="plus-circle-icon">
  <svg aria-hidden="true" height="16" viewBox="0 0 16 16" version="1.1" width="16" data-view-component="true" class="octicon octicon-plus-circle">
    <path d="M8 0a8 8 0 1 1 0 16A8 8 0 0 1 8 0ZM1.5 8a6.5 6.5 0 1 0 13 0 6.5 6.5 0 0 0-13 0Zm7.25-3.25v2.5h2.5a.75.75 0 0 1 0 1.5h-2.5v2.5a.75.75 0 0 1-1.5 0v-2.5h-2.5a.75.75 0 0 1 0-1.5h2.5v-2.5a.75.75 0 0 1 1.5 0Z"></path>
</svg>
</template>

<template id="circle-icon">
  <svg aria-hidden="true" height="16" viewBox="0 0 16 16" version="1.1" width="16" data-view-component="true" class="octicon octicon-dot-fill">
    <path d="M8 4a4 4 0 1 1 0 8 4 4 0 0 1 0-8Z"></path>
</svg>
</template>

<template id="trash-icon">
  <svg aria-hidden="true" height="16" viewBox="0 0 16 16" version="1.1" width="16" data-view-component="true" class="octicon octicon-trash">
    <path d="M11 1.75V3h2.25a.75.75 0 0 1 0 1.5H2.75a.75.75 0 0 1 0-1.5H5V1.75C5 .784 5.784 0 6.75 0h2.5C10.216 0 11 .784 11 1.75ZM4.496 6.675l.66 6.6a.25.25 0 0 0 .249.225h5.19a.25.25 0 0 0 .249-.225l.66-6.6a.75.75 0 0 1 1.492.149l-.66 6.6A1.748 1.748 0 0 1 10.595 15h-5.19a1.75 1.75 0 0 1-1.741-1.575l-.66-6.6a.75.75 0 1 1 1.492-.15ZM6.5 1.75V3h3V1.75a.25.25 0 0 0-.25-.25h-2.5a.25.25 0 0 0-.25.25Z"></path>
</svg>
</template>

<template id="team-icon">
  <svg aria-hidden="true" height="16" viewBox="0 0 16 16" version="1.1" width="16" data-view-component="true" class="octicon octicon-people">
    <path d="M2 5.5a3.5 3.5 0 1 1 5.898 2.549 5.508 5.508 0 0 1 3.034 4.084.75.75 0 1 1-1.482.235 4 4 0 0 0-7.9 0 .75.75 0 0 1-1.482-.236A5.507 5.507 0 0 1 3.102 8.05 3.493 3.493 0 0 1 2 5.5ZM11 4a3.001 3.001 0 0 1 2.22 5.018 5.01 5.01 0 0 1 2.56 3.012.749.749 0 0 1-.885.954.752.752 0 0 1-.549-.514 3.507 3.507 0 0 0-2.522-2.372.75.75 0 0 1-.574-.73v-.352a.75.75 0 0 1 .416-.672A1.5 1.5 0 0 0 11 5.5.75.75 0 0 1 11 4Zm-5.5-.5a2 2 0 1 0-.001 3.999A2 2 0 0 0 5.5 3.5Z"></path>
</svg>
</template>

<template id="project-icon">
  <svg aria-hidden="true" height="16" viewBox="0 0 16 16" version="1.1" width="16" data-view-component="true" class="octicon octicon-project">
    <path d="M1.75 0h12.5C15.216 0 16 .784 16 1.75v12.5A1.75 1.75 0 0 1 14.25 16H1.75A1.75 1.75 0 0 1 0 14.25V1.75C0 .784.784 0 1.75 0ZM1.5 1.75v12.5c0 .138.112.25.25.25h12.5a.25.25 0 0 0 .25-.25V1.75a.25.25 0 0 0-.25-.25H1.75a.25.25 0 0 0-.25.25ZM11.75 3a.75.75 0 0 1 .75.75v7.5a.75.75 0 0 1-1.5 0v-7.5a.75.75 0 0 1 .75-.75Zm-8.25.75a.75.75 0 0 1 1.5 0v5.5a.75.75 0 0 1-1.5 0ZM8 3a.75.75 0 0 1 .75.75v3.5a.75.75 0 0 1-1.5 0v-3.5A.75.75 0 0 1 8 3Z"></path>
</svg>
</template>

<template id="pencil-icon">
  <svg aria-hidden="true" height="16" viewBox="0 0 16 16" version="1.1" width="16" data-view-component="true" class="octicon octicon-pencil">
    <path d="M11.013 1.427a1.75 1.75 0 0 1 2.474 0l1.086 1.086a1.75 1.75 0 0 1 0 2.474l-8.61 8.61c-.21.21-.47.364-.756.445l-3.251.93a.75.75 0 0 1-.927-.928l.929-3.25c.081-.286.235-.547.445-.758l8.61-8.61Zm.176 4.823L9.75 4.81l-6.286 6.287a.253.253 0 0 0-.064.108l-.558 1.953 1.953-.558a.253.253 0 0 0 .108-.064Zm1.238-3.763a.25.25 0 0 0-.354 0L10.811 3.75l1.439 1.44 1.263-1.263a.25.25 0 0 0 0-.354Z"></path>
</svg>
</template>

<template id="copilot-icon">
  <svg aria-hidden="true" height="16" viewBox="0 0 16 16" version="1.1" width="16" data-view-component="true" class="octicon octicon-copilot">
    <path d="M7.998 15.035c-4.562 0-7.873-2.914-7.998-3.749V9.338c.085-.628.677-1.686 1.588-2.065.013-.07.024-.143.036-.218.029-.183.06-.384.126-.612-.201-.508-.254-1.084-.254-1.656 0-.87.128-1.769.693-2.484.579-.733 1.494-1.124 2.724-1.261 1.206-.134 2.262.034 2.944.765.05.053.096.108.139.165.044-.057.094-.112.143-.165.682-.731 1.738-.899 2.944-.765 1.23.137 2.145.528 2.724 1.261.566.715.693 1.614.693 2.484 0 .572-.053 1.148-.254 1.656.066.228.098.429.126.612.012.076.024.148.037.218.924.385 1.522 1.471 1.591 2.095v1.872c0 .766-3.351 3.795-8.002 3.795Zm0-1.485c2.28 0 4.584-1.11 5.002-1.433V7.862l-.023-.116c-.49.21-1.075.291-1.727.291-1.146 0-2.059-.327-2.71-.991A3.222 3.222 0 0 1 8 6.303a3.24 3.24 0 0 1-.544.743c-.65.664-1.563.991-2.71.991-.652 0-1.236-.081-1.727-.291l-.023.116v4.255c.419.323 2.722 1.433 5.002 1.433ZM6.762 2.83c-.193-.206-.637-.413-1.682-.297-1.019.113-1.479.404-1.713.7-.247.312-.369.789-.369 1.554 0 .793.129 1.171.308 1.371.162.181.519.379 1.442.379.853 0 1.339-.235 1.638-.54.315-.322.527-.827.617-1.553.117-.935-.037-1.395-.241-1.614Zm4.155-.297c-1.044-.116-1.488.091-1.681.297-.204.219-.359.679-.242 1.614.091.726.303 1.231.618 1.553.299.305.784.54 1.638.54.922 0 1.28-.198 1.442-.379.179-.2.308-.578.308-1.371 0-.765-.123-1.242-.37-1.554-.233-.296-.693-.587-1.713-.7Z"></path><path d="M6.25 9.037a.75.75 0 0 1 .75.75v1.501a.75.75 0 0 1-1.5 0V9.787a.75.75 0 0 1 .75-.75Zm4.25.75v1.501a.75.75 0 0 1-1.5 0V9.787a.75.75 0 0 1 1.5 0Z"></path>
</svg>
</template>

<template id="copilot-error-icon">
  <svg aria-hidden="true" height="16" viewBox="0 0 16 16" version="1.1" width="16" data-view-component="true" class="octicon octicon-copilot-error">
    <path d="M16 11.24c0 .112-.072.274-.21.467L13 9.688V7.862l-.023-.116c-.49.21-1.075.291-1.727.291-.198 0-.388-.009-.571-.029L6.833 5.226a4.01 4.01 0 0 0 .17-.782c.117-.935-.037-1.395-.241-1.614-.193-.206-.637-.413-1.682-.297-.683.076-1.115.231-1.395.415l-1.257-.91c.579-.564 1.413-.877 2.485-.996 1.206-.134 2.262.034 2.944.765.05.053.096.108.139.165.044-.057.094-.112.143-.165.682-.731 1.738-.899 2.944-.765 1.23.137 2.145.528 2.724 1.261.566.715.693 1.614.693 2.484 0 .572-.053 1.148-.254 1.656.066.228.098.429.126.612.012.076.024.148.037.218.924.385 1.522 1.471 1.591 2.095Zm-5.083-8.707c-1.044-.116-1.488.091-1.681.297-.204.219-.359.679-.242 1.614.091.726.303 1.231.618 1.553.299.305.784.54 1.638.54.922 0 1.28-.198 1.442-.379.179-.2.308-.578.308-1.371 0-.765-.123-1.242-.37-1.554-.233-.296-.693-.587-1.713-.7Zm2.511 11.074c-1.393.776-3.272 1.428-5.43 1.428-4.562 0-7.873-2.914-7.998-3.749V9.338c.085-.628.677-1.686 1.588-2.065.013-.07.024-.143.036-.218.029-.183.06-.384.126-.612-.18-.455-.241-.963-.252-1.475L.31 4.107A.747.747 0 0 1 0 3.509V3.49a.748.748 0 0 1 .625-.73c.156-.026.306.047.435.139l14.667 10.578a.592.592 0 0 1 .227.264.752.752 0 0 1 .046.249v.022a.75.75 0 0 1-1.19.596Zm-1.367-.991L5.635 7.964a5.128 5.128 0 0 1-.889.073c-.652 0-1.236-.081-1.727-.291l-.023.116v4.255c.419.323 2.722 1.433 5.002 1.433 1.539 0 3.089-.505 4.063-.934Z"></path>
</svg>
</template>

<template id="workflow-icon">
  <svg aria-hidden="true" height="16" viewBox="0 0 16 16" version="1.1" width="16" data-view-component="true" class="octicon octicon-workflow">
    <path d="M0 1.75C0 .784.784 0 1.75 0h3.5C6.216 0 7 .784 7 1.75v3.5A1.75 1.75 0 0 1 5.25 7H4v4a1 1 0 0 0 1 1h4v-1.25C9 9.784 9.784 9 10.75 9h3.5c.966 0 1.75.784 1.75 1.75v3.5A1.75 1.75 0 0 1 14.25 16h-3.5A1.75 1.75 0 0 1 9 14.25v-.75H5A2.5 2.5 0 0 1 2.5 11V7h-.75A1.75 1.75 0 0 1 0 5.25Zm1.75-.25a.25.25 0 0 0-.25.25v3.5c0 .138.112.25.25.25h3.5a.25.25 0 0 0 .25-.25v-3.5a.25.25 0 0 0-.25-.25Zm9 9a.25.25 0 0 0-.25.25v3.5c0 .138.112.25.25.25h3.5a.25.25 0 0 0 .25-.25v-3.5a.25.25 0 0 0-.25-.25Z"></path>
</svg>
</template>

<template id="book-icon">
  <svg aria-hidden="true" height="16" viewBox="0 0 16 16" version="1.1" width="16" data-view-component="true" class="octicon octicon-book">
    <path d="M0 1.75A.75.75 0 0 1 .75 1h4.253c1.227 0 2.317.59 3 1.501A3.743 3.743 0 0 1 11.006 1h4.245a.75.75 0 0 1 .75.75v10.5a.75.75 0 0 1-.75.75h-4.507a2.25 2.25 0 0 0-1.591.659l-.622.621a.75.75 0 0 1-1.06 0l-.622-.621A2.25 2.25 0 0 0 5.258 13H.75a.75.75 0 0 1-.75-.75Zm7.251 10.324.004-5.073-.002-2.253A2.25 2.25 0 0 0 5.003 2.5H1.5v9h3.757a3.75 3.75 0 0 1 1.994.574ZM8.755 4.75l-.004 7.322a3.752 3.752 0 0 1 1.992-.572H14.5v-9h-3.495a2.25 2.25 0 0 0-2.25 2.25Z"></path>
</svg>
</template>

<template id="code-review-icon">
  <svg aria-hidden="true" height="16" viewBox="0 0 16 16" version="1.1" width="16" data-view-component="true" class="octicon octicon-code-review">
    <path d="M1.75 1h12.5c.966 0 1.75.784 1.75 1.75v8.5A1.75 1.75 0 0 1 14.25 13H8.061l-2.574 2.573A1.458 1.458 0 0 1 3 14.543V13H1.75A1.75 1.75 0 0 1 0 11.25v-8.5C0 1.784.784 1 1.75 1ZM1.5 2.75v8.5c0 .138.112.25.25.25h2a.75.75 0 0 1 .75.75v2.19l2.72-2.72a.749.749 0 0 1 .53-.22h6.5a.25.25 0 0 0 .25-.25v-8.5a.25.25 0 0 0-.25-.25H1.75a.25.25 0 0 0-.25.25Zm5.28 1.72a.75.75 0 0 1 0 1.06L5.31 7l1.47 1.47a.751.751 0 0 1-.018 1.042.751.751 0 0 1-1.042.018l-2-2a.75.75 0 0 1 0-1.06l2-2a.75.75 0 0 1 1.06 0Zm2.44 0a.75.75 0 0 1 1.06 0l2 2a.75.75 0 0 1 0 1.06l-2 2a.751.751 0 0 1-1.042-.018.751.751 0 0 1-.018-1.042L10.69 7 9.22 5.53a.75.75 0 0 1 0-1.06Z"></path>
</svg>
</template>

<template id="codespaces-icon">
  <svg aria-hidden="true" height="16" viewBox="0 0 16 16" version="1.1" width="16" data-view-component="true" class="octicon octicon-codespaces">
    <path d="M0 11.25c0-.966.784-1.75 1.75-1.75h12.5c.966 0 1.75.784 1.75 1.75v3A1.75 1.75 0 0 1 14.25 16H1.75A1.75 1.75 0 0 1 0 14.25Zm2-9.5C2 .784 2.784 0 3.75 0h8.5C13.216 0 14 .784 14 1.75v5a1.75 1.75 0 0 1-1.75 1.75h-8.5A1.75 1.75 0 0 1 2 6.75Zm1.75-.25a.25.25 0 0 0-.25.25v5c0 .138.112.25.25.25h8.5a.25.25 0 0 0 .25-.25v-5a.25.25 0 0 0-.25-.25Zm-2 9.5a.25.25 0 0 0-.25.25v3c0 .138.112.25.25.25h12.5a.25.25 0 0 0 .25-.25v-3a.25.25 0 0 0-.25-.25Z"></path><path d="M7 12.75a.75.75 0 0 1 .75-.75h4.5a.75.75 0 0 1 0 1.5h-4.5a.75.75 0 0 1-.75-.75Zm-4 0a.75.75 0 0 1 .75-.75h.5a.75.75 0 0 1 0 1.5h-.5a.75.75 0 0 1-.75-.75Z"></path>
</svg>
</template>

<template id="comment-icon">
  <svg aria-hidden="true" height="16" viewBox="0 0 16 16" version="1.1" width="16" data-view-component="true" class="octicon octicon-comment">
    <path d="M1 2.75C1 1.784 1.784 1 2.75 1h10.5c.966 0 1.75.784 1.75 1.75v7.5A1.75 1.75 0 0 1 13.25 12H9.06l-2.573 2.573A1.458 1.458 0 0 1 4 13.543V12H2.75A1.75 1.75 0 0 1 1 10.25Zm1.75-.25a.25.25 0 0 0-.25.25v7.5c0 .138.112.25.25.25h2a.75.75 0 0 1 .75.75v2.19l2.72-2.72a.749.749 0 0 1 .53-.22h4.5a.25.25 0 0 0 .25-.25v-7.5a.25.25 0 0 0-.25-.25Z"></path>
</svg>
</template>

<template id="comment-discussion-icon">
  <svg aria-hidden="true" height="16" viewBox="0 0 16 16" version="1.1" width="16" data-view-component="true" class="octicon octicon-comment-discussion">
    <path d="M1.75 1h8.5c.966 0 1.75.784 1.75 1.75v5.5A1.75 1.75 0 0 1 10.25 10H7.061l-2.574 2.573A1.458 1.458 0 0 1 2 11.543V10h-.25A1.75 1.75 0 0 1 0 8.25v-5.5C0 1.784.784 1 1.75 1ZM1.5 2.75v5.5c0 .138.112.25.25.25h1a.75.75 0 0 1 .75.75v2.19l2.72-2.72a.749.749 0 0 1 .53-.22h3.5a.25.25 0 0 0 .25-.25v-5.5a.25.25 0 0 0-.25-.25h-8.5a.25.25 0 0 0-.25.25Zm13 2a.25.25 0 0 0-.25-.25h-.5a.75.75 0 0 1 0-1.5h.5c.966 0 1.75.784 1.75 1.75v5.5A1.75 1.75 0 0 1 14.25 12H14v1.543a1.458 1.458 0 0 1-2.487 1.03L9.22 12.28a.749.749 0 0 1 .326-1.275.749.749 0 0 1 .734.215l2.22 2.22v-2.19a.75.75 0 0 1 .75-.75h1a.25.25 0 0 0 .25-.25Z"></path>
</svg>
</template>

<template id="organization-icon">
  <svg aria-hidden="true" height="16" viewBox="0 0 16 16" version="1.1" width="16" data-view-component="true" class="octicon octicon-organization">
    <path d="M1.75 16A1.75 1.75 0 0 1 0 14.25V1.75C0 .784.784 0 1.75 0h8.5C11.216 0 12 .784 12 1.75v12.5c0 .085-.006.168-.018.25h2.268a.25.25 0 0 0 .25-.25V8.285a.25.25 0 0 0-.111-.208l-1.055-.703a.749.749 0 1 1 .832-1.248l1.055.703c.487.325.779.871.779 1.456v5.965A1.75 1.75 0 0 1 14.25 16h-3.5a.766.766 0 0 1-.197-.026c-.099.017-.2.026-.303.026h-3a.75.75 0 0 1-.75-.75V14h-1v1.25a.75.75 0 0 1-.75.75Zm-.25-1.75c0 .138.112.25.25.25H4v-1.25a.75.75 0 0 1 .75-.75h2.5a.75.75 0 0 1 .75.75v1.25h2.25a.25.25 0 0 0 .25-.25V1.75a.25.25 0 0 0-.25-.25h-8.5a.25.25 0 0 0-.25.25ZM3.75 6h.5a.75.75 0 0 1 0 1.5h-.5a.75.75 0 0 1 0-1.5ZM3 3.75A.75.75 0 0 1 3.75 3h.5a.75.75 0 0 1 0 1.5h-.5A.75.75 0 0 1 3 3.75Zm4 3A.75.75 0 0 1 7.75 6h.5a.75.75 0 0 1 0 1.5h-.5A.75.75 0 0 1 7 6.75ZM7.75 3h.5a.75.75 0 0 1 0 1.5h-.5a.75.75 0 0 1 0-1.5ZM3 9.75A.75.75 0 0 1 3.75 9h.5a.75.75 0 0 1 0 1.5h-.5A.75.75 0 0 1 3 9.75ZM7.75 9h.5a.75.75 0 0 1 0 1.5h-.5a.75.75 0 0 1 0-1.5Z"></path>
</svg>
</template>

<template id="rocket-icon">
  <svg aria-hidden="true" height="16" viewBox="0 0 16 16" version="1.1" width="16" data-view-component="true" class="octicon octicon-rocket">
    <path d="M14.064 0h.186C15.216 0 16 .784 16 1.75v.186a8.752 8.752 0 0 1-2.564 6.186l-.458.459c-.314.314-.641.616-.979.904v3.207c0 .608-.315 1.172-.833 1.49l-2.774 1.707a.749.749 0 0 1-1.11-.418l-.954-3.102a1.214 1.214 0 0 1-.145-.125L3.754 9.816a1.218 1.218 0 0 1-.124-.145L.528 8.717a.749.749 0 0 1-.418-1.11l1.71-2.774A1.748 1.748 0 0 1 3.31 4h3.204c.288-.338.59-.665.904-.979l.459-.458A8.749 8.749 0 0 1 14.064 0ZM8.938 3.623h-.002l-.458.458c-.76.76-1.437 1.598-2.02 2.5l-1.5 2.317 2.143 2.143 2.317-1.5c.902-.583 1.74-1.26 2.499-2.02l.459-.458a7.25 7.25 0 0 0 2.123-5.127V1.75a.25.25 0 0 0-.25-.25h-.186a7.249 7.249 0 0 0-5.125 2.123ZM3.56 14.56c-.732.732-2.334 1.045-3.005 1.148a.234.234 0 0 1-.201-.064.234.234 0 0 1-.064-.201c.103-.671.416-2.273 1.15-3.003a1.502 1.502 0 1 1 2.12 2.12Zm6.94-3.935c-.088.06-.177.118-.266.175l-2.35 1.521.548 1.783 1.949-1.2a.25.25 0 0 0 .119-.213ZM3.678 8.116 5.2 5.766c.058-.09.117-.178.176-.266H3.309a.25.25 0 0 0-.213.119l-1.2 1.95ZM12 5a1 1 0 1 1-2 0 1 1 0 0 1 2 0Z"></path>
</svg>
</template>

<template id="shield-check-icon">
  <svg aria-hidden="true" height="16" viewBox="0 0 16 16" version="1.1" width="16" data-view-component="true" class="octicon octicon-shield-check">
    <path d="m8.533.133 5.25 1.68A1.75 1.75 0 0 1 15 3.48V7c0 1.566-.32 3.182-1.303 4.682-.983 1.498-2.585 2.813-5.032 3.855a1.697 1.697 0 0 1-1.33 0c-2.447-1.042-4.049-2.357-5.032-3.855C1.32 10.182 1 8.566 1 7V3.48a1.75 1.75 0 0 1 1.217-1.667l5.25-1.68a1.748 1.748 0 0 1 1.066 0Zm-.61 1.429.001.001-5.25 1.68a.251.251 0 0 0-.174.237V7c0 1.36.275 2.666 1.057 3.859.784 1.194 2.121 2.342 4.366 3.298a.196.196 0 0 0 .154 0c2.245-.957 3.582-2.103 4.366-3.297C13.225 9.666 13.5 8.358 13.5 7V3.48a.25.25 0 0 0-.174-.238l-5.25-1.68a.25.25 0 0 0-.153 0ZM11.28 6.28l-3.5 3.5a.75.75 0 0 1-1.06 0l-1.5-1.5a.749.749 0 0 1 .326-1.275.749.749 0 0 1 .734.215l.97.97 2.97-2.97a.751.751 0 0 1 1.042.018.751.751 0 0 1 .018 1.042Z"></path>
</svg>
</template>

<template id="heart-icon">
  <svg aria-hidden="true" height="16" viewBox="0 0 16 16" version="1.1" width="16" data-view-component="true" class="octicon octicon-heart">
    <path d="m8 14.25.345.666a.75.75 0 0 1-.69 0l-.008-.004-.018-.01a7.152 7.152 0 0 1-.31-.17 22.055 22.055 0 0 1-3.434-2.414C2.045 10.731 0 8.35 0 5.5 0 2.836 2.086 1 4.25 1 5.797 1 7.153 1.802 8 3.02 8.847 1.802 10.203 1 11.75 1 13.914 1 16 2.836 16 5.5c0 2.85-2.045 5.231-3.885 6.818a22.066 22.066 0 0 1-3.744 2.584l-.018.01-.006.003h-.002ZM4.25 2.5c-1.336 0-2.75 1.164-2.75 3 0 2.15 1.58 4.144 3.365 5.682A20.58 20.58 0 0 0 8 13.393a20.58 20.58 0 0 0 3.135-2.211C12.92 9.644 14.5 7.65 14.5 5.5c0-1.836-1.414-3-2.75-3-1.373 0-2.609.986-3.029 2.456a.749.749 0 0 1-1.442 0C6.859 3.486 5.623 2.5 4.25 2.5Z"></path>
</svg>
</template>

<template id="server-icon">
  <svg aria-hidden="true" height="16" viewBox="0 0 16 16" version="1.1" width="16" data-view-component="true" class="octicon octicon-server">
    <path d="M1.75 1h12.5c.966 0 1.75.784 1.75 1.75v4c0 .372-.116.717-.314 1 .198.283.314.628.314 1v4a1.75 1.75 0 0 1-1.75 1.75H1.75A1.75 1.75 0 0 1 0 12.75v-4c0-.358.109-.707.314-1a1.739 1.739 0 0 1-.314-1v-4C0 1.784.784 1 1.75 1ZM1.5 2.75v4c0 .138.112.25.25.25h12.5a.25.25 0 0 0 .25-.25v-4a.25.25 0 0 0-.25-.25H1.75a.25.25 0 0 0-.25.25Zm.25 5.75a.25.25 0 0 0-.25.25v4c0 .138.112.25.25.25h12.5a.25.25 0 0 0 .25-.25v-4a.25.25 0 0 0-.25-.25ZM7 4.75A.75.75 0 0 1 7.75 4h4.5a.75.75 0 0 1 0 1.5h-4.5A.75.75 0 0 1 7 4.75ZM7.75 10h4.5a.75.75 0 0 1 0 1.5h-4.5a.75.75 0 0 1 0-1.5ZM3 4.75A.75.75 0 0 1 3.75 4h.5a.75.75 0 0 1 0 1.5h-.5A.75.75 0 0 1 3 4.75ZM3.75 10h.5a.75.75 0 0 1 0 1.5h-.5a.75.75 0 0 1 0-1.5Z"></path>
</svg>
</template>

<template id="globe-icon">
  <svg aria-hidden="true" height="16" viewBox="0 0 16 16" version="1.1" width="16" data-view-component="true" class="octicon octicon-globe">
    <path d="M8 0a8 8 0 1 1 0 16A8 8 0 0 1 8 0ZM5.78 8.75a9.64 9.64 0 0 0 1.363 4.177c.255.426.542.832.857 1.215.245-.296.551-.705.857-1.215A9.64 9.64 0 0 0 10.22 8.75Zm4.44-1.5a9.64 9.64 0 0 0-1.363-4.177c-.307-.51-.612-.919-.857-1.215a9.927 9.927 0 0 0-.857 1.215A9.64 9.64 0 0 0 5.78 7.25Zm-5.944 1.5H1.543a6.507 6.507 0 0 0 4.666 5.5c-.123-.181-.24-.365-.352-.552-.715-1.192-1.437-2.874-1.581-4.948Zm-2.733-1.5h2.733c.144-2.074.866-3.756 1.58-4.948.12-.197.237-.381.353-.552a6.507 6.507 0 0 0-4.666 5.5Zm10.181 1.5c-.144 2.074-.866 3.756-1.58 4.948-.12.197-.237.381-.353.552a6.507 6.507 0 0 0 4.666-5.5Zm2.733-1.5a6.507 6.507 0 0 0-4.666-5.5c.123.181.24.365.353.552.714 1.192 1.436 2.874 1.58 4.948Z"></path>
</svg>
</template>

<template id="issue-opened-icon">
  <svg aria-hidden="true" height="16" viewBox="0 0 16 16" version="1.1" width="16" data-view-component="true" class="octicon octicon-issue-opened">
    <path d="M8 9.5a1.5 1.5 0 1 0 0-3 1.5 1.5 0 0 0 0 3Z"></path><path d="M8 0a8 8 0 1 1 0 16A8 8 0 0 1 8 0ZM1.5 8a6.5 6.5 0 1 0 13 0 6.5 6.5 0 0 0-13 0Z"></path>
</svg>
</template>

<template id="device-mobile-icon">
  <svg aria-hidden="true" height="16" viewBox="0 0 16 16" version="1.1" width="16" data-view-component="true" class="octicon octicon-device-mobile">
    <path d="M3.75 0h8.5C13.216 0 14 .784 14 1.75v12.5A1.75 1.75 0 0 1 12.25 16h-8.5A1.75 1.75 0 0 1 2 14.25V1.75C2 .784 2.784 0 3.75 0ZM3.5 1.75v12.5c0 .138.112.25.25.25h8.5a.25.25 0 0 0 .25-.25V1.75a.25.25 0 0 0-.25-.25h-8.5a.25.25 0 0 0-.25.25ZM8 13a1 1 0 1 1 0-2 1 1 0 0 1 0 2Z"></path>
</svg>
</template>

<template id="package-icon">
  <svg aria-hidden="true" height="16" viewBox="0 0 16 16" version="1.1" width="16" data-view-component="true" class="octicon octicon-package">
    <path d="m8.878.392 5.25 3.045c.54.314.872.89.872 1.514v6.098a1.75 1.75 0 0 1-.872 1.514l-5.25 3.045a1.75 1.75 0 0 1-1.756 0l-5.25-3.045A1.75 1.75 0 0 1 1 11.049V4.951c0-.624.332-1.201.872-1.514L7.122.392a1.75 1.75 0 0 1 1.756 0ZM7.875 1.69l-4.63 2.685L8 7.133l4.755-2.758-4.63-2.685a.248.248 0 0 0-.25 0ZM2.5 5.677v5.372c0 .09.047.171.125.216l4.625 2.683V8.432Zm6.25 8.271 4.625-2.683a.25.25 0 0 0 .125-.216V5.677L8.75 8.432Z"></path>
</svg>
</template>

<template id="credit-card-icon">
  <svg aria-hidden="true" height="16" viewBox="0 0 16 16" version="1.1" width="16" data-view-component="true" class="octicon octicon-credit-card">
    <path d="M10.75 9a.75.75 0 0 0 0 1.5h1.5a.75.75 0 0 0 0-1.5h-1.5Z"></path><path d="M0 3.75C0 2.784.784 2 1.75 2h12.5c.966 0 1.75.784 1.75 1.75v8.5A1.75 1.75 0 0 1 14.25 14H1.75A1.75 1.75 0 0 1 0 12.25ZM14.5 6.5h-13v5.75c0 .138.112.25.25.25h12.5a.25.25 0 0 0 .25-.25Zm0-2.75a.25.25 0 0 0-.25-.25H1.75a.25.25 0 0 0-.25.25V5h13Z"></path>
</svg>
</template>

<template id="play-icon">
  <svg aria-hidden="true" height="16" viewBox="0 0 16 16" version="1.1" width="16" data-view-component="true" class="octicon octicon-play">
    <path d="M8 0a8 8 0 1 1 0 16A8 8 0 0 1 8 0ZM1.5 8a6.5 6.5 0 1 0 13 0 6.5 6.5 0 0 0-13 0Zm4.879-2.773 4.264 2.559a.25.25 0 0 1 0 .428l-4.264 2.559A.25.25 0 0 1 6 10.559V5.442a.25.25 0 0 1 .379-.215Z"></path>
</svg>
</template>

<template id="gift-icon">
  <svg aria-hidden="true" height="16" viewBox="0 0 16 16" version="1.1" width="16" data-view-component="true" class="octicon octicon-gift">
    <path d="M2 2.75A2.75 2.75 0 0 1 4.75 0c.983 0 1.873.42 2.57 1.232.268.318.497.668.68 1.042.183-.375.411-.725.68-1.044C9.376.42 10.266 0 11.25 0a2.75 2.75 0 0 1 2.45 4h.55c.966 0 1.75.784 1.75 1.75v2c0 .698-.409 1.301-1 1.582v4.918A1.75 1.75 0 0 1 13.25 16H2.75A1.75 1.75 0 0 1 1 14.25V9.332C.409 9.05 0 8.448 0 7.75v-2C0 4.784.784 4 1.75 4h.55c-.192-.375-.3-.8-.3-1.25ZM7.25 9.5H2.5v4.75c0 .138.112.25.25.25h4.5Zm1.5 0v5h4.5a.25.25 0 0 0 .25-.25V9.5Zm0-4V8h5.5a.25.25 0 0 0 .25-.25v-2a.25.25 0 0 0-.25-.25Zm-7 0a.25.25 0 0 0-.25.25v2c0 .138.112.25.25.25h5.5V5.5h-5.5Zm3-4a1.25 1.25 0 0 0 0 2.5h2.309c-.233-.818-.542-1.401-.878-1.793-.43-.502-.915-.707-1.431-.707ZM8.941 4h2.309a1.25 1.25 0 0 0 0-2.5c-.516 0-1 .205-1.43.707-.337.392-.646.975-.879 1.793Z"></path>
</svg>
</template>

<template id="code-square-icon">
  <svg aria-hidden="true" height="16" viewBox="0 0 16 16" version="1.1" width="16" data-view-component="true" class="octicon octicon-code-square">
    <path d="M0 1.75C0 .784.784 0 1.75 0h12.5C15.216 0 16 .784 16 1.75v12.5A1.75 1.75 0 0 1 14.25 16H1.75A1.75 1.75 0 0 1 0 14.25Zm1.75-.25a.25.25 0 0 0-.25.25v12.5c0 .138.112.25.25.25h12.5a.25.25 0 0 0 .25-.25V1.75a.25.25 0 0 0-.25-.25Zm7.47 3.97a.75.75 0 0 1 1.06 0l2 2a.75.75 0 0 1 0 1.06l-2 2a.749.749 0 0 1-1.275-.326.749.749 0 0 1 .215-.734L10.69 8 9.22 6.53a.75.75 0 0 1 0-1.06ZM6.78 6.53 5.31 8l1.47 1.47a.749.749 0 0 1-.326 1.275.749.749 0 0 1-.734-.215l-2-2a.75.75 0 0 1 0-1.06l2-2a.751.751 0 0 1 1.042.018.751.751 0 0 1 .018 1.042Z"></path>
</svg>
</template>

<template id="device-desktop-icon">
  <svg aria-hidden="true" height="16" viewBox="0 0 16 16" version="1.1" width="16" data-view-component="true" class="octicon octicon-device-desktop">
    <path d="M14.25 1c.966 0 1.75.784 1.75 1.75v7.5A1.75 1.75 0 0 1 14.25 12h-3.727c.099 1.041.52 1.872 1.292 2.757A.752.752 0 0 1 11.25 16h-6.5a.75.75 0 0 1-.565-1.243c.772-.885 1.192-1.716 1.292-2.757H1.75A1.75 1.75 0 0 1 0 10.25v-7.5C0 1.784.784 1 1.75 1ZM1.75 2.5a.25.25 0 0 0-.25.25v7.5c0 .138.112.25.25.25h12.5a.25.25 0 0 0 .25-.25v-7.5a.25.25 0 0 0-.25-.25ZM9.018 12H6.982a5.72 5.72 0 0 1-.765 2.5h3.566a5.72 5.72 0 0 1-.765-2.5Z"></path>
</svg>
</template>

        <div class="position-relative">
                <ul
                  role="listbox"
                  class="ActionListWrap QueryBuilder-ListWrap"
                  aria-label="Suggestions"
                  data-action="
                    combobox-commit:query-builder#comboboxCommit
                    mousedown:query-builder#resultsMousedown
                  "
                  data-target="query-builder.resultsList"
                  data-persist-list=false
                  id="query-builder-test-results"
                ></ul>
        </div>
      <div class="FormControl-inlineValidation" id="validation-1bf46187-0059-4080-b7e4-ce2fb1b8054e" hidden="hidden">
        <span class="FormControl-inlineValidation--visual">
          <svg aria-hidden="true" height="12" viewBox="0 0 12 12" version="1.1" width="12" data-view-component="true" class="octicon octicon-alert-fill">
    <path d="M4.855.708c.5-.896 1.79-.896 2.29 0l4.675 8.351a1.312 1.312 0 0 1-1.146 1.954H1.33A1.313 1.313 0 0 1 .183 9.058ZM7 7V3H5v4Zm-1 3a1 1 0 1 0 0-2 1 1 0 0 0 0 2Z"></path>
</svg>
        </span>
        <span></span>
</div>    </div>
    <div data-target="query-builder.screenReaderFeedback" aria-live="polite" aria-atomic="true" class="sr-only"></div>
</query-builder></form>
          <div class="d-flex flex-row color-fg-muted px-3 text-small color-bg-default search-feedback-prompt">
            <a target="_blank" href="https://docs.github.com/search-github/github-code-search/understanding-github-code-search-syntax" data-view-component="true" class="Link color-fg-accent text-normal ml-2">
              Search syntax tips
</a>            <div class="d-flex flex-1"></div>
              <button data-action="click:qbsearch-input#showFeedbackDialog" type="button" data-view-component="true" class="Button--link Button--medium Button color-fg-accent text-normal ml-2">  <span class="Button-content">
    <span class="Button-label">Give feedback</span>
  </span>
</button>
          </div>
        </div>
</div>

    </div>
</modal-dialog></div>
  </div>
  <div data-action="click:qbsearch-input#retract" class="dark-backdrop position-fixed" hidden data-target="qbsearch-input.darkBackdrop"></div>
  <div class="color-fg-default">
    
<dialog-helper>
  <dialog data-target="qbsearch-input.feedbackDialog" data-action="close:qbsearch-input#handleDialogClose cancel:qbsearch-input#handleDialogClose" id="feedback-dialog" aria-modal="true" aria-labelledby="feedback-dialog-title" aria-describedby="feedback-dialog-description" data-view-component="true" class="Overlay Overlay-whenNarrow Overlay--size-medium Overlay--motion-scaleFade Overlay--disableScroll">
    <div data-view-component="true" class="Overlay-header">
  <div class="Overlay-headerContentWrap">
    <div class="Overlay-titleWrap">
      <h1 class="Overlay-title " id="feedback-dialog-title">
        Provide feedback
      </h1>
        
    </div>
    <div class="Overlay-actionWrap">
      <button data-close-dialog-id="feedback-dialog" aria-label="Close" type="button" data-view-component="true" class="close-button Overlay-closeButton"><svg aria-hidden="true" height="16" viewBox="0 0 16 16" version="1.1" width="16" data-view-component="true" class="octicon octicon-x">
    <path d="M3.72 3.72a.75.75 0 0 1 1.06 0L8 6.94l3.22-3.22a.749.749 0 0 1 1.275.326.749.749 0 0 1-.215.734L9.06 8l3.22 3.22a.749.749 0 0 1-.326 1.275.749.749 0 0 1-.734-.215L8 9.06l-3.22 3.22a.751.751 0 0 1-1.042-.018.751.751 0 0 1-.018-1.042L6.94 8 3.72 4.78a.75.75 0 0 1 0-1.06Z"></path>
</svg></button>
    </div>
  </div>
  
</div>
      <scrollable-region data-labelled-by="feedback-dialog-title">
        <div data-view-component="true" class="Overlay-body">        <!-- '"` --><!-- </textarea></xmp> --></option></form><form id="code-search-feedback-form" data-turbo="false" action="/search/feedback" accept-charset="UTF-8" method="post"><input type="hidden" name="authenticity_token" value="JyPRyTsXIxUWBKBGyaIFRZHKzGi2Y_3iw6iUIhxxSBF0FitoiYF6AHqvnUJhC_sI5syVbAvZVGbsSBqh1nF6gg" />
          <p>We read every piece of feedback, and take your input very seriously.</p>
          <textarea name="feedback" class="form-control width-full mb-2" style="height: 120px" id="feedback"></textarea>
          <input name="include_email" id="include_email" aria-label="Include my email address so I can be contacted" class="form-control mr-2" type="checkbox">
          <label for="include_email" style="font-weight: normal">Include my email address so I can be contacted</label>
</form></div>
      </scrollable-region>
      <div data-view-component="true" class="Overlay-footer Overlay-footer--alignEnd">          <button data-close-dialog-id="feedback-dialog" type="button" data-view-component="true" class="btn">    Cancel
</button>
          <button form="code-search-feedback-form" data-action="click:qbsearch-input#submitFeedback" type="submit" data-view-component="true" class="btn-primary btn">    Submit feedback
</button>
</div>
</dialog></dialog-helper>

    <custom-scopes data-target="qbsearch-input.customScopesManager">
    
<dialog-helper>
  <dialog data-target="custom-scopes.customScopesModalDialog" data-action="close:qbsearch-input#handleDialogClose cancel:qbsearch-input#handleDialogClose" id="custom-scopes-dialog" aria-modal="true" aria-labelledby="custom-scopes-dialog-title" aria-describedby="custom-scopes-dialog-description" data-view-component="true" class="Overlay Overlay-whenNarrow Overlay--size-medium Overlay--motion-scaleFade Overlay--disableScroll">
    <div data-view-component="true" class="Overlay-header Overlay-header--divided">
  <div class="Overlay-headerContentWrap">
    <div class="Overlay-titleWrap">
      <h1 class="Overlay-title " id="custom-scopes-dialog-title">
        Saved searches
      </h1>
        <h2 id="custom-scopes-dialog-description" class="Overlay-description">Use saved searches to filter your results more quickly</h2>
    </div>
    <div class="Overlay-actionWrap">
      <button data-close-dialog-id="custom-scopes-dialog" aria-label="Close" type="button" data-view-component="true" class="close-button Overlay-closeButton"><svg aria-hidden="true" height="16" viewBox="0 0 16 16" version="1.1" width="16" data-view-component="true" class="octicon octicon-x">
    <path d="M3.72 3.72a.75.75 0 0 1 1.06 0L8 6.94l3.22-3.22a.749.749 0 0 1 1.275.326.749.749 0 0 1-.215.734L9.06 8l3.22 3.22a.749.749 0 0 1-.326 1.275.749.749 0 0 1-.734-.215L8 9.06l-3.22 3.22a.751.751 0 0 1-1.042-.018.751.751 0 0 1-.018-1.042L6.94 8 3.72 4.78a.75.75 0 0 1 0-1.06Z"></path>
</svg></button>
    </div>
  </div>
  
</div>
      <scrollable-region data-labelled-by="custom-scopes-dialog-title">
        <div data-view-component="true" class="Overlay-body">        <div data-target="custom-scopes.customScopesModalDialogFlash"></div>

        <div hidden class="create-custom-scope-form" data-target="custom-scopes.createCustomScopeForm">
        <!-- '"` --><!-- </textarea></xmp> --></option></form><form id="custom-scopes-dialog-form" data-turbo="false" action="/search/custom_scopes" accept-charset="UTF-8" method="post"><input type="hidden" name="authenticity_token" value="RooUleB-xqp9xtbjQTBBsd9isr7-tWf5_I7T0ouXhBDbWlTWF7I8hEVcUHmcj-6SjwPasuLeDDdzhJT44odfwQ" />
          <div data-target="custom-scopes.customScopesModalDialogFlash"></div>

          <input type="hidden" id="custom_scope_id" name="custom_scope_id" data-target="custom-scopes.customScopesIdField">

          <div class="form-group">
            <label for="custom_scope_name">Name</label>
            <auto-check src="/search/custom_scopes/check_name" required>
              <input
                type="text"
                name="custom_scope_name"
                id="custom_scope_name"
                data-target="custom-scopes.customScopesNameField"
                class="form-control"
                autocomplete="off"
                placeholder="github-ruby"
                required
                maxlength="50">
              <input type="hidden" value="xb2h_zxYVoSaWG6-Sozqvnj_8-id7xpVfoV-Mu8G2bogElQrQj9C9tTADJiD_8cdQn4ikmsLTyA2clBCXvJj3g" data-csrf="true" />
            </auto-check>
          </div>

          <div class="form-group">
            <label for="custom_scope_query">Query</label>
            <input
              type="text"
              name="custom_scope_query"
              id="custom_scope_query"
              data-target="custom-scopes.customScopesQueryField"
              class="form-control"
              autocomplete="off"
              placeholder="(repo:mona/a OR repo:mona/b) AND lang:python"
              required
              maxlength="500">
          </div>

          <p class="text-small color-fg-muted">
            To see all available qualifiers, see our <a class="Link--inTextBlock" href="https://docs.github.com/search-github/github-code-search/understanding-github-code-search-syntax">documentation</a>.
          </p>
</form>        </div>

        <div data-target="custom-scopes.manageCustomScopesForm">
          <div data-target="custom-scopes.list"></div>
        </div>

</div>
      </scrollable-region>
      <div data-view-component="true" class="Overlay-footer Overlay-footer--alignEnd Overlay-footer--divided">          <button data-action="click:custom-scopes#customScopesCancel" type="button" data-view-component="true" class="btn">    Cancel
</button>
          <button form="custom-scopes-dialog-form" data-action="click:custom-scopes#customScopesSubmit" data-target="custom-scopes.customScopesSubmitButton" type="submit" data-view-component="true" class="btn-primary btn">    Create saved search
</button>
</div>
</dialog></dialog-helper>
    </custom-scopes>
  </div>
</qbsearch-input>    <input type="hidden" value="C8p8r2KUX5BMDGPt8s03aSOkkXMJTwEj40Xmo2-l2_PmKer-pXXDnHCrO-hv65X8jhGCx95WzYTE2AOu0kuz0g" data-csrf="true" class="js-data-jump-to-suggestions-path-csrf" />

          </div>

        

        <div class="AppHeader-actions position-relative">
             <react-partial-anchor>
      <button id="global-create-menu-anchor" aria-label="Create something new" data-target="react-partial-anchor.anchor" type="button" disabled="disabled" data-view-component="true" class="AppHeader-button global-create-button cursor-wait Button--secondary Button--medium Button width-auto color-fg-muted">  <span class="Button-content">
      <span class="Button-visual Button-leadingVisual">
        <svg aria-hidden="true" height="16" viewBox="0 0 16 16" version="1.1" width="16" data-view-component="true" class="octicon octicon-plus">
    <path d="M7.75 2a.75.75 0 0 1 .75.75V7h4.25a.75.75 0 0 1 0 1.5H8.5v4.25a.75.75 0 0 1-1.5 0V8.5H2.75a.75.75 0 0 1 0-1.5H7V2.75A.75.75 0 0 1 7.75 2Z"></path>
</svg>
      </span>
    <span class="Button-label"><svg aria-hidden="true" height="16" viewBox="0 0 16 16" version="1.1" width="16" data-view-component="true" class="octicon octicon-triangle-down">
    <path d="m4.427 7.427 3.396 3.396a.25.25 0 0 0 .354 0l3.396-3.396A.25.25 0 0 0 11.396 7H4.604a.25.25 0 0 0-.177.427Z"></path>
</svg></span>
  </span>
</button><tool-tip id="tooltip-b6ee3e67-4093-481b-ba7d-c84d14a1bda9" for="global-create-menu-anchor" popover="manual" data-direction="s" data-type="description" data-view-component="true" class="sr-only position-absolute">Create new...</tool-tip>

      <template data-target="react-partial-anchor.template">
        <script crossorigin="anonymous" defer="defer" type="application/javascript" src="https://github.githubassets.com/assets/ui_packages_promise-with-resolvers-polyfill_promise-with-resolvers-polyfill_ts-ui_packages_re-8d43b0-c1d5d31670d5.js"></script>
<script crossorigin="anonymous" defer="defer" type="application/javascript" src="https://github.githubassets.com/assets/global-create-menu-e66a8207c01b.js"></script>
<link crossorigin="anonymous" media="all" rel="stylesheet" href="https://github.githubassets.com/assets/primer-react.62690248c131a6fc074d.module.css" />

<react-partial
  partial-name="global-create-menu"
  data-ssr="false"
  data-attempted-ssr="false"
>
  
  <script type="application/json" data-target="react-partial.embeddedData">{"props":{"createRepo":true,"importRepo":true,"codespaces":true,"gist":true,"createOrg":true,"createProject":false,"createProjectUrl":"/AnatolyKustanovich?tab=projects","createLegacyProject":false,"createIssue":false,"org":null,"owner":"Aish16032001","repo":"Pythoncourse_assignments"}}</script>
  <div data-target="react-partial.reactRoot"></div>
</react-partial>

      </template>
    </react-partial-anchor>


          <a href="/issues" data-analytics-event="{&quot;category&quot;:&quot;Global navigation&quot;,&quot;action&quot;:&quot;ISSUES_HEADER&quot;,&quot;label&quot;:null}" id="icon-button-021d7464-b0a4-408d-a904-f1206375b3f1" aria-labelledby="tooltip-5f9068ef-2be4-468a-9fdf-ffec7e0d36f7" data-view-component="true" class="Button Button--iconOnly Button--secondary Button--medium AppHeader-button color-fg-muted">  <svg aria-hidden="true" height="16" viewBox="0 0 16 16" version="1.1" width="16" data-view-component="true" class="octicon octicon-issue-opened Button-visual">
    <path d="M8 9.5a1.5 1.5 0 1 0 0-3 1.5 1.5 0 0 0 0 3Z"></path><path d="M8 0a8 8 0 1 1 0 16A8 8 0 0 1 8 0ZM1.5 8a6.5 6.5 0 1 0 13 0 6.5 6.5 0 0 0-13 0Z"></path>
</svg>
</a><tool-tip id="tooltip-5f9068ef-2be4-468a-9fdf-ffec7e0d36f7" for="icon-button-021d7464-b0a4-408d-a904-f1206375b3f1" popover="manual" data-direction="s" data-type="label" data-view-component="true" class="sr-only position-absolute">Issues</tool-tip>

          <a href="/pulls" data-analytics-event="{&quot;category&quot;:&quot;Global navigation&quot;,&quot;action&quot;:&quot;PULL_REQUESTS_HEADER&quot;,&quot;label&quot;:null}" id="icon-button-fe574cfc-4760-4009-adf9-9359fe950279" aria-labelledby="tooltip-520e3be1-d152-41a0-9728-73003179660d" data-view-component="true" class="Button Button--iconOnly Button--secondary Button--medium AppHeader-button color-fg-muted">  <svg aria-hidden="true" height="16" viewBox="0 0 16 16" version="1.1" width="16" data-view-component="true" class="octicon octicon-git-pull-request Button-visual">
    <path d="M1.5 3.25a2.25 2.25 0 1 1 3 2.122v5.256a2.251 2.251 0 1 1-1.5 0V5.372A2.25 2.25 0 0 1 1.5 3.25Zm5.677-.177L9.573.677A.25.25 0 0 1 10 .854V2.5h1A2.5 2.5 0 0 1 13.5 5v5.628a2.251 2.251 0 1 1-1.5 0V5a1 1 0 0 0-1-1h-1v1.646a.25.25 0 0 1-.427.177L7.177 3.427a.25.25 0 0 1 0-.354ZM3.75 2.5a.75.75 0 1 0 0 1.5.75.75 0 0 0 0-1.5Zm0 9.5a.75.75 0 1 0 0 1.5.75.75 0 0 0 0-1.5Zm8.25.75a.75.75 0 1 0 1.5 0 .75.75 0 0 0-1.5 0Z"></path>
</svg>
</a><tool-tip id="tooltip-520e3be1-d152-41a0-9728-73003179660d" for="icon-button-fe574cfc-4760-4009-adf9-9359fe950279" popover="manual" data-direction="s" data-type="label" data-view-component="true" class="sr-only position-absolute">Pull requests</tool-tip>

        </div>

        <notification-indicator data-channel="eyJjIjoibm90aWZpY2F0aW9uLWNoYW5nZWQ6NTMyNjM0MzgiLCJ0IjoxNzMzNDM2MTcyfQ==--dc50d6b7943afbb56d622f07b93c3c90b9efd6b2bda9b5b35a87d96a5648a235" data-indicator-mode="none" data-tooltip-global="You have unread notifications" data-tooltip-unavailable="Notifications are unavailable at the moment." data-tooltip-none="You have no unread notifications" data-header-redesign-enabled="true" data-fetch-indicator-src="/notifications/indicator" data-fetch-indicator-enabled="true" data-view-component="true" class="js-socket-channel">
    <a id="AppHeader-notifications-button" href="/notifications" aria-labelledby="notification-indicator-tooltip" data-hotkey="g n" data-target="notification-indicator.link" data-analytics-event="{&quot;category&quot;:&quot;Global navigation&quot;,&quot;action&quot;:&quot;NOTIFICATIONS_HEADER&quot;,&quot;label&quot;:null}" data-view-component="true" class="Button Button--iconOnly Button--secondary Button--medium AppHeader-button  color-fg-muted">  <svg aria-hidden="true" height="16" viewBox="0 0 16 16" version="1.1" width="16" data-view-component="true" class="octicon octicon-inbox Button-visual">
    <path d="M2.8 2.06A1.75 1.75 0 0 1 4.41 1h7.18c.7 0 1.333.417 1.61 1.06l2.74 6.395c.04.093.06.194.06.295v4.5A1.75 1.75 0 0 1 14.25 15H1.75A1.75 1.75 0 0 1 0 13.25v-4.5c0-.101.02-.202.06-.295Zm1.61.44a.25.25 0 0 0-.23.152L1.887 8H4.75a.75.75 0 0 1 .6.3L6.625 10h2.75l1.275-1.7a.75.75 0 0 1 .6-.3h2.863L11.82 2.652a.25.25 0 0 0-.23-.152Zm10.09 7h-2.875l-1.275 1.7a.75.75 0 0 1-.6.3h-3.5a.75.75 0 0 1-.6-.3L4.375 9.5H1.5v3.75c0 .138.112.25.25.25h12.5a.25.25 0 0 0 .25-.25Z"></path>
</svg>
</a>

    <tool-tip id="notification-indicator-tooltip" data-target="notification-indicator.tooltip" for="AppHeader-notifications-button" popover="manual" data-direction="s" data-type="label" data-view-component="true" class="sr-only position-absolute">Notifications</tool-tip>
</notification-indicator>

        <div class="AppHeader-user">
          <deferred-side-panel data-url="/_side-panels/user?repository_id=886136272">
  <include-fragment data-target="deferred-side-panel.fragment">
    <react-partial-anchor
  
>
  <button data-target="react-partial-anchor.anchor" data-login="AnatolyKustanovich" aria-label="Open user navigation menu" type="button" data-view-component="true" class="cursor-wait Button--invisible Button--medium Button Button--invisible-noVisuals color-bg-transparent p-0">  <span class="Button-content">
    <span class="Button-label"><img src="https://avatars.githubusercontent.com/u/53263438?v=4" alt="" size="32" height="32" width="32" data-view-component="true" class="avatar circle" /></span>
  </span>
</button>
  <template data-target="react-partial-anchor.template">
    <script crossorigin="anonymous" defer="defer" type="application/javascript" src="https://github.githubassets.com/assets/global-user-nav-drawer-7df75a2d92bb.js"></script>
<link crossorigin="anonymous" media="all" rel="stylesheet" href="https://github.githubassets.com/assets/primer-react.62690248c131a6fc074d.module.css" />
<link crossorigin="anonymous" media="all" rel="stylesheet" href="https://github.githubassets.com/assets/global-user-nav-drawer.830d6c10c9fea7fc134e.module.css" />

<react-partial
  partial-name="global-user-nav-drawer"
  data-ssr="false"
  data-attempted-ssr="false"
>
  
  <script type="application/json" data-target="react-partial.embeddedData">{"props":{"owner":{"login":"AnatolyKustanovich","name":"Anatoly","avatarUrl":"https://avatars.githubusercontent.com/u/53263438?v=4"},"drawerId":"global-user-nav-drawer","lazyLoadItemDataFetchUrl":"/_side-panels/user.json","canAddAccount":true,"addAccountPath":"/login?add_account=1\u0026return_to=https%3A%2F%2Fgithub.com%2FAish16032001%2FPythoncourse_assignments%2Fblob%2Fmain%2Fday05%2Fassign5.ipynb","switchAccountPath":"/switch_account","loginAccountPath":"/login?add_account=1","projectsPath":"/AnatolyKustanovich?tab=projects","gistsUrl":"https://gist.github.com/mine","docsUrl":"https://docs.github.com","yourEnterpriseUrl":null,"enterpriseSettingsUrl":null,"supportUrl":"https://support.github.com","showAccountSwitcher":true,"showCopilot":true,"showEnterprises":true,"showEnterprise":false,"showGists":true,"showOrganizations":true,"showSponsors":true,"showUpgrade":true,"showFeaturesPreviews":true,"showEnterpriseSettings":false,"createMenuProps":{"createRepo":true,"importRepo":true,"codespaces":true,"gist":true,"createOrg":true,"createProject":false,"createProjectUrl":"/AnatolyKustanovich?tab=projects","createLegacyProject":false,"createIssue":false,"org":null,"owner":"Aish16032001","repo":"Pythoncourse_assignments"}}}</script>
  <div data-target="react-partial.reactRoot"></div>
</react-partial>

  </template>
</react-partial-anchor>

  </include-fragment>
</deferred-side-panel>
        </div>

        <div class="position-absolute mt-2">
            
<site-header-logged-in-user-menu>

</site-header-logged-in-user-menu>

        </div>
      </div>
    </div>


      <div class="AppHeader-localBar" >
        <nav data-pjax="#js-repo-pjax-container" aria-label="Repository" data-view-component="true" class="js-repo-nav js-sidenav-container-pjax js-responsive-underlinenav overflow-hidden UnderlineNav">

  <ul data-view-component="true" class="UnderlineNav-body list-style-none">
      <li data-view-component="true" class="d-inline-flex">
  <a id="code-tab" href="/Aish16032001/Pythoncourse_assignments" data-tab-item="i0code-tab" data-selected-links="repo_source repo_downloads repo_commits repo_releases repo_tags repo_branches repo_packages repo_deployments repo_attestations /Aish16032001/Pythoncourse_assignments" data-pjax="#repo-content-pjax-container" data-turbo-frame="repo-content-turbo-frame" data-hotkey="g c" data-analytics-event="{&quot;category&quot;:&quot;Underline navbar&quot;,&quot;action&quot;:&quot;Click tab&quot;,&quot;label&quot;:&quot;Code&quot;,&quot;target&quot;:&quot;UNDERLINE_NAV.TAB&quot;}" data-view-component="true" class="UnderlineNav-item no-wrap js-responsive-underlinenav-item js-selected-navigation-item">
    
              <svg aria-hidden="true" height="16" viewBox="0 0 16 16" version="1.1" width="16" data-view-component="true" class="octicon octicon-code UnderlineNav-octicon d-none d-sm-inline">
    <path d="m11.28 3.22 4.25 4.25a.75.75 0 0 1 0 1.06l-4.25 4.25a.749.749 0 0 1-1.275-.326.749.749 0 0 1 .215-.734L13.94 8l-3.72-3.72a.749.749 0 0 1 .326-1.275.749.749 0 0 1 .734.215Zm-6.56 0a.751.751 0 0 1 1.042.018.751.751 0 0 1 .018 1.042L2.06 8l3.72 3.72a.749.749 0 0 1-.326 1.275.749.749 0 0 1-.734-.215L.47 8.53a.75.75 0 0 1 0-1.06Z"></path>
</svg>
        <span data-content="Code">Code</span>
          <span id="code-repo-tab-count" data-pjax-replace="" data-turbo-replace="" title="Not available" data-view-component="true" class="Counter"></span>


    
</a></li>
      <li data-view-component="true" class="d-inline-flex">
  <a id="issues-tab" href="/Aish16032001/Pythoncourse_assignments/issues" data-tab-item="i1issues-tab" data-selected-links="repo_issues repo_labels repo_milestones /Aish16032001/Pythoncourse_assignments/issues" data-pjax="#repo-content-pjax-container" data-turbo-frame="repo-content-turbo-frame" data-hotkey="g i" data-analytics-event="{&quot;category&quot;:&quot;Underline navbar&quot;,&quot;action&quot;:&quot;Click tab&quot;,&quot;label&quot;:&quot;Issues&quot;,&quot;target&quot;:&quot;UNDERLINE_NAV.TAB&quot;}" data-view-component="true" class="UnderlineNav-item no-wrap js-responsive-underlinenav-item js-selected-navigation-item">
    
              <svg aria-hidden="true" height="16" viewBox="0 0 16 16" version="1.1" width="16" data-view-component="true" class="octicon octicon-issue-opened UnderlineNav-octicon d-none d-sm-inline">
    <path d="M8 9.5a1.5 1.5 0 1 0 0-3 1.5 1.5 0 0 0 0 3Z"></path><path d="M8 0a8 8 0 1 1 0 16A8 8 0 0 1 8 0ZM1.5 8a6.5 6.5 0 1 0 13 0 6.5 6.5 0 0 0-13 0Z"></path>
</svg>
        <span data-content="Issues">Issues</span>
          <span id="issues-repo-tab-count" data-pjax-replace="" data-turbo-replace="" title="0" hidden="hidden" data-view-component="true" class="Counter">0</span>


    
</a></li>
      <li data-view-component="true" class="d-inline-flex">
  <a id="pull-requests-tab" href="/Aish16032001/Pythoncourse_assignments/pulls" data-tab-item="i2pull-requests-tab" data-selected-links="repo_pulls checks /Aish16032001/Pythoncourse_assignments/pulls" data-pjax="#repo-content-pjax-container" data-turbo-frame="repo-content-turbo-frame" data-hotkey="g p" data-analytics-event="{&quot;category&quot;:&quot;Underline navbar&quot;,&quot;action&quot;:&quot;Click tab&quot;,&quot;label&quot;:&quot;Pull requests&quot;,&quot;target&quot;:&quot;UNDERLINE_NAV.TAB&quot;}" data-view-component="true" class="UnderlineNav-item no-wrap js-responsive-underlinenav-item js-selected-navigation-item">
    
              <svg aria-hidden="true" height="16" viewBox="0 0 16 16" version="1.1" width="16" data-view-component="true" class="octicon octicon-git-pull-request UnderlineNav-octicon d-none d-sm-inline">
    <path d="M1.5 3.25a2.25 2.25 0 1 1 3 2.122v5.256a2.251 2.251 0 1 1-1.5 0V5.372A2.25 2.25 0 0 1 1.5 3.25Zm5.677-.177L9.573.677A.25.25 0 0 1 10 .854V2.5h1A2.5 2.5 0 0 1 13.5 5v5.628a2.251 2.251 0 1 1-1.5 0V5a1 1 0 0 0-1-1h-1v1.646a.25.25 0 0 1-.427.177L7.177 3.427a.25.25 0 0 1 0-.354ZM3.75 2.5a.75.75 0 1 0 0 1.5.75.75 0 0 0 0-1.5Zm0 9.5a.75.75 0 1 0 0 1.5.75.75 0 0 0 0-1.5Zm8.25.75a.75.75 0 1 0 1.5 0 .75.75 0 0 0-1.5 0Z"></path>
</svg>
        <span data-content="Pull requests">Pull requests</span>
          <span id="pull-requests-repo-tab-count" data-pjax-replace="" data-turbo-replace="" title="0" hidden="hidden" data-view-component="true" class="Counter">0</span>


    
</a></li>
      <li data-view-component="true" class="d-inline-flex">
  <a id="actions-tab" href="/Aish16032001/Pythoncourse_assignments/actions" data-tab-item="i3actions-tab" data-selected-links="repo_actions /Aish16032001/Pythoncourse_assignments/actions" data-pjax="#repo-content-pjax-container" data-turbo-frame="repo-content-turbo-frame" data-hotkey="g a" data-analytics-event="{&quot;category&quot;:&quot;Underline navbar&quot;,&quot;action&quot;:&quot;Click tab&quot;,&quot;label&quot;:&quot;Actions&quot;,&quot;target&quot;:&quot;UNDERLINE_NAV.TAB&quot;}" data-view-component="true" class="UnderlineNav-item no-wrap js-responsive-underlinenav-item js-selected-navigation-item">
    
              <svg aria-hidden="true" height="16" viewBox="0 0 16 16" version="1.1" width="16" data-view-component="true" class="octicon octicon-play UnderlineNav-octicon d-none d-sm-inline">
    <path d="M8 0a8 8 0 1 1 0 16A8 8 0 0 1 8 0ZM1.5 8a6.5 6.5 0 1 0 13 0 6.5 6.5 0 0 0-13 0Zm4.879-2.773 4.264 2.559a.25.25 0 0 1 0 .428l-4.264 2.559A.25.25 0 0 1 6 10.559V5.442a.25.25 0 0 1 .379-.215Z"></path>
</svg>
        <span data-content="Actions">Actions</span>
          <span id="actions-repo-tab-count" data-pjax-replace="" data-turbo-replace="" title="Not available" data-view-component="true" class="Counter"></span>


    
</a></li>
      <li data-view-component="true" class="d-inline-flex">
  <a id="projects-tab" href="/Aish16032001/Pythoncourse_assignments/projects" data-tab-item="i4projects-tab" data-selected-links="repo_projects new_repo_project repo_project /Aish16032001/Pythoncourse_assignments/projects" data-pjax="#repo-content-pjax-container" data-turbo-frame="repo-content-turbo-frame" data-hotkey="g b" data-analytics-event="{&quot;category&quot;:&quot;Underline navbar&quot;,&quot;action&quot;:&quot;Click tab&quot;,&quot;label&quot;:&quot;Projects&quot;,&quot;target&quot;:&quot;UNDERLINE_NAV.TAB&quot;}" data-view-component="true" class="UnderlineNav-item no-wrap js-responsive-underlinenav-item js-selected-navigation-item">
    
              <svg aria-hidden="true" height="16" viewBox="0 0 16 16" version="1.1" width="16" data-view-component="true" class="octicon octicon-table UnderlineNav-octicon d-none d-sm-inline">
    <path d="M0 1.75C0 .784.784 0 1.75 0h12.5C15.216 0 16 .784 16 1.75v12.5A1.75 1.75 0 0 1 14.25 16H1.75A1.75 1.75 0 0 1 0 14.25ZM6.5 6.5v8h7.75a.25.25 0 0 0 .25-.25V6.5Zm8-1.5V1.75a.25.25 0 0 0-.25-.25H6.5V5Zm-13 1.5v7.75c0 .138.112.25.25.25H5v-8ZM5 5V1.5H1.75a.25.25 0 0 0-.25.25V5Z"></path>
</svg>
        <span data-content="Projects">Projects</span>
          <span id="projects-repo-tab-count" data-pjax-replace="" data-turbo-replace="" title="0" hidden="hidden" data-view-component="true" class="Counter">0</span>


    
</a></li>
      <li data-view-component="true" class="d-inline-flex">
  <a id="security-tab" href="/Aish16032001/Pythoncourse_assignments/security" data-tab-item="i5security-tab" data-selected-links="security overview alerts policy token_scanning code_scanning /Aish16032001/Pythoncourse_assignments/security" data-pjax="#repo-content-pjax-container" data-turbo-frame="repo-content-turbo-frame" data-hotkey="g s" data-analytics-event="{&quot;category&quot;:&quot;Underline navbar&quot;,&quot;action&quot;:&quot;Click tab&quot;,&quot;label&quot;:&quot;Security&quot;,&quot;target&quot;:&quot;UNDERLINE_NAV.TAB&quot;}" data-view-component="true" class="UnderlineNav-item no-wrap js-responsive-underlinenav-item js-selected-navigation-item">
    
              <svg aria-hidden="true" height="16" viewBox="0 0 16 16" version="1.1" width="16" data-view-component="true" class="octicon octicon-shield UnderlineNav-octicon d-none d-sm-inline">
    <path d="M7.467.133a1.748 1.748 0 0 1 1.066 0l5.25 1.68A1.75 1.75 0 0 1 15 3.48V7c0 1.566-.32 3.182-1.303 4.682-.983 1.498-2.585 2.813-5.032 3.855a1.697 1.697 0 0 1-1.33 0c-2.447-1.042-4.049-2.357-5.032-3.855C1.32 10.182 1 8.566 1 7V3.48a1.75 1.75 0 0 1 1.217-1.667Zm.61 1.429a.25.25 0 0 0-.153 0l-5.25 1.68a.25.25 0 0 0-.174.238V7c0 1.358.275 2.666 1.057 3.86.784 1.194 2.121 2.34 4.366 3.297a.196.196 0 0 0 .154 0c2.245-.956 3.582-2.104 4.366-3.298C13.225 9.666 13.5 8.36 13.5 7V3.48a.251.251 0 0 0-.174-.237l-5.25-1.68ZM8.75 4.75v3a.75.75 0 0 1-1.5 0v-3a.75.75 0 0 1 1.5 0ZM9 10.5a1 1 0 1 1-2 0 1 1 0 0 1 2 0Z"></path>
</svg>
        <span data-content="Security">Security</span>
          <include-fragment src="/Aish16032001/Pythoncourse_assignments/security/overall-count" accept="text/fragment+html"></include-fragment>

    
</a></li>
      <li data-view-component="true" class="d-inline-flex">
  <a id="insights-tab" href="/Aish16032001/Pythoncourse_assignments/pulse" data-tab-item="i6insights-tab" data-selected-links="repo_graphs repo_contributors dependency_graph dependabot_updates pulse people community /Aish16032001/Pythoncourse_assignments/pulse" data-pjax="#repo-content-pjax-container" data-turbo-frame="repo-content-turbo-frame" data-analytics-event="{&quot;category&quot;:&quot;Underline navbar&quot;,&quot;action&quot;:&quot;Click tab&quot;,&quot;label&quot;:&quot;Insights&quot;,&quot;target&quot;:&quot;UNDERLINE_NAV.TAB&quot;}" data-view-component="true" class="UnderlineNav-item no-wrap js-responsive-underlinenav-item js-selected-navigation-item">
    
              <svg aria-hidden="true" height="16" viewBox="0 0 16 16" version="1.1" width="16" data-view-component="true" class="octicon octicon-graph UnderlineNav-octicon d-none d-sm-inline">
    <path d="M1.5 1.75V13.5h13.75a.75.75 0 0 1 0 1.5H.75a.75.75 0 0 1-.75-.75V1.75a.75.75 0 0 1 1.5 0Zm14.28 2.53-5.25 5.25a.75.75 0 0 1-1.06 0L7 7.06 4.28 9.78a.751.751 0 0 1-1.042-.018.751.751 0 0 1-.018-1.042l3.25-3.25a.75.75 0 0 1 1.06 0L10 7.94l4.72-4.72a.751.751 0 0 1 1.042.018.751.751 0 0 1 .018 1.042Z"></path>
</svg>
        <span data-content="Insights">Insights</span>
          <span id="insights-repo-tab-count" data-pjax-replace="" data-turbo-replace="" title="Not available" data-view-component="true" class="Counter"></span>


    
</a></li>
</ul>
    <div style="visibility:hidden;" data-view-component="true" class="UnderlineNav-actions js-responsive-underlinenav-overflow position-absolute pr-3 pr-md-4 pr-lg-5 right-0">      <action-menu data-select-variant="none" data-view-component="true">
  <focus-group direction="vertical" mnemonics retain>
    <button id="action-menu-d46ac6aa-ffc2-4d4e-97da-f32cd5957474-button" popovertarget="action-menu-d46ac6aa-ffc2-4d4e-97da-f32cd5957474-overlay" aria-controls="action-menu-d46ac6aa-ffc2-4d4e-97da-f32cd5957474-list" aria-haspopup="true" aria-labelledby="tooltip-a679ed40-a80d-4f67-bfc7-848177106be8" type="button" data-view-component="true" class="Button Button--iconOnly Button--secondary Button--medium UnderlineNav-item">  <svg aria-hidden="true" height="16" viewBox="0 0 16 16" version="1.1" width="16" data-view-component="true" class="octicon octicon-kebab-horizontal Button-visual">
    <path d="M8 9a1.5 1.5 0 1 0 0-3 1.5 1.5 0 0 0 0 3ZM1.5 9a1.5 1.5 0 1 0 0-3 1.5 1.5 0 0 0 0 3Zm13 0a1.5 1.5 0 1 0 0-3 1.5 1.5 0 0 0 0 3Z"></path>
</svg>
</button><tool-tip id="tooltip-a679ed40-a80d-4f67-bfc7-848177106be8" for="action-menu-d46ac6aa-ffc2-4d4e-97da-f32cd5957474-button" popover="manual" data-direction="s" data-type="label" data-view-component="true" class="sr-only position-absolute">Additional navigation options</tool-tip>


<anchored-position id="action-menu-d46ac6aa-ffc2-4d4e-97da-f32cd5957474-overlay" anchor="action-menu-d46ac6aa-ffc2-4d4e-97da-f32cd5957474-button" align="start" side="outside-bottom" anchor-offset="normal" popover="auto" data-view-component="true">
  <div data-view-component="true" class="Overlay Overlay--size-auto">
    
      <div data-view-component="true" class="Overlay-body Overlay-body--paddingNone">          <action-list>
  <div data-view-component="true">
    <ul aria-labelledby="action-menu-d46ac6aa-ffc2-4d4e-97da-f32cd5957474-button" id="action-menu-d46ac6aa-ffc2-4d4e-97da-f32cd5957474-list" role="menu" data-view-component="true" class="ActionListWrap--inset ActionListWrap">
        <li hidden="hidden" data-menu-item="i0code-tab" data-targets="action-list.items" role="none" data-view-component="true" class="ActionListItem">
    
    
    <a tabindex="-1" id="item-9d62a87d-1006-4b4a-bf9e-5b0c7222bc3e" href="/Aish16032001/Pythoncourse_assignments" role="menuitem" data-view-component="true" class="ActionListContent ActionListContent--visual16">
        <span class="ActionListItem-visual ActionListItem-visual--leading">
          <svg aria-hidden="true" height="16" viewBox="0 0 16 16" version="1.1" width="16" data-view-component="true" class="octicon octicon-code">
    <path d="m11.28 3.22 4.25 4.25a.75.75 0 0 1 0 1.06l-4.25 4.25a.749.749 0 0 1-1.275-.326.749.749 0 0 1 .215-.734L13.94 8l-3.72-3.72a.749.749 0 0 1 .326-1.275.749.749 0 0 1 .734.215Zm-6.56 0a.751.751 0 0 1 1.042.018.751.751 0 0 1 .018 1.042L2.06 8l3.72 3.72a.749.749 0 0 1-.326 1.275.749.749 0 0 1-.734-.215L.47 8.53a.75.75 0 0 1 0-1.06Z"></path>
</svg>
        </span>
      
        <span data-view-component="true" class="ActionListItem-label">
          Code
</span>      
</a>
  
</li>
        <li hidden="hidden" data-menu-item="i1issues-tab" data-targets="action-list.items" role="none" data-view-component="true" class="ActionListItem">
    
    
    <a tabindex="-1" id="item-edf5034c-9f7d-4c46-be6b-4142a9eaea49" href="/Aish16032001/Pythoncourse_assignments/issues" role="menuitem" data-view-component="true" class="ActionListContent ActionListContent--visual16">
        <span class="ActionListItem-visual ActionListItem-visual--leading">
          <svg aria-hidden="true" height="16" viewBox="0 0 16 16" version="1.1" width="16" data-view-component="true" class="octicon octicon-issue-opened">
    <path d="M8 9.5a1.5 1.5 0 1 0 0-3 1.5 1.5 0 0 0 0 3Z"></path><path d="M8 0a8 8 0 1 1 0 16A8 8 0 0 1 8 0ZM1.5 8a6.5 6.5 0 1 0 13 0 6.5 6.5 0 0 0-13 0Z"></path>
</svg>
        </span>
      
        <span data-view-component="true" class="ActionListItem-label">
          Issues
</span>      
</a>
  
</li>
        <li hidden="hidden" data-menu-item="i2pull-requests-tab" data-targets="action-list.items" role="none" data-view-component="true" class="ActionListItem">
    
    
    <a tabindex="-1" id="item-3515a454-4a07-4bc3-bef1-df836f5494f7" href="/Aish16032001/Pythoncourse_assignments/pulls" role="menuitem" data-view-component="true" class="ActionListContent ActionListContent--visual16">
        <span class="ActionListItem-visual ActionListItem-visual--leading">
          <svg aria-hidden="true" height="16" viewBox="0 0 16 16" version="1.1" width="16" data-view-component="true" class="octicon octicon-git-pull-request">
    <path d="M1.5 3.25a2.25 2.25 0 1 1 3 2.122v5.256a2.251 2.251 0 1 1-1.5 0V5.372A2.25 2.25 0 0 1 1.5 3.25Zm5.677-.177L9.573.677A.25.25 0 0 1 10 .854V2.5h1A2.5 2.5 0 0 1 13.5 5v5.628a2.251 2.251 0 1 1-1.5 0V5a1 1 0 0 0-1-1h-1v1.646a.25.25 0 0 1-.427.177L7.177 3.427a.25.25 0 0 1 0-.354ZM3.75 2.5a.75.75 0 1 0 0 1.5.75.75 0 0 0 0-1.5Zm0 9.5a.75.75 0 1 0 0 1.5.75.75 0 0 0 0-1.5Zm8.25.75a.75.75 0 1 0 1.5 0 .75.75 0 0 0-1.5 0Z"></path>
</svg>
        </span>
      
        <span data-view-component="true" class="ActionListItem-label">
          Pull requests
</span>      
</a>
  
</li>
        <li hidden="hidden" data-menu-item="i3actions-tab" data-targets="action-list.items" role="none" data-view-component="true" class="ActionListItem">
    
    
    <a tabindex="-1" id="item-f8e512c7-9da7-4ca8-b87c-7e466f97e236" href="/Aish16032001/Pythoncourse_assignments/actions" role="menuitem" data-view-component="true" class="ActionListContent ActionListContent--visual16">
        <span class="ActionListItem-visual ActionListItem-visual--leading">
          <svg aria-hidden="true" height="16" viewBox="0 0 16 16" version="1.1" width="16" data-view-component="true" class="octicon octicon-play">
    <path d="M8 0a8 8 0 1 1 0 16A8 8 0 0 1 8 0ZM1.5 8a6.5 6.5 0 1 0 13 0 6.5 6.5 0 0 0-13 0Zm4.879-2.773 4.264 2.559a.25.25 0 0 1 0 .428l-4.264 2.559A.25.25 0 0 1 6 10.559V5.442a.25.25 0 0 1 .379-.215Z"></path>
</svg>
        </span>
      
        <span data-view-component="true" class="ActionListItem-label">
          Actions
</span>      
</a>
  
</li>
        <li hidden="hidden" data-menu-item="i4projects-tab" data-targets="action-list.items" role="none" data-view-component="true" class="ActionListItem">
    
    
    <a tabindex="-1" id="item-f148d8e2-6b3e-4a32-b4ff-eaf9bb5f1538" href="/Aish16032001/Pythoncourse_assignments/projects" role="menuitem" data-view-component="true" class="ActionListContent ActionListContent--visual16">
        <span class="ActionListItem-visual ActionListItem-visual--leading">
          <svg aria-hidden="true" height="16" viewBox="0 0 16 16" version="1.1" width="16" data-view-component="true" class="octicon octicon-table">
    <path d="M0 1.75C0 .784.784 0 1.75 0h12.5C15.216 0 16 .784 16 1.75v12.5A1.75 1.75 0 0 1 14.25 16H1.75A1.75 1.75 0 0 1 0 14.25ZM6.5 6.5v8h7.75a.25.25 0 0 0 .25-.25V6.5Zm8-1.5V1.75a.25.25 0 0 0-.25-.25H6.5V5Zm-13 1.5v7.75c0 .138.112.25.25.25H5v-8ZM5 5V1.5H1.75a.25.25 0 0 0-.25.25V5Z"></path>
</svg>
        </span>
      
        <span data-view-component="true" class="ActionListItem-label">
          Projects
</span>      
</a>
  
</li>
        <li hidden="hidden" data-menu-item="i5security-tab" data-targets="action-list.items" role="none" data-view-component="true" class="ActionListItem">
    
    
    <a tabindex="-1" id="item-8050fefe-38f3-4c71-956c-7ad2fed1b1f5" href="/Aish16032001/Pythoncourse_assignments/security" role="menuitem" data-view-component="true" class="ActionListContent ActionListContent--visual16">
        <span class="ActionListItem-visual ActionListItem-visual--leading">
          <svg aria-hidden="true" height="16" viewBox="0 0 16 16" version="1.1" width="16" data-view-component="true" class="octicon octicon-shield">
    <path d="M7.467.133a1.748 1.748 0 0 1 1.066 0l5.25 1.68A1.75 1.75 0 0 1 15 3.48V7c0 1.566-.32 3.182-1.303 4.682-.983 1.498-2.585 2.813-5.032 3.855a1.697 1.697 0 0 1-1.33 0c-2.447-1.042-4.049-2.357-5.032-3.855C1.32 10.182 1 8.566 1 7V3.48a1.75 1.75 0 0 1 1.217-1.667Zm.61 1.429a.25.25 0 0 0-.153 0l-5.25 1.68a.25.25 0 0 0-.174.238V7c0 1.358.275 2.666 1.057 3.86.784 1.194 2.121 2.34 4.366 3.297a.196.196 0 0 0 .154 0c2.245-.956 3.582-2.104 4.366-3.298C13.225 9.666 13.5 8.36 13.5 7V3.48a.251.251 0 0 0-.174-.237l-5.25-1.68ZM8.75 4.75v3a.75.75 0 0 1-1.5 0v-3a.75.75 0 0 1 1.5 0ZM9 10.5a1 1 0 1 1-2 0 1 1 0 0 1 2 0Z"></path>
</svg>
        </span>
      
        <span data-view-component="true" class="ActionListItem-label">
          Security
</span>      
</a>
  
</li>
        <li hidden="hidden" data-menu-item="i6insights-tab" data-targets="action-list.items" role="none" data-view-component="true" class="ActionListItem">
    
    
    <a tabindex="-1" id="item-0d34063b-3489-4750-850f-8c03c51fb869" href="/Aish16032001/Pythoncourse_assignments/pulse" role="menuitem" data-view-component="true" class="ActionListContent ActionListContent--visual16">
        <span class="ActionListItem-visual ActionListItem-visual--leading">
          <svg aria-hidden="true" height="16" viewBox="0 0 16 16" version="1.1" width="16" data-view-component="true" class="octicon octicon-graph">
    <path d="M1.5 1.75V13.5h13.75a.75.75 0 0 1 0 1.5H.75a.75.75 0 0 1-.75-.75V1.75a.75.75 0 0 1 1.5 0Zm14.28 2.53-5.25 5.25a.75.75 0 0 1-1.06 0L7 7.06 4.28 9.78a.751.751 0 0 1-1.042-.018.751.751 0 0 1-.018-1.042l3.25-3.25a.75.75 0 0 1 1.06 0L10 7.94l4.72-4.72a.751.751 0 0 1 1.042.018.751.751 0 0 1 .018 1.042Z"></path>
</svg>
        </span>
      
        <span data-view-component="true" class="ActionListItem-label">
          Insights
</span>      
</a>
  
</li>
</ul>    
</div></action-list>


</div>
      
</div></anchored-position>  </focus-group>
</action-menu></div>
</nav>
      </div>
</header>


      <div hidden="hidden" data-view-component="true" class="js-stale-session-flash stale-session-flash flash flash-warn flash-full">
  
        <svg aria-hidden="true" height="16" viewBox="0 0 16 16" version="1.1" width="16" data-view-component="true" class="octicon octicon-alert">
    <path d="M6.457 1.047c.659-1.234 2.427-1.234 3.086 0l6.082 11.378A1.75 1.75 0 0 1 14.082 15H1.918a1.75 1.75 0 0 1-1.543-2.575Zm1.763.707a.25.25 0 0 0-.44 0L1.698 13.132a.25.25 0 0 0 .22.368h12.164a.25.25 0 0 0 .22-.368Zm.53 3.996v2.5a.75.75 0 0 1-1.5 0v-2.5a.75.75 0 0 1 1.5 0ZM9 11a1 1 0 1 1-2 0 1 1 0 0 1 2 0Z"></path>
</svg>
        <span class="js-stale-session-flash-signed-in" hidden>You signed in with another tab or window. <a class="Link--inTextBlock" href="">Reload</a> to refresh your session.</span>
        <span class="js-stale-session-flash-signed-out" hidden>You signed out in another tab or window. <a class="Link--inTextBlock" href="">Reload</a> to refresh your session.</span>
        <span class="js-stale-session-flash-switched" hidden>You switched accounts on another tab or window. <a class="Link--inTextBlock" href="">Reload</a> to refresh your session.</span>

    <button id="icon-button-7a85e711-9b51-404d-8fea-f3a09cb9e7ec" aria-labelledby="tooltip-49f68048-0b63-4012-aa17-90f31c6a3ed3" type="button" data-view-component="true" class="Button Button--iconOnly Button--invisible Button--medium flash-close js-flash-close">  <svg aria-hidden="true" height="16" viewBox="0 0 16 16" version="1.1" width="16" data-view-component="true" class="octicon octicon-x Button-visual">
    <path d="M3.72 3.72a.75.75 0 0 1 1.06 0L8 6.94l3.22-3.22a.749.749 0 0 1 1.275.326.749.749 0 0 1-.215.734L9.06 8l3.22 3.22a.749.749 0 0 1-.326 1.275.749.749 0 0 1-.734-.215L8 9.06l-3.22 3.22a.751.751 0 0 1-1.042-.018.751.751 0 0 1-.018-1.042L6.94 8 3.72 4.78a.75.75 0 0 1 0-1.06Z"></path>
</svg>
</button><tool-tip id="tooltip-49f68048-0b63-4012-aa17-90f31c6a3ed3" for="icon-button-7a85e711-9b51-404d-8fea-f3a09cb9e7ec" popover="manual" data-direction="s" data-type="label" data-view-component="true" class="sr-only position-absolute">Dismiss alert</tool-tip>


  
</div>
          
    </div>

  <div id="start-of-content" class="show-on-focus"></div>








    <div id="js-flash-container" class="flash-container" data-turbo-replace>




  <template class="js-flash-template">
    
<div class="flash flash-full   {{ className }}">
  <div >
    <button autofocus class="flash-close js-flash-close" type="button" aria-label="Dismiss this message">
      <svg aria-hidden="true" height="16" viewBox="0 0 16 16" version="1.1" width="16" data-view-component="true" class="octicon octicon-x">
    <path d="M3.72 3.72a.75.75 0 0 1 1.06 0L8 6.94l3.22-3.22a.749.749 0 0 1 1.275.326.749.749 0 0 1-.215.734L9.06 8l3.22 3.22a.749.749 0 0 1-.326 1.275.749.749 0 0 1-.734-.215L8 9.06l-3.22 3.22a.751.751 0 0 1-1.042-.018.751.751 0 0 1-.018-1.042L6.94 8 3.72 4.78a.75.75 0 0 1 0-1.06Z"></path>
</svg>
    </button>
    <div aria-atomic="true" role="alert" class="js-flash-alert">
      
      <div>{{ message }}</div>

    </div>
  </div>
</div>
  </template>
</div>


    
  <notification-shelf-watcher data-base-url="https://github.com/notifications/beta/shelf" data-channel="eyJjIjoibm90aWZpY2F0aW9uLWNoYW5nZWQ6NTMyNjM0MzgiLCJ0IjoxNzMzNDM2MTcyfQ==--dc50d6b7943afbb56d622f07b93c3c90b9efd6b2bda9b5b35a87d96a5648a235" data-view-component="true" class="js-socket-channel"></notification-shelf-watcher>
  <div hidden data-initial data-target="notification-shelf-watcher.placeholder"></div>






  <div
    class="application-main "
    data-commit-hovercards-enabled
    data-discussion-hovercards-enabled
    data-issue-and-pr-hovercards-enabled
  >
        <div itemscope itemtype="http://schema.org/SoftwareSourceCode" class="">
    <main id="js-repo-pjax-container" >
      
      






    
  <div id="repository-container-header" data-turbo-replace hidden ></div>




<turbo-frame id="repo-content-turbo-frame" target="_top" data-turbo-action="advance" class="">
    <div id="repo-content-pjax-container" class="repository-content " >
      <a href="https://github.dev/" class="d-none js-github-dev-shortcut" data-hotkey=".,Mod+Alt+.">Open in github.dev</a>
  <a href="https://github.dev/" class="d-none js-github-dev-new-tab-shortcut" data-hotkey="Shift+.,Shift+&gt;,&gt;" target="_blank" rel="noopener noreferrer">Open in a new github.dev tab</a>
    <a class="d-none" data-hotkey=",,Mod+Alt+," target="_blank" href="/codespaces/new/Aish16032001/Pythoncourse_assignments/tree/main?resume=1">Open in codespace</a>




    
      
    








<react-app
  app-name="react-code-view"
  initial-path="/Aish16032001/Pythoncourse_assignments/blob/main/day05/assign5.ipynb"
    class="react-app"
  data-attempted-ssr="true"
  data-ssr="true"
  data-lazy="false"
  data-alternate="false"
>
  
  <script type="application/json" data-target="react-app.embeddedData">{"payload":{"allShortcutsEnabled":true,"fileTree":{"day05":{"items":[{"name":"a_seq.txt","path":"day05/a_seq.txt","contentType":"file"},{"name":"assign5.ipynb","path":"day05/assign5.ipynb","contentType":"file"},{"name":"assign5_seq.py","path":"day05/assign5_seq.py","contentType":"file"},{"name":"b_seq.txt","path":"day05/b_seq.txt","contentType":"file"},{"name":"patient_data.csv","path":"day05/patient_data.csv","contentType":"file"},{"name":"test_seq.py","path":"day05/test_seq.py","contentType":"file"}],"totalCount":6},"":{"items":[{"name":"day02","path":"day02","contentType":"directory"},{"name":"day03","path":"day03","contentType":"directory"},{"name":"day04","path":"day04","contentType":"directory"},{"name":"day05","path":"day05","contentType":"directory"},{"name":"README.md","path":"README.md","contentType":"file"}],"totalCount":5}},"fileTreeProcessingTime":3.1799939999999998,"foldersToFetch":[],"repo":{"id":886136272,"defaultBranch":"main","name":"Pythoncourse_assignments","ownerLogin":"Aish16032001","currentUserCanPush":false,"isFork":false,"isEmpty":false,"createdAt":"2024-11-10T11:51:33.000+02:00","ownerAvatar":"https://avatars.githubusercontent.com/u/187172808?v=4","public":true,"private":false,"isOrgOwned":false},"codeLineWrapEnabled":false,"symbolsExpanded":true,"treeExpanded":false,"refInfo":{"name":"main","listCacheKey":"v0:1731250187.0","canEdit":true,"refType":"branch","currentOid":"9c08d04cb2ee95c7ec3eb4670948553566ba1df2"},"path":"day05/assign5.ipynb","currentUser":{"id":53263438,"login":"AnatolyKustanovich","userEmail":"amkustanovich@gmail.com"},"blob":{"rawLines":["{"," \"cells\": [","  {","   \"cell_type\": \"code\",","   \"execution_count\": 14,","   \"id\": \"72830661-e124-4a79-b03d-ec2ac3e8fd0f\",","   \"metadata\": {},","   \"outputs\": [","    {","     \"name\": \"stdout\",","     \"output_type\": \"stream\",","     \"text\": [","      \"   PatientID  Age Sex  Condition  WBC_Count\\n\",","      \"0          1   25   M    Healthy       5600\\n\",","      \"1          2   40   F  Infection      11000\\n\",","      \"2          3   35   F    Healthy       6700\\n\",","      \"3          4   50   M     Cancer       8700\\n\",","      \"4          5   60   M  Infection      13400 \\n\",","      \"\\n\",","      \"Total number of rows : 10\\n\"","     ]","    }","   ],","   \"source\": [","    \"# Assignment 5\\n\",","    \"#PART 1\\n\",","    \"import pandas as pd\\n\",","    \"\\n\",","    \"# Load the dataset\\n\",","    \"\\n\",","    \"data = pd.read_csv('patient_data.csv')\\n\",","    \"\\n\",","    \"# Display the first 5 rows of the dataset\\n\",","    \"print(data.head(5),'\\\\n')\\n\",","    \"\\n\",","    \"# Count the number of patients\\n\",","    \"number_of_rows = len(data) \\n\",","    \"print(\\\"Total number of rows :\\\",number_of_rows)\\n\"","   ]","  },","  {","   \"cell_type\": \"code\",","   \"execution_count\": 15,","   \"id\": \"304d3ff5-b982-4b8f-9476-9ca6d61b45d4\",","   \"metadata\": {},","   \"outputs\": [","    {","     \"name\": \"stdout\",","     \"output_type\": \"stream\",","     \"text\": [","      \"\\n\",","      \"Mean WBC count: 8710.0\\n\",","      \"Minimum WBC count: 5400\\n\",","      \"Maximum WBC count: 13400\\n\",","      \"\\n\",","      \"Number of unique conditions: 3\\n\"","     ]","    }","   ],","   \"source\": [","    \"# TASK 2\\n\",","    \"import pandas as pd\\n\",","    \"\\n\",","    \"data = pd.read_csv('patient_data.csv')\\n\",","    \"\\n\",","    \"# mean WBC count and store it in 'mean_wbc'\\n\",","    \"mean_wbc = data[\\\"WBC_Count\\\"].mean()\\n\",","    \"\\n\",","    \"# minimum WBC count and store it in 'min_wbc'\\n\",","    \"min_wbc = data[\\\"WBC_Count\\\"].min()\\n\",","    \"\\n\",","    \"# maximum WBC count and store it in 'max_wbc'\\n\",","    \"max_wbc = data[\\\"WBC_Count\\\"].max()\\n\",","    \"\\n\",","    \"print(f\\\"\\\\nMean WBC count: {mean_wbc}\\\")\\n\",","    \"print(f\\\"Minimum WBC count: {min_wbc}\\\")\\n\",","    \"print(f\\\"Maximum WBC count: {max_wbc}\\\")\\n\",","    \"\\n\",","    \"# Count unique conditions\\n\",","    \"# unique conditions and store it in 'unique_conditions'\\n\",","    \"unique_conditions = data[\\\"Condition\\\"].nunique()\\n\",","    \"\\n\",","    \"print(f\\\"\\\\nNumber of unique conditions: {unique_conditions}\\\")\"","   ]","  },","  {","   \"cell_type\": \"code\",","   \"execution_count\": 18,","   \"id\": \"246588ad-fc66-46ca-9fab-98429397d34f\",","   \"metadata\": {},","   \"outputs\": [","    {","     \"name\": \"stdout\",","     \"output_type\": \"stream\",","     \"text\": [","      \"\\n\",","      \"Patients with WBC count above 10,000:\\n\",","      \"   PatientID  Age Sex  Condition  WBC_Count\\n\",","      \"1          2   40   F  Infection      11000\\n\",","      \"4          5   60   M  Infection      13400\\n\",","      \"7          8   45   F  Infection      12500\\n\",","      \"\\n\",","      \"Patients with the condition 'Healthy':\\n\",","      \"   PatientID  Age Sex Condition  WBC_Count\\n\",","      \"0          1   25   M   Healthy       5600\\n\",","      \"2          3   35   F   Healthy       6700\\n\",","      \"5          6   30   F   Healthy       5900\\n\",","      \"8          9   20   F   Healthy       5400\\n\"","     ]","    }","   ],","   \"source\": [","    \"# TASK 3\\n\",","    \"# Filter patients with WBC count \u003e 10,000\\n\",","    \"\\n\",","    \"data = pd.read_csv('patient_data.csv')\\n\",","    \"\\n\",","    \"# 'high_wbc' containing patients with WBC_Count \u003e 10000\\n\",","    \"\\n\",","    \"high_wbc = data[data[\\\"WBC_Count\\\"] \u003e 10000]\\n\",","    \"\\n\",","    \"print(\\\"\\\\nPatients with WBC count above 10,000:\\\")\\n\",","    \"print(high_wbc)\\n\",","    \"\\n\",","    \"# Filter patients with the condition 'Healthy'\\n\",","    \"\\n\",","    \"healthy_patients = data[data[\\\"Condition\\\"] == \\\"Healthy\\\"]\\n\",","    \"\\n\",","    \"print(\\\"\\\\nPatients with the condition 'Healthy':\\\")\\n\",","    \"print(healthy_patients)\"","   ]","  },","  {","   \"cell_type\": \"code\",","   \"execution_count\": 38,","   \"id\": \"1cb590b0-b31a-4e3c-ba00-9357b60bda36\",","   \"metadata\": {},","   \"outputs\": [","    {","     \"name\": \"stdout\",","     \"output_type\": \"stream\",","     \"text\": [","      \"\\n\",","      \"Number of patients by condition:\\n\",","      \"           Count\\n\",","      \"Condition       \\n\",","      \"Healthy        4\\n\",","      \"Infection      3\\n\",","      \"Cancer         3\\n\"","     ]","    }","   ],","   \"source\": [","    \"# TASK 4\\n\",","    \"# Count patients by condition\\n\",","    \"data = pd.read_csv('patient_data.csv')\\n\",","    \"\\n\",","    \"condition_counts = data[\\\"Condition\\\"].value_counts().to_frame()\\n\",","    \"condition_counts.columns = [\\\"Count\\\"]\\n\",","    \"\\n\",","    \"print(\\\"\\\\nNumber of patients by condition:\\\")\\n\",","    \"print(condition_counts)\\n\",","    \"\\n\"","   ]","  },","  {","   \"cell_type\": \"code\",","   \"execution_count\": 44,","   \"id\": \"efb5a918-769f-46fb-9fcf-c47b16993745\",","   \"metadata\": {},","   \"outputs\": [","    {","     \"data\": {","      \"image/png\": \"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\",","      \"text/plain\": [","       \"\u003cFigure size 700x400 with 1 Axes\u003e\"","      ]","     },","     \"metadata\": {},","     \"output_type\": \"display_data\"","    },","    {","     \"data\": {","      \"image/png\": \"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\",","      \"text/plain\": [","       \"\u003cFigure size 700x400 with 1 Axes\u003e\"","      ]","     },","     \"metadata\": {},","     \"output_type\": \"display_data\"","    }","   ],","   \"source\": [","    \"# TASK 5\\n\",","    \"import pandas as pd\\n\",","    \"import matplotlib.pyplot as plt\\n\",","    \"\\n\",","    \"data = pd.read_csv('patient_data.csv')\\n\",","    \"\\n\",","    \"\\n\",","    \"# Count patients by condition\\n\",","    \"condition_counts = data[\\\"Condition\\\"].value_counts()\\n\",","    \"\\n\",","    \"# Bar chart \\n\",","    \"plt.figure(figsize=(7, 4))\\n\",","    \"condition_counts.plot(kind='bar', color=['violet', 'orange', 'green'])\\n\",","    \"\\n\",","    \"plt.title(\\\"Number of Patients by Condition\\\")\\n\",","    \"plt.xlabel(\\\"Condition\\\")\\n\",","    \"plt.ylabel(\\\"Count\\\")\\n\",","    \"plt.xticks(rotation=0)\\n\",","    \"plt.grid(axis='y', linestyle='--', alpha=0.5)\\n\",","    \"plt.show()\\n\",","    \"\\n\",","    \"# Scatter plot of Age vs. WBC Count\\n\",","    \"plt.figure(figsize=(7, 4))\\n\",","    \"plt.scatter(data[\\\"Age\\\"], data[\\\"WBC_Count\\\"], color='red', alpha=0.5)\\n\",","    \"plt.title(\\\"Age vs. WBC Count\\\")\\n\",","    \"plt.xlabel(\\\"Age\\\")\\n\",","    \"plt.ylabel(\\\"WBC Count\\\")\\n\",","    \"plt.grid(linestyle='--', alpha=0.5)\\n\",","    \"plt.show()\"","   ]","  },","  {","   \"cell_type\": \"code\",","   \"execution_count\": null,","   \"id\": \"874eb76b-4b89-4682-be21-e033487d7ed8\",","   \"metadata\": {},","   \"outputs\": [],","   \"source\": []","  }"," ],"," \"metadata\": {","  \"kernelspec\": {","   \"display_name\": \"Python 3 (ipykernel)\",","   \"language\": \"python\",","   \"name\": \"python3\"","  },","  \"language_info\": {","   \"codemirror_mode\": {","    \"name\": \"ipython\",","    \"version\": 3","   },","   \"file_extension\": \".py\",","   \"mimetype\": \"text/x-python\",","   \"name\": \"python\",","   \"nbconvert_exporter\": \"python\",","   \"pygments_lexer\": \"ipython3\",","   \"version\": \"3.13.0\"","  }"," },"," \"nbformat\": 4,"," \"nbformat_minor\": 5","}"],"stylingDirectives":null,"colorizedLines":null,"csv":null,"csvError":null,"dependabotInfo":{"showConfigurationBanner":false,"configFilePath":null,"networkDependabotPath":"/Aish16032001/Pythoncourse_assignments/network/updates","dismissConfigurationNoticePath":"/settings/dismiss-notice/dependabot_configuration_notice","configurationNoticeDismissed":false},"displayName":"assign5.ipynb","displayUrl":"https://notebooks.githubusercontent.com/view/ipynb?browser=chrome\u0026bypass_fastly=true\u0026color_mode=auto\u0026commit=9c08d04cb2ee95c7ec3eb4670948553566ba1df2\u0026device=unknown_device\u0026docs_host=https%3A%2F%2Fdocs.github.com\u0026enc_url=68747470733a2f2f7261772e67697468756275736572636f6e74656e742e636f6d2f4169736831363033323030312f507974686f6e636f757273655f61737369676e6d656e74732f396330386430346362326565393563376563336562343637303934383535333536366261316466322f64617930352f61737369676e352e6970796e62\u0026logged_in=true\u0026nwo=Aish16032001%2FPythoncourse_assignments\u0026path=day05%2Fassign5.ipynb\u0026platform=windows\u0026repository_id=886136272\u0026repository_type=Repository\u0026version=131","headerInfo":{"blobSize":"76.6 KB","deleteTooltip":"Fork this repository and delete the file","editTooltip":"Fork this repository and edit the file","ghDesktopPath":"https://desktop.github.com","isGitLfs":false,"onBranch":true,"shortPath":"c4e14cc","siteNavLoginPath":"/login?return_to=https%3A%2F%2Fgithub.com%2FAish16032001%2FPythoncourse_assignments%2Fblob%2Fmain%2Fday05%2Fassign5.ipynb","isCSV":false,"isRichtext":false,"toc":null,"lineInfo":{"truncatedLoc":"255","truncatedSloc":"255"},"mode":"file"},"image":false,"isCodeownersFile":null,"isPlain":false,"isValidLegacyIssueTemplate":false,"issueTemplate":null,"discussionTemplate":null,"language":"Jupyter Notebook","languageID":185,"large":false,"planSupportInfo":{"repoIsFork":null,"repoOwnedByCurrentUser":null,"requestFullPath":"/Aish16032001/Pythoncourse_assignments/blob/main/day05/assign5.ipynb","showFreeOrgGatedFeatureMessage":null,"showPlanSupportBanner":null,"upgradeDataAttributes":null,"upgradePath":null},"publishBannersInfo":{"dismissActionNoticePath":"/settings/dismiss-notice/publish_action_from_dockerfile","releasePath":"/Aish16032001/Pythoncourse_assignments/releases/new?marketplace=true","showPublishActionBanner":false},"rawBlobUrl":"https://github.com/Aish16032001/Pythoncourse_assignments/raw/refs/heads/main/day05/assign5.ipynb","renderImageOrRaw":false,"richText":null,"renderedFileInfo":{"identityUUID":"46890ac8-2e17-49c9-876e-7b9c13a5d90d","renderFileType":"ipynb","size":78393},"shortPath":null,"symbolsEnabled":true,"tabSize":8,"topBannersInfo":{"overridingGlobalFundingFile":false,"globalPreferredFundingPath":null,"showInvalidCitationWarning":false,"citationHelpUrl":"https://docs.github.com/github/creating-cloning-and-archiving-repositories/creating-a-repository-on-github/about-citation-files","actionsOnboardingTip":null},"truncated":false,"viewable":true,"workflowRedirectUrl":null,"symbols":{"timed_out":false,"not_analyzed":true,"symbols":[]}},"copilotInfo":{"documentationUrl":"https://docs.github.com/copilot/overview-of-github-copilot/about-github-copilot-for-individuals","notices":{"codeViewPopover":{"dismissed":false,"dismissPath":"/settings/dismiss-notice/code_view_copilot_popover"}},"userAccess":{"hasSubscriptionEnded":false,"orgHasCFBAccess":false,"userHasCFIAccess":false,"userHasOrgs":false,"userIsOrgAdmin":false,"userIsOrgMember":false,"business":null,"featureRequestInfo":null}},"copilotAccessAllowed":false,"csrf_tokens":{"/Aish16032001/Pythoncourse_assignments/branches":{"post":"tZpIWC-oDnG2EJmWCatuQzhh3mKQkY5vV0LlOQ438pvDlnPc-1KKsHMZiVL4dfkqVmBZjQH00vSVjDdZQxYW7A"},"/repos/preferences":{"post":"wfXP4wwSIDWzj8AlEKBKR19dutYbgXYMYcFbi05OxCOWKy-yx3TZCI2ycj_0h4nNMFM5RsxBUWnW8R2xfTMTmg"}}},"title":"Pythoncourse_assignments/day05/assign5.ipynb at main · Aish16032001/Pythoncourse_assignments","appPayload":{"helpUrl":"https://docs.github.com","findFileWorkerPath":"/assets-cdn/worker/find-file-worker-1583894afd38.js","findInFileWorkerPath":"/assets-cdn/worker/find-in-file-worker-67668e8c2caa.js","githubDevUrl":"https://github.dev/","enabled_features":{"code_nav_ui_events":false,"overview_shared_code_dropdown_button":false,"react_blob_overlay":false,"copilot_conversational_ux_embedding_update":false,"copilot_smell_icebreaker_ux":true,"copilot_workspace":false,"accessible_code_button":true,"github_models_prompt_link":false}}}</script>
  <div data-target="react-app.reactRoot"><style data-styled="true" data-styled-version="5.3.11">.hOfjFo{padding:0;}/*!sc*/
.oDGAe{max-width:100%;margin-left:auto;margin-right:auto;display:-webkit-box;display:-webkit-flex;display:-ms-flexbox;display:flex;-webkit-flex-wrap:wrap;-ms-flex-wrap:wrap;flex-wrap:wrap;}/*!sc*/
.kowOcT{display:-webkit-box;display:-webkit-flex;display:-ms-flexbox;display:flex;-webkit-flex:1 1 100%;-ms-flex:1 1 100%;flex:1 1 100%;-webkit-flex-wrap:wrap;-ms-flex-wrap:wrap;flex-wrap:wrap;max-width:100%;}/*!sc*/
.gISSDQ{width:100%;}/*!sc*/
@media screen and (min-width:544px){.gISSDQ{width:100%;}}/*!sc*/
@media screen and (min-width:768px){.gISSDQ{width:auto;}}/*!sc*/
.jPQPeN{display:none;-webkit-order:1;-ms-flex-order:1;order:1;width:100%;margin-left:0;margin-right:0;-webkit-flex-direction:column;-ms-flex-direction:column;flex-direction:column;margin-bottom:0;min-width:0;}/*!sc*/
@media screen and (min-width:544px){.jPQPeN{-webkit-flex-direction:column;-ms-flex-direction:column;flex-direction:column;}}/*!sc*/
@media screen and (min-width:768px){.jPQPeN{width:auto;margin-top:0 !important;margin-bottom:0 !important;position:-webkit-sticky;position:sticky;top:0px;max-height:100vh !important;-webkit-flex-direction:row;-ms-flex-direction:row;flex-direction:row;margin-right:0;height:100vh;}}/*!sc*/
@media print,screen and (max-width:1349px) and (min-width:768px){.jPQPeN{display:none;}}/*!sc*/
.hPvFuC{margin-left:0;margin-right:0;display:none;margin-top:0;}/*!sc*/
@media screen and (min-width:768px){.hPvFuC{margin-left:0 !important;margin-right:0 !important;}}/*!sc*/
.fFSoPl{--pane-min-width:256px;--pane-max-width-diff:511px;--pane-max-width:calc(100vw - var(--pane-max-width-diff));width:100%;padding:0;}/*!sc*/
@media screen and (min-width:544px){}/*!sc*/
@media screen and (min-width:768px){.fFSoPl{width:clamp(var(--pane-min-width),var(--pane-width),var(--pane-max-width));overflow:auto;}}/*!sc*/
@media screen and (min-width:1280px){.fFSoPl{--pane-max-width-diff:959px;}}/*!sc*/
.bTBnTW{height:100%;position:relative;display:none;margin-left:0;}/*!sc*/
.bHLmSv{position:absolute;inset:0 -2px;cursor:col-resize;background-color:transparent;-webkit-transition-delay:0.1s;transition-delay:0.1s;}/*!sc*/
.bHLmSv:hover{background-color:var(--bgColor-neutral-muted,var(--color-neutral-muted,rgba(175,184,193,0.2)));}/*!sc*/
.iKqMNA{display:-webkit-box;display:-webkit-flex;display:-ms-flexbox;display:flex;-webkit-flex-direction:column;-ms-flex-direction:column;flex-direction:column;-webkit-order:2;-ms-flex-order:2;order:2;-webkit-flex-basis:0;-ms-flex-preferred-size:0;flex-basis:0;-webkit-box-flex:1;-webkit-flex-grow:1;-ms-flex-positive:1;flex-grow:1;-webkit-flex-shrink:1;-ms-flex-negative:1;flex-shrink:1;min-width:1px;margin-right:auto;}/*!sc*/
@media print{.iKqMNA{display:-webkit-box !important;display:-webkit-flex !important;display:-ms-flexbox !important;display:flex !important;}}/*!sc*/
.FxAyp{width:100%;max-width:100%;margin-left:auto;margin-right:auto;-webkit-box-flex:1;-webkit-flex-grow:1;-ms-flex-positive:1;flex-grow:1;padding:0;}/*!sc*/
.leYMvG{margin-left:auto;margin-right:auto;-webkit-flex-direction:column;-ms-flex-direction:column;flex-direction:column;padding-bottom:40px;max-width:100%;margin-top:0;}/*!sc*/
.KMPzq{display:inherit;}/*!sc*/
.hfKjHv{width:100%;}/*!sc*/
.gZWyZE{display:-webkit-box;display:-webkit-flex;display:-ms-flexbox;display:flex;gap:8px;-webkit-flex-direction:column;-ms-flex-direction:column;flex-direction:column;width:100%;}/*!sc*/
.dwYKDk{display:-webkit-box;display:-webkit-flex;display:-ms-flexbox;display:flex;-webkit-align-items:start;-webkit-box-align:start;-ms-flex-align:start;align-items:start;-webkit-box-pack:justify;-webkit-justify-content:space-between;-ms-flex-pack:justify;justify-content:space-between;gap:8px;}/*!sc*/
.ibcGmb{display:-webkit-box;display:-webkit-flex;display:-ms-flexbox;display:flex;-webkit-align-items:start;-webkit-box-align:start;-ms-flex-align:start;align-items:start;min-width:0;}/*!sc*/
.hKaEJF{display:block;margin-right:8px;}/*!sc*/
@media screen and (min-width:1360px){.hKaEJF{display:block;}}/*!sc*/
.XosP{display:-webkit-box;display:-webkit-flex;display:-ms-flexbox;display:flex;font-size:14px;}/*!sc*/
.bCKfWo[data-size="medium"]{color:var(--fgColor-muted,var(--color-fg-muted,#656d76));padding-left:8px;padding-right:8px;display:none;}/*!sc*/
@media screen and (max-width:768px){.bCKfWo[data-size="medium"]{display:block;}}/*!sc*/
.gUkoLg{-webkit-box-pack:center;-webkit-justify-content:center;-ms-flex-pack:center;justify-content:center;}/*!sc*/
.dmxRgG[data-size="medium"]{display:-webkit-box;display:-webkit-flex;display:-ms-flexbox;display:flex;}/*!sc*/
.dmxRgG[data-size="medium"] svg{color:var(--fgColor-muted,var(--color-fg-muted,#656d76));}/*!sc*/
.dmxRgG[data-size="medium"] > span{width:inherit;}/*!sc*/
.bZBlpz{display:-webkit-box;display:-webkit-flex;display:-ms-flexbox;display:flex;width:100%;}/*!sc*/
.lhTYNA{margin-right:4px;color:var(--fgColor-muted,var(--color-fg-muted,#656d76));}/*!sc*/
.dbrgmi{font-size:14px;min-width:0;max-width:125px;overflow:hidden;text-overflow:ellipsis;white-space:nowrap;}/*!sc*/
.bmcJak{min-width:0;}/*!sc*/
.dHJiml{-webkit-align-self:center;-ms-flex-item-align:center;align-self:center;display:-webkit-box;display:-webkit-flex;display:-ms-flexbox;display:flex;padding-left:8px;padding-right:8px;min-width:0;}/*!sc*/
.cEytCf{display:-webkit-box;display:-webkit-flex;display:-ms-flexbox;display:flex;-webkit-flex-direction:row;-ms-flex-direction:row;flex-direction:row;font-size:16px;min-width:0;-webkit-flex-shrink:1;-ms-flex-negative:1;flex-shrink:1;-webkit-flex-wrap:wrap;-ms-flex-wrap:wrap;flex-wrap:wrap;max-width:100%;-webkit-align-items:center;-webkit-box-align:center;-ms-flex-align:center;align-items:center;}/*!sc*/
.fzFXnm{max-width:100%;}/*!sc*/
.iMnkmv{max-width:100%;list-style:none;display:inline-block;}/*!sc*/
.ghzDag{display:inline-block;max-width:100%;}/*!sc*/
.kHuKdh{font-weight:600;}/*!sc*/
.hzJBof{padding-left:4px;padding-right:4px;font-weight:400;color:var(--fgColor-muted,var(--color-fg-muted,#656d76));font-size:16px;}/*!sc*/
.kgiVEz{font-weight:400;}/*!sc*/
.jGhzSQ{font-weight:600;display:inline-block;max-width:100%;font-size:16px;}/*!sc*/
.faNtbn{min-height:32px;display:-webkit-box;display:-webkit-flex;display:-ms-flexbox;display:flex;-webkit-align-items:start;-webkit-box-align:start;-ms-flex-align:start;align-items:start;}/*!sc*/
.fmQaBv{margin-left:4px;margin-right:4px;}/*!sc*/
.dItACB{margin-right:-6px;}/*!sc*/
.dwNhzn[data-size="medium"][data-no-visuals]{border-top-left-radius:0;border-bottom-left-radius:0;display:none;}/*!sc*/
.fGwBZA[data-size="medium"][data-no-visuals]{color:var(--fgColor-muted,var(--color-fg-muted,#656d76));}/*!sc*/
.dJxjrT{margin-left:16px;margin-right:16px;}/*!sc*/
.eFxKDQ{display:-webkit-box;display:-webkit-flex;display:-ms-flexbox;display:flex;-webkit-flex-direction:column;-ms-flex-direction:column;flex-direction:column;}/*!sc*/
.dzCJzi{display:-webkit-box;display:-webkit-flex;display:-ms-flexbox;display:flex;-webkit-flex-direction:row;-ms-flex-direction:row;flex-direction:row;-webkit-flex-wrap:wrap;-ms-flex-wrap:wrap;flex-wrap:wrap;-webkit-box-pack:justify;-webkit-justify-content:space-between;-ms-flex-pack:justify;justify-content:space-between;-webkit-align-items:center;-webkit-box-align:center;-ms-flex-align:center;align-items:center;gap:8px;min-width:273px;padding:8px;}/*!sc*/
@media screen and (min-width:544px){.dzCJzi{-webkit-flex-wrap:nowrap;-ms-flex-wrap:nowrap;flex-wrap:nowrap;}}/*!sc*/
.ldRxiI{display:-webkit-box;display:-webkit-flex;display:-ms-flexbox;display:flex;-webkit-flex-direction:row;-ms-flex-direction:row;flex-direction:row;}/*!sc*/
.fVkfyA{width:100%;height:-webkit-fit-content;height:-moz-fit-content;height:fit-content;min-width:0;margin-right:0;}/*!sc*/
.gNAmSV{height:40px;padding-left:4px;padding-bottom:16px;}/*!sc*/
.jNEwzY{-webkit-align-items:center;-webkit-box-align:center;-ms-flex-align:center;align-items:center;}/*!sc*/
.bsDwxw{font-size:12px;-webkit-flex:auto;-ms-flex:auto;flex:auto;padding-right:16px;color:var(--fgColor-muted,var(--color-fg-muted,#656d76));min-width:0;}/*!sc*/
.kXyYCF[data-size="small"]{color:var(--fgColor-default,var(--color-fg-default,#1F2328));display:none;}/*!sc*/
@media screen and (min-width:544px){.kXyYCF[data-size="small"]{display:none;}}/*!sc*/
@media screen and (min-width:768px){.kXyYCF[data-size="small"]{display:none;}}/*!sc*/
@media screen and (min-width:1012px){.kXyYCF[data-size="small"]{display:none;}}/*!sc*/
@media screen and (min-width:1280px){.kXyYCF[data-size="small"]{display:block;}}/*!sc*/
.jdLMhu{top:0px;z-index:4;background:var(--bgColor-default,var(--color-canvas-default));position:-webkit-sticky;position:sticky;}/*!sc*/
.tOISc{display:-webkit-box;display:-webkit-flex;display:-ms-flexbox;display:flex;-webkit-flex-direction:column;-ms-flex-direction:column;flex-direction:column;width:100%;position:absolute;}/*!sc*/
.hqwSEx{display:none;min-width:0;padding-top:8px;padding-bottom:8px;}/*!sc*/
.bDVoEr{display:-webkit-box;display:-webkit-flex;display:-ms-flexbox;display:flex;-webkit-align-items:center;-webkit-box-align:center;-ms-flex-align:center;align-items:center;overflow:hidden;margin-left:8px;margin-right:8px;-webkit-flex-direction:row;-ms-flex-direction:row;flex-direction:row;-webkit-box-pack:justify;-webkit-justify-content:space-between;-ms-flex-pack:justify;justify-content:space-between;width:100%;}/*!sc*/
.kYLlPM{display:-webkit-box;display:-webkit-flex;display:-ms-flexbox;display:flex;-webkit-align-items:center;-webkit-box-align:center;-ms-flex-align:center;align-items:center;}/*!sc*/
.gYjEmn{margin-left:4px;margin-right:8px;}/*!sc*/
.kGqOLL{text-overflow:ellipsis;overflow:hidden;display:-webkit-box;display:-webkit-flex;display:-ms-flexbox;display:flex;}/*!sc*/
.fHind{display:-webkit-box;display:-webkit-flex;display:-ms-flexbox;display:flex;-webkit-flex-direction:row;-ms-flex-direction:row;flex-direction:row;font-size:14px;min-width:0;-webkit-flex-shrink:1;-ms-flex-negative:1;flex-shrink:1;-webkit-flex-wrap:wrap;-ms-flex-wrap:wrap;flex-wrap:wrap;max-width:100%;-webkit-align-items:center;-webkit-box-align:center;-ms-flex-align:center;align-items:center;}/*!sc*/
.oDtgN{padding-left:4px;padding-right:4px;font-weight:400;color:var(--fgColor-muted,var(--color-fg-muted,#656d76));font-size:14px;}/*!sc*/
.dnZoUW{font-weight:600;display:inline-block;max-width:100%;font-size:14px;}/*!sc*/
.jRZWlf[data-size="small"]{color:var(--fgColor-default,var(--color-fg-default,#1F2328));margin-left:8px;}/*!sc*/
.kTvpNk{padding-left:8px;padding-top:8px;padding-bottom:8px;display:-webkit-box;display:-webkit-flex;display:-ms-flexbox;display:flex;-webkit-flex:1;-ms-flex:1;flex:1;-webkit-align-items:center;-webkit-box-align:center;-ms-flex-align:center;align-items:center;-webkit-box-pack:justify;-webkit-justify-content:space-between;-ms-flex-pack:justify;justify-content:space-between;background-color:var(--bgColor-muted,var(--color-canvas-subtle,#f6f8fa));border:1px solid var(--borderColor-default,var(--color-border-default));border-radius:6px 6px 0px 0px;}/*!sc*/
.iNMjfP{display:-webkit-box;display:-webkit-flex;display:-ms-flexbox;display:flex;-webkit-align-items:center;-webkit-box-align:center;-ms-flex-align:center;align-items:center;gap:8px;min-width:0;}/*!sc*/
.fefCSX{display:block;position:relative;-webkit-box-flex:1;-webkit-flex-grow:1;-ms-flex-positive:1;flex-grow:1;margin-top:-1px;margin-bottom:-1px;--separator-color:transparent;}/*!sc*/
.fefCSX:not(:last-child){margin-right:1px;}/*!sc*/
.fefCSX:not(:last-child):after{background-color:var(--separator-color);content:"";position:absolute;right:-2px;top:8px;bottom:8px;width:1px;}/*!sc*/
.fefCSX:focus-within:has(:focus-visible){--separator-color:transparent;}/*!sc*/
.fefCSX:first-child{margin-left:-1px;}/*!sc*/
.fefCSX:last-child{margin-right:-1px;}/*!sc*/
.idgUkN{display:block;position:relative;-webkit-box-flex:1;-webkit-flex-grow:1;-ms-flex-positive:1;flex-grow:1;margin-top:-1px;margin-bottom:-1px;--separator-color:var(--borderColor-default,var(--color-border-default,#d0d7de));}/*!sc*/
.idgUkN:not(:last-child){margin-right:1px;}/*!sc*/
.idgUkN:not(:last-child):after{background-color:var(--separator-color);content:"";position:absolute;right:-2px;top:8px;bottom:8px;width:1px;}/*!sc*/
.idgUkN:focus-within:has(:focus-visible){--separator-color:transparent;}/*!sc*/
.idgUkN:first-child{margin-left:-1px;}/*!sc*/
.idgUkN:last-child{margin-right:-1px;}/*!sc*/
.kcLCKF{display:-webkit-box;display:-webkit-flex;display:-ms-flexbox;display:flex;-webkit-align-items:center;-webkit-box-align:center;-ms-flex-align:center;align-items:center;gap:8px;margin-right:8px;}/*!sc*/
.kVWtTz{gap:8px;}/*!sc*/
.gWqxTd{padding-left:8px;padding-right:8px;}/*!sc*/
.gWqxTd linkButtonSx:hover:not([disabled]){-webkit-text-decoration:none;text-decoration:none;}/*!sc*/
.gWqxTd linkButtonSx:focus:not([disabled]){-webkit-text-decoration:none;text-decoration:none;}/*!sc*/
.gWqxTd linkButtonSx:active:not([disabled]){-webkit-text-decoration:none;text-decoration:none;}/*!sc*/
.ivobqY[data-size="small"][data-no-visuals]{border-top-left-radius:0;border-bottom-left-radius:0;}/*!sc*/
.kilKoS[data-size="small"][data-no-visuals]{border-top-right-radius:0;border-bottom-right-radius:0;border-right-width:0;}/*!sc*/
.kilKoS[data-size="small"][data-no-visuals]:hover:not([disabled]){-webkit-text-decoration:none;text-decoration:none;}/*!sc*/
.kilKoS[data-size="small"][data-no-visuals]:focus:not([disabled]){-webkit-text-decoration:none;text-decoration:none;}/*!sc*/
.kilKoS[data-size="small"][data-no-visuals]:active:not([disabled]){-webkit-text-decoration:none;text-decoration:none;}/*!sc*/
.ffkqe[data-size="small"][data-no-visuals]{color:var(--fgColor-muted,var(--color-fg-muted,#656d76));}/*!sc*/
.hGyMdv{border:1px solid;border-top:none;border-color:var(--borderColor-default,var(--color-border-default,#d0d7de));border-radius:0px 0px 6px 6px;min-width:273px;}/*!sc*/
.iWAocR{background-color:var(--bgColor-default,var(--color-canvas-default));border:0px;border-width:0;border-radius:0px 0px 6px 6px;padding:0;min-width:0;margin-top:46px;overflow:auto;}/*!sc*/
.cCoXib{position:fixed;top:0;right:0;height:100%;width:15px;-webkit-transition:-webkit-transform 0.3s;-webkit-transition:transform 0.3s;transition:transform 0.3s;z-index:1;}/*!sc*/
.cCoXib:hover{-webkit-transform:scaleX(1.5);-ms-transform:scaleX(1.5);transform:scaleX(1.5);}/*!sc*/
.fgsa-DI{display:-webkit-box;display:-webkit-flex;display:-ms-flexbox;display:flex;-webkit-flex-direction:column;-ms-flex-direction:column;flex-direction:column;-webkit-align-items:center;-webkit-box-align:center;-ms-flex-align:center;align-items:center;padding-top:16px;padding-bottom:16px;}/*!sc*/
data-styled.g1[id="Box-sc-g0xbh4-0"]{content:"hOfjFo,oDGAe,kowOcT,gISSDQ,jPQPeN,hPvFuC,fFSoPl,bTBnTW,bHLmSv,iKqMNA,FxAyp,leYMvG,KMPzq,hfKjHv,gZWyZE,dwYKDk,ibcGmb,hKaEJF,XosP,bCKfWo,gUkoLg,dmxRgG,bZBlpz,lhTYNA,dbrgmi,bmcJak,dHJiml,cEytCf,fzFXnm,iMnkmv,ghzDag,kHuKdh,hzJBof,kgiVEz,jGhzSQ,faNtbn,fmQaBv,dItACB,dwNhzn,fGwBZA,dJxjrT,eFxKDQ,dzCJzi,ldRxiI,fVkfyA,gNAmSV,jNEwzY,bsDwxw,kXyYCF,jdLMhu,tOISc,hqwSEx,bDVoEr,kYLlPM,gYjEmn,kGqOLL,fHind,oDtgN,dnZoUW,jRZWlf,kTvpNk,iNMjfP,fefCSX,idgUkN,kcLCKF,kVWtTz,gWqxTd,ivobqY,kilKoS,ffkqe,hGyMdv,iWAocR,cCoXib,fgsa-DI,"}/*!sc*/
.iOyQGB{-webkit-animation:rotate-keyframes 1s linear infinite;animation:rotate-keyframes 1s linear infinite;}/*!sc*/
@-webkit-keyframes rotate-keyframes{100%{-webkit-transform:rotate(360deg);-ms-transform:rotate(360deg);transform:rotate(360deg);}}/*!sc*/
@keyframes rotate-keyframes{100%{-webkit-transform:rotate(360deg);-ms-transform:rotate(360deg);transform:rotate(360deg);}}/*!sc*/
data-styled.g9[id="Spinner__StyledComponentSpinner-sc-1knt686-0"]{content:"iOyQGB,"}/*!sc*/
.jkNcAv{border:0;font-size:inherit;font-family:inherit;background-color:transparent;-webkit-appearance:none;color:inherit;width:100%;}/*!sc*/
.jkNcAv:focus{outline:0;}/*!sc*/
data-styled.g11[id="UnstyledTextInput__ToggledUnstyledTextInput-sc-14ypya-0"]{content:"jkNcAv,"}/*!sc*/
.hLzFvi{font-size:14px;line-height:var(--base-size-20);color:var(--fgColor-default,var(--color-fg-default,#1F2328));vertical-align:middle;background-color:var(--bgColor-default,var(--color-canvas-default,#ffffff));border:1px solid var(--control-borderColor-rest,var(--borderColor-default,var(--color-border-default,#d0d7de)));border-radius:6px;outline:none;box-shadow:var(--shadow-inset,var(--color-primer-shadow-inset,inset 0 1px 0 rgba(208,215,222,0.2)));display:-webkit-inline-box;display:-webkit-inline-flex;display:-ms-inline-flexbox;display:inline-flex;-webkit-align-items:stretch;-webkit-box-align:stretch;-ms-flex-align:stretch;align-items:stretch;min-height:var(--base-size-32);overflow:hidden;--inner-action-size:var(--base-size-24);}/*!sc*/
.hLzFvi input,.hLzFvi textarea{cursor:text;}/*!sc*/
.hLzFvi select{cursor:pointer;}/*!sc*/
.hLzFvi input::-webkit-input-placeholder,.hLzFvi textarea::-webkit-input-placeholder,.hLzFvi select::-webkit-input-placeholder{color:var(---control-fgColor-placeholder,var(--fgColor-muted,var(--color-fg-muted,#656d76)));}/*!sc*/
.hLzFvi input::-moz-placeholder,.hLzFvi textarea::-moz-placeholder,.hLzFvi select::-moz-placeholder{color:var(---control-fgColor-placeholder,var(--fgColor-muted,var(--color-fg-muted,#656d76)));}/*!sc*/
.hLzFvi input:-ms-input-placeholder,.hLzFvi textarea:-ms-input-placeholder,.hLzFvi select:-ms-input-placeholder{color:var(---control-fgColor-placeholder,var(--fgColor-muted,var(--color-fg-muted,#656d76)));}/*!sc*/
.hLzFvi input::placeholder,.hLzFvi textarea::placeholder,.hLzFvi select::placeholder{color:var(---control-fgColor-placeholder,var(--fgColor-muted,var(--color-fg-muted,#656d76)));}/*!sc*/
.hLzFvi:where([data-trailing-action][data-focused]),.hLzFvi:where(:not([data-trailing-action]):focus-within){border-color:var(--fgColor-accent,var(--color-accent-fg,#0969da));outline:2px solid var(--fgColor-accent,var(--color-accent-fg,#0969da));outline-offset:-1px;}/*!sc*/
.hLzFvi > textarea{padding:var(--base-size-12);}/*!sc*/
.hLzFvi:where([data-contrast]){background-color:var(--bgColor-inset,var(--color-canvas-inset,#f6f8fa));}/*!sc*/
.hLzFvi:where([data-disabled]){color:var(--fgColor-disabled,var(--color-primer-fg-disabled,#8c959f));background-color:var(--control-bgColor-disabled,var(--color-input-disabled-bg,rgba(175,184,193,0.2)));box-shadow:none;border-color:var(--control-borderColor-disabled,var(--borderColor-default,var(--color-border-default,#d0d7de)));}/*!sc*/
.hLzFvi:where([data-disabled]) input,.hLzFvi:where([data-disabled]) textarea,.hLzFvi:where([data-disabled]) select{cursor:not-allowed;}/*!sc*/
.hLzFvi:where([data-monospace]){font-family:var(--fontStack-monospace,SFMono-Regular,Consolas,"Liberation Mono",Menlo,Courier,monospace);}/*!sc*/
.hLzFvi:where([data-validation='error']){border-color:var(--borderColor-danger-emphasis,var(--color-danger-emphasis,#cf222e));}/*!sc*/
.hLzFvi:where([data-validation='error']):where([data-trailing-action][data-focused]),.hLzFvi:where([data-validation='error']):where(:not([data-trailing-action])):focus-within{border-color:var(--fgColor-accent,var(--color-accent-fg,#0969da));outline:2px solid var(--fgColor-accent,var(--color-accent-fg,#0969da));outline-offset:-1px;}/*!sc*/
.hLzFvi:where([data-validation='success']){border-color:var(--bgColor-success-emphasis,var(--color-success-emphasis,#1f883d));}/*!sc*/
.hLzFvi:where([data-block]){width:100%;display:-webkit-box;display:-webkit-flex;display:-ms-flexbox;display:flex;-webkit-align-self:stretch;-ms-flex-item-align:stretch;align-self:stretch;}/*!sc*/
@media (min-width:768px){.hLzFvi{font-size:var(--text-body-size-medium);}}/*!sc*/
.hLzFvi:where([data-size='small']){--inner-action-size:var(--base-size-20);min-height:var(--base-size-28);padding-top:3px;padding-right:var(--base-size-8);padding-bottom:3px;padding-left:var(--base-size-8);font-size:var(--text-body-size-small);line-height:var(--base-size-20);}/*!sc*/
.hLzFvi:where([data-size='large']){--inner-action-size:var(--base-size-28);height:var(--base-size-40);padding-top:10px;padding-right:var(--base-size-8);padding-bottom:10px;padding-left:var(--base-size-8);}/*!sc*/
.hLzFvi:where([data-variant='small']){min-height:28px;padding-top:3px;padding-right:var(--base-size-8);padding-bottom:3px;padding-left:var(--base-size-8);font-size:(--text-body-size-small);line-height:var(--base-size-20);}/*!sc*/
.hLzFvi:where([data-variant='large']){padding-top:10px;padding-right:var(--base-size-8);padding-bottom:10px;padding-left:var(--base-size-8);font-size:var(--text-title-size-medium);}/*!sc*/
.hLzFvi{display:-webkit-box;display:-webkit-flex;display:-ms-flexbox;display:flex;min-width:160px;}/*!sc*/
data-styled.g12[id="TextInputWrapper__StyledTextInputBaseWrapper-sc-1mqhpbi-0"]{content:"hLzFvi,"}/*!sc*/
.iHYdQq{background-repeat:no-repeat;background-position:right 8px center;padding-right:0;padding-left:0;}/*!sc*/
.iHYdQq > :not(:last-child){margin-right:8px;}/*!sc*/
.iHYdQq .TextInput-icon,.iHYdQq .TextInput-action{-webkit-align-self:center;-ms-flex-item-align:center;align-self:center;color:var(--fgColor-muted,var(--color-fg-muted,#656d76));-webkit-flex-shrink:0;-ms-flex-negative:0;flex-shrink:0;}/*!sc*/
.iHYdQq > input,.iHYdQq > select{padding-right:0;padding-left:0;}/*!sc*/
.iHYdQq:where([data-leading-visual]){padding-left:var(--base-size-12);}/*!sc*/
.iHYdQq:where([data-trailing-visual]:not([data-trailing-action])){padding-right:var(--base-size-12);}/*!sc*/
.iHYdQq:where(:not([data-leading-visual])) > input,.iHYdQq:where(:not([data-leading-visual])) > select{padding-left:var(--base-size-12);}/*!sc*/
.iHYdQq:where(:not([data-trailing-visual]):not([data-trailing-action])) > input,.iHYdQq:where(:not([data-trailing-visual]):not([data-trailing-action])) > select{padding-right:var(--base-size-12);}/*!sc*/
.iHYdQq{display:-webkit-box;display:-webkit-flex;display:-ms-flexbox;display:flex;min-width:160px;}/*!sc*/
data-styled.g13[id="TextInputWrapper__StyledTextInputWrapper-sc-1mqhpbi-1"]{content:"iHYdQq,"}/*!sc*/
.hWlpPn{position:relative;display:inline-block;}/*!sc*/
.hWlpPn::after{position:absolute;z-index:1000000;display:none;padding:0.5em 0.75em;font:normal normal 11px/1.5 -apple-system,BlinkMacSystemFont,"Segoe UI","Noto Sans",Helvetica,Arial,sans-serif,"Apple Color Emoji","Segoe UI Emoji";-webkit-font-smoothing:subpixel-antialiased;color:var(--tooltip-fgColor,var(--fgColor-onEmphasis,var(--color-fg-on-emphasis,#ffffff)));text-align:center;-webkit-text-decoration:none;text-decoration:none;text-shadow:none;text-transform:none;-webkit-letter-spacing:normal;-moz-letter-spacing:normal;-ms-letter-spacing:normal;letter-spacing:normal;word-wrap:break-word;white-space:pre;pointer-events:none;content:attr(aria-label);background:var(--tooltip-bgColor,var(--bgColor-emphasis,var(--color-neutral-emphasis-plus,#24292f)));border-radius:6px;opacity:0;}/*!sc*/
@-webkit-keyframes tooltip-appear{from{opacity:0;}to{opacity:1;}}/*!sc*/
@keyframes tooltip-appear{from{opacity:0;}to{opacity:1;}}/*!sc*/
.hWlpPn:hover::after,.hWlpPn:active::after,.hWlpPn:focus::after,.hWlpPn:focus-within::after{display:inline-block;-webkit-text-decoration:none;text-decoration:none;-webkit-animation-name:tooltip-appear;animation-name:tooltip-appear;-webkit-animation-duration:0.1s;animation-duration:0.1s;-webkit-animation-fill-mode:forwards;animation-fill-mode:forwards;-webkit-animation-timing-function:ease-in;animation-timing-function:ease-in;-webkit-animation-delay:0s;animation-delay:0s;}/*!sc*/
.hWlpPn.tooltipped-no-delay:hover::after,.hWlpPn.tooltipped-no-delay:active::after,.hWlpPn.tooltipped-no-delay:focus::after,.hWlpPn.tooltipped-no-delay:focus-within::after{-webkit-animation-delay:0s;animation-delay:0s;}/*!sc*/
.hWlpPn.tooltipped-multiline:hover::after,.hWlpPn.tooltipped-multiline:active::after,.hWlpPn.tooltipped-multiline:focus::after,.hWlpPn.tooltipped-multiline:focus-within::after{display:table-cell;}/*!sc*/
.hWlpPn.tooltipped-s::after,.hWlpPn.tooltipped-se::after,.hWlpPn.tooltipped-sw::after{top:100%;right:50%;margin-top:6px;}/*!sc*/
.hWlpPn.tooltipped-se::after{right:auto;left:50%;margin-left:-16px;}/*!sc*/
.hWlpPn.tooltipped-sw::after{margin-right:-16px;}/*!sc*/
.hWlpPn.tooltipped-n::after,.hWlpPn.tooltipped-ne::after,.hWlpPn.tooltipped-nw::after{right:50%;bottom:100%;margin-bottom:6px;}/*!sc*/
.hWlpPn.tooltipped-ne::after{right:auto;left:50%;margin-left:-16px;}/*!sc*/
.hWlpPn.tooltipped-nw::after{margin-right:-16px;}/*!sc*/
.hWlpPn.tooltipped-s::after,.hWlpPn.tooltipped-n::after{-webkit-transform:translateX(50%);-ms-transform:translateX(50%);transform:translateX(50%);}/*!sc*/
.hWlpPn.tooltipped-w::after{right:100%;bottom:50%;margin-right:6px;-webkit-transform:translateY(50%);-ms-transform:translateY(50%);transform:translateY(50%);}/*!sc*/
.hWlpPn.tooltipped-e::after{bottom:50%;left:100%;margin-left:6px;-webkit-transform:translateY(50%);-ms-transform:translateY(50%);transform:translateY(50%);}/*!sc*/
.hWlpPn.tooltipped-multiline::after{width:-webkit-max-content;width:-moz-max-content;width:max-content;max-width:250px;word-wrap:break-word;white-space:pre-line;border-collapse:separate;}/*!sc*/
.hWlpPn.tooltipped-multiline.tooltipped-s::after,.hWlpPn.tooltipped-multiline.tooltipped-n::after{right:auto;left:50%;-webkit-transform:translateX(-50%);-ms-transform:translateX(-50%);transform:translateX(-50%);}/*!sc*/
.hWlpPn.tooltipped-multiline.tooltipped-w::after,.hWlpPn.tooltipped-multiline.tooltipped-e::after{right:100%;}/*!sc*/
.hWlpPn.tooltipped-align-right-2::after{right:0;margin-right:0;}/*!sc*/
.hWlpPn.tooltipped-align-left-2::after{left:0;margin-left:0;}/*!sc*/
data-styled.g17[id="Tooltip__TooltipBase-sc-17tf59c-0"]{content:"hWlpPn,"}/*!sc*/
.eAtkQz{display:inline-block;overflow:hidden;text-overflow:ellipsis;vertical-align:top;white-space:nowrap;max-width:125px;max-width:100%;}/*!sc*/
data-styled.g19[id="Truncate__StyledTruncate-sc-23o1d2-0"]{content:"eAtkQz,"}/*!sc*/
body[data-page-layout-dragging="true"]{cursor:col-resize;}/*!sc*/
body[data-page-layout-dragging="true"] *{-webkit-user-select:none;-moz-user-select:none;-ms-user-select:none;user-select:none;}/*!sc*/
data-styled.g99[id="sc-global-gbKrvU1"]{content:"sc-global-gbKrvU1,"}/*!sc*/
.dwImxt{--segmented-control-button-inner-padding:12px;--segmented-control-button-bg-inset:4px;--segmented-control-outer-radius:6px;background-color:transparent;border-color:transparent;border-radius:var(--segmented-control-outer-radius);border-width:0;color:currentColor;cursor:pointer;font-family:inherit;font-size:inherit;font-weight:600;padding:0;height:100%;width:100%;}/*!sc*/
.dwImxt:focus:not(:disabled){box-shadow:none;outline:2px solid var(--fgColor-accent,var(--color-accent-fg,#0969da));outline-offset:-1px;}/*!sc*/
.dwImxt:focus:not(:disabled):not(:focus-visible){outline:solid 1px transparent;}/*!sc*/
.dwImxt:focus-visible:not(:disabled){box-shadow:none;outline:2px solid var(--fgColor-accent,var(--color-accent-fg,#0969da));outline-offset:-1px;}/*!sc*/
.dwImxt .segmentedControl-content{-webkit-align-items:center;-webkit-box-align:center;-ms-flex-align:center;align-items:center;background-color:var(--controlKnob-bgColor-rest,var(--color-segmented-control-button-bg,#ffffff));border-color:var(--controlKnob-borderColor-rest,var(--color-segmented-control-button-hover-active-selected-border,#8c959f));border-style:solid;border-width:1px;border-radius:var(--segmented-control-outer-radius);display:-webkit-box;display:-webkit-flex;display:-ms-flexbox;display:flex;height:100%;-webkit-box-pack:center;-webkit-justify-content:center;-ms-flex-pack:center;justify-content:center;padding-left:var(--segmented-control-button-inner-padding);padding-right:var(--segmented-control-button-inner-padding);}/*!sc*/
.dwImxt svg{fill:var(--fgColor-muted,var(--color-fg-muted,#656d76));}/*!sc*/
.dwImxt:focus:focus-visible:not(:last-child):after{width:0;}/*!sc*/
.dwImxt .segmentedControl-text:after{content:"Preview";display:block;font-weight:600;height:0;overflow:hidden;pointer-events:none;-webkit-user-select:none;-moz-user-select:none;-ms-user-select:none;user-select:none;visibility:hidden;}/*!sc*/
@media (pointer:coarse){.dwImxt:before{content:"";position:absolute;left:0;right:0;-webkit-transform:translateY(-50%);-ms-transform:translateY(-50%);transform:translateY(-50%);top:50%;min-height:44px;}}/*!sc*/
.iFTkun{--segmented-control-button-inner-padding:12px;--segmented-control-button-bg-inset:4px;--segmented-control-outer-radius:6px;background-color:transparent;border-color:transparent;border-radius:var(--segmented-control-outer-radius);border-width:0;color:currentColor;cursor:pointer;font-family:inherit;font-size:inherit;font-weight:400;padding:var(--segmented-control-button-bg-inset);height:100%;width:100%;}/*!sc*/
.iFTkun:focus:not(:disabled){box-shadow:none;outline:2px solid var(--fgColor-accent,var(--color-accent-fg,#0969da));outline-offset:-1px;}/*!sc*/
.iFTkun:focus:not(:disabled):not(:focus-visible){outline:solid 1px transparent;}/*!sc*/
.iFTkun:focus-visible:not(:disabled){box-shadow:none;outline:2px solid var(--fgColor-accent,var(--color-accent-fg,#0969da));outline-offset:-1px;}/*!sc*/
.iFTkun .segmentedControl-content{-webkit-align-items:center;-webkit-box-align:center;-ms-flex-align:center;align-items:center;background-color:transparent;border-color:transparent;border-style:solid;border-width:1px;border-radius:calc(var(--segmented-control-outer-radius) - var(--segmented-control-button-bg-inset) / 2);display:-webkit-box;display:-webkit-flex;display:-ms-flexbox;display:flex;height:100%;-webkit-box-pack:center;-webkit-justify-content:center;-ms-flex-pack:center;justify-content:center;padding-left:calc(var(--segmented-control-button-inner-padding) - var(--segmented-control-button-bg-inset));padding-right:calc(var(--segmented-control-button-inner-padding) - var(--segmented-control-button-bg-inset));}/*!sc*/
.iFTkun svg{fill:var(--fgColor-muted,var(--color-fg-muted,#656d76));}/*!sc*/
.iFTkun:hover .segmentedControl-content{background-color:var(--controlTrack-bgColor-hover,var(--color-segmented-control-button-hover-bg,rgba(175,184,193,0.2)));}/*!sc*/
.iFTkun:active .segmentedControl-content{background-color:var(--controlTrack-bgColor-active,var(--color-segmented-control-button-hover-active-bg,rgba(175,184,193,0.4)));}/*!sc*/
.iFTkun:focus:focus-visible:not(:last-child):after{width:0;}/*!sc*/
.iFTkun .segmentedControl-text:after{content:"Code";display:block;font-weight:600;height:0;overflow:hidden;pointer-events:none;-webkit-user-select:none;-moz-user-select:none;-ms-user-select:none;user-select:none;visibility:hidden;}/*!sc*/
@media (pointer:coarse){.iFTkun:before{content:"";position:absolute;left:0;right:0;-webkit-transform:translateY(-50%);-ms-transform:translateY(-50%);transform:translateY(-50%);top:50%;min-height:44px;}}/*!sc*/
.bHmvop{--segmented-control-button-inner-padding:12px;--segmented-control-button-bg-inset:4px;--segmented-control-outer-radius:6px;background-color:transparent;border-color:transparent;border-radius:var(--segmented-control-outer-radius);border-width:0;color:currentColor;cursor:pointer;font-family:inherit;font-size:inherit;font-weight:400;padding:var(--segmented-control-button-bg-inset);height:100%;width:100%;}/*!sc*/
.bHmvop:focus:not(:disabled){box-shadow:none;outline:2px solid var(--fgColor-accent,var(--color-accent-fg,#0969da));outline-offset:-1px;}/*!sc*/
.bHmvop:focus:not(:disabled):not(:focus-visible){outline:solid 1px transparent;}/*!sc*/
.bHmvop:focus-visible:not(:disabled){box-shadow:none;outline:2px solid var(--fgColor-accent,var(--color-accent-fg,#0969da));outline-offset:-1px;}/*!sc*/
.bHmvop .segmentedControl-content{-webkit-align-items:center;-webkit-box-align:center;-ms-flex-align:center;align-items:center;background-color:transparent;border-color:transparent;border-style:solid;border-width:1px;border-radius:calc(var(--segmented-control-outer-radius) - var(--segmented-control-button-bg-inset) / 2);display:-webkit-box;display:-webkit-flex;display:-ms-flexbox;display:flex;height:100%;-webkit-box-pack:center;-webkit-justify-content:center;-ms-flex-pack:center;justify-content:center;padding-left:calc(var(--segmented-control-button-inner-padding) - var(--segmented-control-button-bg-inset));padding-right:calc(var(--segmented-control-button-inner-padding) - var(--segmented-control-button-bg-inset));}/*!sc*/
.bHmvop svg{fill:var(--fgColor-muted,var(--color-fg-muted,#656d76));}/*!sc*/
.bHmvop:hover .segmentedControl-content{background-color:var(--controlTrack-bgColor-hover,var(--color-segmented-control-button-hover-bg,rgba(175,184,193,0.2)));}/*!sc*/
.bHmvop:active .segmentedControl-content{background-color:var(--controlTrack-bgColor-active,var(--color-segmented-control-button-hover-active-bg,rgba(175,184,193,0.4)));}/*!sc*/
.bHmvop:focus:focus-visible:not(:last-child):after{width:0;}/*!sc*/
.bHmvop .segmentedControl-text:after{content:"Blame";display:block;font-weight:600;height:0;overflow:hidden;pointer-events:none;-webkit-user-select:none;-moz-user-select:none;-ms-user-select:none;user-select:none;visibility:hidden;}/*!sc*/
@media (pointer:coarse){.bHmvop:before{content:"";position:absolute;left:0;right:0;-webkit-transform:translateY(-50%);-ms-transform:translateY(-50%);transform:translateY(-50%);top:50%;min-height:44px;}}/*!sc*/
data-styled.g106[id="SegmentedControlButton__SegmentedControlButtonStyled-sc-8lkgxl-0"]{content:"dwImxt,iFTkun,bHmvop,"}/*!sc*/
.lawgDG{background-color:var(--controlTrack-bgColor-rest,var(--color-segmented-control-bg,#eaeef2));border-radius:6px;border:1px solid;border-color:var(--controlTrack-borderColor-rest,transparent);display:-webkit-inline-box;display:-webkit-inline-flex;display:-ms-inline-flexbox;display:inline-flex;font-size:14px;height:28px;margin:0;padding:0;}/*!sc*/
data-styled.g108[id="SegmentedControl__SegmentedControlList-sc-1rzig82-0"]{content:"lawgDG,"}/*!sc*/
</style><meta data-hydrostats="publish"/> <!-- --> <!-- --> <button hidden="" data-testid="header-permalink-button" data-hotkey-scope="read-only-cursor-text-area"></button><button hidden=""></button><div><div style="--sticky-pane-height:100vh;--spacing:var(--spacing-none)" class="Box-sc-g0xbh4-0 hOfjFo"><div class="Box-sc-g0xbh4-0 oDGAe"><div class="Box-sc-g0xbh4-0 kowOcT"><div tabindex="0" class="Box-sc-g0xbh4-0 gISSDQ"><div class="Box-sc-g0xbh4-0 jPQPeN"><div class="Box-sc-g0xbh4-0 hPvFuC"></div><div style="--pane-width:320px" class="Box-sc-g0xbh4-0 fFSoPl"></div><div class="Box-sc-g0xbh4-0 bTBnTW"><div role="slider" aria-label="Draggable pane splitter" aria-valuemin="0" aria-valuemax="0" aria-valuenow="0" aria-valuetext="Pane width 0 pixels" tabindex="0" class="Box-sc-g0xbh4-0 bHLmSv"></div></div></div></div><div class="Box-sc-g0xbh4-0 iKqMNA"><div class="Box-sc-g0xbh4-0"></div><div class="Box-sc-g0xbh4-0 FxAyp"><div data-selector="repos-split-pane-content" tabindex="0" class="Box-sc-g0xbh4-0 leYMvG"><div class="Box-sc-g0xbh4-0 KMPzq"><div class="Box-sc-g0xbh4-0 hfKjHv container"><div class="px-3 pt-3 pb-0" id="StickyHeader"><div class="Box-sc-g0xbh4-0 gZWyZE"><div class="Box-sc-g0xbh4-0 dwYKDk"><div class="Box-sc-g0xbh4-0 ibcGmb react-code-view-header-wrap--narrow"><div class="Box-sc-g0xbh4-0 hKaEJF"><h2 class="Box-sc-g0xbh4-0 XosP prc-Heading-Heading-6CmGO"><button style="--button-color:fg.muted" type="button" aria-label="Expand file tree" data-testid="expand-file-tree-button-mobile" class="Box-sc-g0xbh4-0 bCKfWo prc-Button-ButtonBase-c50BI" data-loading="false" data-size="medium" data-variant="invisible" aria-describedby=":Rld9lab:-loading-announcement"><span data-component="buttonContent" class="Box-sc-g0xbh4-0 gUkoLg prc-Button-ButtonContent-HKbr-"><span data-component="leadingVisual" class="prc-Button-Visual-2epfX prc-Button-VisualWrap-Db-eB"><svg aria-hidden="true" focusable="false" class="octicon octicon-arrow-left" viewBox="0 0 16 16" width="16" height="16" fill="currentColor" style="display:inline-block;user-select:none;vertical-align:text-bottom;overflow:visible"><path d="M7.78 12.53a.75.75 0 0 1-1.06 0L2.47 8.28a.75.75 0 0 1 0-1.06l4.25-4.25a.751.751 0 0 1 1.042.018.751.751 0 0 1 .018 1.042L4.81 7h7.44a.75.75 0 0 1 0 1.5H4.81l2.97 2.97a.75.75 0 0 1 0 1.06Z"></path></svg></span><span data-component="text" class="prc-Button-Label-pTQ3x">Files</span></span></button><span role="tooltip" aria-label="Expand file tree" id="expand-button-file-tree-button" class="Tooltip__TooltipBase-sc-17tf59c-0 hWlpPn tooltipped-se"><button data-component="IconButton" type="button" data-testid="expand-file-tree-button" aria-expanded="false" aria-controls="repos-file-tree" class="prc-Button-ButtonBase-c50BI position-relative ExpandFileTreeButton-module__expandButton--gL4is ExpandFileTreeButton-module__filesButtonBreakpoint--WfX9t fgColor-muted prc-Button-IconButton-szpyj" data-loading="false" data-no-visuals="true" data-size="medium" data-variant="invisible" aria-describedby=":R35d9lab:-loading-announcement" aria-labelledby="expand-button-file-tree-button"><svg aria-hidden="true" focusable="false" class="octicon octicon-sidebar-collapse" viewBox="0 0 16 16" width="16" height="16" fill="currentColor" style="display:inline-block;user-select:none;vertical-align:text-bottom;overflow:visible"><path d="M6.823 7.823a.25.25 0 0 1 0 .354l-2.396 2.396A.25.25 0 0 1 4 10.396V5.604a.25.25 0 0 1 .427-.177Z"></path><path d="M1.75 0h12.5C15.216 0 16 .784 16 1.75v12.5A1.75 1.75 0 0 1 14.25 16H1.75A1.75 1.75 0 0 1 0 14.25V1.75C0 .784.784 0 1.75 0ZM1.5 1.75v12.5c0 .138.112.25.25.25H9.5v-13H1.75a.25.25 0 0 0-.25.25ZM11 14.5h3.25a.25.25 0 0 0 .25-.25V1.75a.25.25 0 0 0-.25-.25H11Z"></path></svg></button></span><button hidden="" data-testid="" data-hotkey-scope="read-only-cursor-text-area"></button></h2></div><div class="react-code-view-header-mb--narrow mr-2"><button type="button" aria-haspopup="true" aria-expanded="false" tabindex="0" aria-label="main branch" data-testid="anchor-button" class="Box-sc-g0xbh4-0 dmxRgG prc-Button-ButtonBase-c50BI ref-selector-class" data-loading="false" data-size="medium" data-variant="default" aria-describedby="branch-picker-repos-header-ref-selector-wide-loading-announcement" id="branch-picker-repos-header-ref-selector-wide"><span data-component="buttonContent" class="Box-sc-g0xbh4-0 gUkoLg prc-Button-ButtonContent-HKbr-"><span data-component="text" class="prc-Button-Label-pTQ3x"><div class="Box-sc-g0xbh4-0 bZBlpz"><div class="Box-sc-g0xbh4-0 lhTYNA"><svg aria-hidden="true" focusable="false" class="octicon octicon-git-branch" viewBox="0 0 16 16" width="16" height="16" fill="currentColor" style="display:inline-block;user-select:none;vertical-align:text-bottom;overflow:visible"><path d="M9.5 3.25a2.25 2.25 0 1 1 3 2.122V6A2.5 2.5 0 0 1 10 8.5H6a1 1 0 0 0-1 1v1.128a2.251 2.251 0 1 1-1.5 0V5.372a2.25 2.25 0 1 1 1.5 0v1.836A2.493 2.493 0 0 1 6 7h4a1 1 0 0 0 1-1v-.628A2.25 2.25 0 0 1 9.5 3.25Zm-6 0a.75.75 0 1 0 1.5 0 .75.75 0 0 0-1.5 0Zm8.25-.75a.75.75 0 1 0 0 1.5.75.75 0 0 0 0-1.5ZM4.25 12a.75.75 0 1 0 0 1.5.75.75 0 0 0 0-1.5Z"></path></svg></div><div class="Box-sc-g0xbh4-0 dbrgmi ref-selector-button-text-container"><span class="Box-sc-g0xbh4-0 bmcJak prc-Text-Text-0ima0"> <!-- -->main</span></div></div></span><span data-component="trailingVisual" class="prc-Button-Visual-2epfX prc-Button-VisualWrap-Db-eB"><svg aria-hidden="true" focusable="false" class="octicon octicon-triangle-down" viewBox="0 0 16 16" width="16" height="16" fill="currentColor" style="display:inline-block;user-select:none;vertical-align:text-bottom;overflow:visible"><path d="m4.427 7.427 3.396 3.396a.25.25 0 0 0 .354 0l3.396-3.396A.25.25 0 0 0 11.396 7H4.604a.25.25 0 0 0-.177.427Z"></path></svg></span></span></button><button hidden="" data-hotkey-scope="read-only-cursor-text-area"></button></div><div class="Box-sc-g0xbh4-0 dHJiml react-code-view-header-mb--narrow"><div class="Box-sc-g0xbh4-0 cEytCf"><nav data-testid="breadcrumbs" aria-labelledby="repos-header-breadcrumb-heading" id="repos-header-breadcrumb" class="Box-sc-g0xbh4-0 fzFXnm"><h2 class="sr-only prc-Heading-Heading-6CmGO" data-testid="screen-reader-heading" id="repos-header-breadcrumb-heading">Breadcrumbs</h2><ol class="Box-sc-g0xbh4-0 iMnkmv"><li class="Box-sc-g0xbh4-0 ghzDag"><a class="Box-sc-g0xbh4-0 kHuKdh prc-Link-Link-85e08" sx="[object Object]" data-testid="breadcrumbs-repo-link" href="/Aish16032001/Pythoncourse_assignments/tree/main">Pythoncourse_assignments</a></li><li class="Box-sc-g0xbh4-0 ghzDag"><span class="Box-sc-g0xbh4-0 hzJBof prc-Text-Text-0ima0" aria-hidden="true">/</span><a class="Box-sc-g0xbh4-0 kgiVEz prc-Link-Link-85e08" sx="[object Object]" href="/Aish16032001/Pythoncourse_assignments/tree/main/day05">day05</a></li></ol></nav><div data-testid="breadcrumbs-filename" class="Box-sc-g0xbh4-0 ghzDag"><span class="Box-sc-g0xbh4-0 hzJBof prc-Text-Text-0ima0" aria-hidden="true">/</span><h1 class="Box-sc-g0xbh4-0 jGhzSQ prc-Heading-Heading-6CmGO" tabindex="-1" id="file-name-id">assign5.ipynb</h1></div><div aria-describedby=":R1td9lab:"><button data-component="IconButton" type="button" aria-label="Copy path" tabindex="0" class="Box-sc-g0xbh4-0 prc-Button-ButtonBase-c50BI prc-Button-IconButton-szpyj" data-loading="false" data-no-visuals="true" data-size="small" data-variant="invisible" aria-describedby=":R7td9lab:-loading-announcement"><svg aria-hidden="true" focusable="false" class="octicon octicon-copy" viewBox="0 0 16 16" width="16" height="16" fill="currentColor" style="display:inline-block;user-select:none;vertical-align:text-bottom;overflow:visible"><path d="M0 6.75C0 5.784.784 5 1.75 5h1.5a.75.75 0 0 1 0 1.5h-1.5a.25.25 0 0 0-.25.25v7.5c0 .138.112.25.25.25h7.5a.25.25 0 0 0 .25-.25v-1.5a.75.75 0 0 1 1.5 0v1.5A1.75 1.75 0 0 1 9.25 16h-7.5A1.75 1.75 0 0 1 0 14.25Z"></path><path d="M5 1.75C5 .784 5.784 0 6.75 0h7.5C15.216 0 16 .784 16 1.75v7.5A1.75 1.75 0 0 1 14.25 11h-7.5A1.75 1.75 0 0 1 5 9.25Zm1.75-.25a.25.25 0 0 0-.25.25v7.5c0 .138.112.25.25.25h7.5a.25.25 0 0 0 .25-.25v-7.5a.25.25 0 0 0-.25-.25Z"></path></svg></button></div></div></div></div><div class="react-code-view-header-element--wide"><div class="Box-sc-g0xbh4-0 faNtbn"><div class="d-flex gap-2"> <div><div class="Box-sc-g0xbh4-0 fmQaBv"><span class="TextInputWrapper__StyledTextInputBaseWrapper-sc-1mqhpbi-0 hLzFvi TextInputWrapper__StyledTextInputWrapper-sc-1mqhpbi-1 iHYdQq TextInput-wrapper" data-leading-visual="true" data-trailing-visual="true" aria-busy="false"><span class="TextInput-icon" id=":R5j6d9lab:" aria-hidden="true"><svg aria-hidden="true" focusable="false" class="octicon octicon-search" viewBox="0 0 16 16" width="16" height="16" fill="currentColor" style="display:inline-block;user-select:none;vertical-align:text-bottom;overflow:visible"><path d="M10.68 11.74a6 6 0 0 1-7.922-8.982 6 6 0 0 1 8.982 7.922l3.04 3.04a.749.749 0 0 1-.326 1.275.749.749 0 0 1-.734-.215ZM11.5 7a4.499 4.499 0 1 0-8.997 0A4.499 4.499 0 0 0 11.5 7Z"></path></svg></span><input type="text" aria-label="Go to file" role="combobox" aria-controls="file-results-list" aria-expanded="false" aria-haspopup="dialog" autoCorrect="off" spellcheck="false" placeholder="Go to file" aria-describedby=":R5j6d9lab: :R5j6d9labH1:" data-component="input" class="UnstyledTextInput__ToggledUnstyledTextInput-sc-14ypya-0 jkNcAv" value=""/><span class="TextInput-icon" id=":R5j6d9labH1:" aria-hidden="true"><div class="Box-sc-g0xbh4-0 dItACB"><kbd>t</kbd></div></span></span></div><button hidden="" data-testid="" data-hotkey-scope="read-only-cursor-text-area"></button><button hidden=""></button></div><button type="button" class="Box-sc-g0xbh4-0 dwNhzn prc-Button-ButtonBase-c50BI" data-loading="false" data-no-visuals="true" data-size="medium" data-variant="default" aria-describedby=":R2l6d9lab:-loading-announcement"><span data-component="buttonContent" class="Box-sc-g0xbh4-0 gUkoLg prc-Button-ButtonContent-HKbr-"><span data-component="text" class="prc-Button-Label-pTQ3x">Blame</span></span></button><button hidden="" data-testid="" data-hotkey-scope="read-only-cursor-text-area"></button><button data-component="IconButton" type="button" aria-label="More file actions" title="More file actions" data-testid="more-file-actions-button-nav-menu-wide" aria-haspopup="true" aria-expanded="false" tabindex="0" class="Box-sc-g0xbh4-0 fGwBZA prc-Button-ButtonBase-c50BI js-blob-dropdown-click prc-Button-IconButton-szpyj" data-loading="false" data-no-visuals="true" data-size="medium" data-variant="default" aria-describedby=":R156d9lab:-loading-announcement" id=":R156d9lab:"><svg aria-hidden="true" focusable="false" class="octicon octicon-kebab-horizontal" viewBox="0 0 16 16" width="16" height="16" fill="currentColor" style="display:inline-block;user-select:none;vertical-align:text-bottom;overflow:visible"><path d="M8 9a1.5 1.5 0 1 0 0-3 1.5 1.5 0 0 0 0 3ZM1.5 9a1.5 1.5 0 1 0 0-3 1.5 1.5 0 0 0 0 3Zm13 0a1.5 1.5 0 1 0 0-3 1.5 1.5 0 0 0 0 3Z"></path></svg></button> </div></div></div><div class="react-code-view-header-element--narrow"><div class="Box-sc-g0xbh4-0 faNtbn"><div class="d-flex gap-2"> <button type="button" class="Box-sc-g0xbh4-0 dwNhzn prc-Button-ButtonBase-c50BI" data-loading="false" data-no-visuals="true" data-size="medium" data-variant="default" aria-describedby=":R2l7d9lab:-loading-announcement"><span data-component="buttonContent" class="Box-sc-g0xbh4-0 gUkoLg prc-Button-ButtonContent-HKbr-"><span data-component="text" class="prc-Button-Label-pTQ3x">Blame</span></span></button><button hidden="" data-testid="" data-hotkey-scope="read-only-cursor-text-area"></button><button data-component="IconButton" type="button" aria-label="More file actions" title="More file actions" data-testid="more-file-actions-button-nav-menu-narrow" aria-haspopup="true" aria-expanded="false" tabindex="0" class="Box-sc-g0xbh4-0 fGwBZA prc-Button-ButtonBase-c50BI js-blob-dropdown-click prc-Button-IconButton-szpyj" data-loading="false" data-no-visuals="true" data-size="medium" data-variant="default" aria-describedby=":R157d9lab:-loading-announcement" id=":R157d9lab:"><svg aria-hidden="true" focusable="false" class="octicon octicon-kebab-horizontal" viewBox="0 0 16 16" width="16" height="16" fill="currentColor" style="display:inline-block;user-select:none;vertical-align:text-bottom;overflow:visible"><path d="M8 9a1.5 1.5 0 1 0 0-3 1.5 1.5 0 0 0 0 3ZM1.5 9a1.5 1.5 0 1 0 0-3 1.5 1.5 0 0 0 0 3Zm13 0a1.5 1.5 0 1 0 0-3 1.5 1.5 0 0 0 0 3Z"></path></svg></button> </div></div></div></div></div></div></div></div><div class="Box-sc-g0xbh4-0 dJxjrT react-code-view-bottom-padding"> <div class="Box-sc-g0xbh4-0 eFxKDQ"></div> <!-- --> <!-- --> </div><div class="Box-sc-g0xbh4-0 dJxjrT"> <!-- --> <!-- --> <div class="d-flex flex-column border rounded-2 mb-3 pl-1"><div class="Box-sc-g0xbh4-0 dzCJzi"><h2 class="sr-only prc-Heading-Heading-6CmGO" data-testid="screen-reader-heading">Latest commit</h2><div style="width:120px" class="Skeleton Skeleton--text" data-testid="loading"> </div><div class="d-flex flex-shrink-0 gap-2"><div data-testid="latest-commit-details" class="d-none d-sm-flex flex-items-center"></div><div class="d-flex gap-2"><h2 class="sr-only prc-Heading-Heading-6CmGO" data-testid="screen-reader-heading">History</h2><a href="/Aish16032001/Pythoncourse_assignments/commits/main/day05/assign5.ipynb" class="prc-Button-ButtonBase-c50BI d-none d-lg-flex LinkButton-module__code-view-link-button--xvCGA flex-items-center fgColor-default" data-loading="false" data-size="small" data-variant="invisible" aria-describedby=":R5dlal9lab:-loading-announcement"><span data-component="buttonContent" data-align="center" class="prc-Button-ButtonContent-HKbr-"><span data-component="leadingVisual" class="prc-Button-Visual-2epfX prc-Button-VisualWrap-Db-eB"><svg aria-hidden="true" focusable="false" class="octicon octicon-history" viewBox="0 0 16 16" width="16" height="16" fill="currentColor" style="display:inline-block;user-select:none;vertical-align:text-bottom;overflow:visible"><path d="m.427 1.927 1.215 1.215a8.002 8.002 0 1 1-1.6 5.685.75.75 0 1 1 1.493-.154 6.5 6.5 0 1 0 1.18-4.458l1.358 1.358A.25.25 0 0 1 3.896 6H.25A.25.25 0 0 1 0 5.75V2.104a.25.25 0 0 1 .427-.177ZM7.75 4a.75.75 0 0 1 .75.75v2.992l2.028.812a.75.75 0 0 1-.557 1.392l-2.5-1A.751.751 0 0 1 7 8.25v-3.5A.75.75 0 0 1 7.75 4Z"></path></svg></span><span data-component="text" class="prc-Button-Label-pTQ3x"><span class="fgColor-default">History</span></span></span></a><div class="d-sm-none"></div><div class="d-flex d-lg-none"><span role="tooltip" aria-label="History" id="history-icon-button-tooltip" class="Tooltip__TooltipBase-sc-17tf59c-0 hWlpPn tooltipped-n"><a href="/Aish16032001/Pythoncourse_assignments/commits/main/day05/assign5.ipynb" class="prc-Button-ButtonBase-c50BI LinkButton-module__code-view-link-button--xvCGA flex-items-center fgColor-default" data-loading="false" data-size="small" data-variant="invisible" aria-describedby=":Rpdlal9lab:-loading-announcement history-icon-button-tooltip"><span data-component="buttonContent" data-align="center" class="prc-Button-ButtonContent-HKbr-"><span data-component="leadingVisual" class="prc-Button-Visual-2epfX prc-Button-VisualWrap-Db-eB"><svg aria-hidden="true" focusable="false" class="octicon octicon-history" viewBox="0 0 16 16" width="16" height="16" fill="currentColor" style="display:inline-block;user-select:none;vertical-align:text-bottom;overflow:visible"><path d="m.427 1.927 1.215 1.215a8.002 8.002 0 1 1-1.6 5.685.75.75 0 1 1 1.493-.154 6.5 6.5 0 1 0 1.18-4.458l1.358 1.358A.25.25 0 0 1 3.896 6H.25A.25.25 0 0 1 0 5.75V2.104a.25.25 0 0 1 .427-.177ZM7.75 4a.75.75 0 0 1 .75.75v2.992l2.028.812a.75.75 0 0 1-.557 1.392l-2.5-1A.751.751 0 0 1 7 8.25v-3.5A.75.75 0 0 1 7.75 4Z"></path></svg></span></span></a></span></div></div></div></div></div><div class="Box-sc-g0xbh4-0 ldRxiI"><div class="Box-sc-g0xbh4-0 fVkfyA container"><div class="Box-sc-g0xbh4-0 gNAmSV react-code-size-details-banner"><div class="Box-sc-g0xbh4-0 jNEwzY react-code-size-details-banner"><div class="Box-sc-g0xbh4-0 bsDwxw text-mono"><div title="76.6 KB" data-testid="blob-size" class="Truncate__StyledTruncate-sc-23o1d2-0 eAtkQz"><span>255 lines (255 loc) · 76.6 KB</span></div></div></div><div class="react-code-size-details-banner"><button style="--button-color:fg.default" type="button" aria-haspopup="true" aria-expanded="false" tabindex="0" data-testid="copilot-popover-button" class="Box-sc-g0xbh4-0 kXyYCF prc-Button-ButtonBase-c50BI" data-loading="false" data-size="small" data-variant="invisible" aria-describedby=":R15tal9lab:-loading-announcement" id=":R15tal9lab:"><span data-component="buttonContent" class="Box-sc-g0xbh4-0 gUkoLg prc-Button-ButtonContent-HKbr-"><span data-component="leadingVisual" class="prc-Button-Visual-2epfX prc-Button-VisualWrap-Db-eB"><svg aria-hidden="true" focusable="false" class="octicon octicon-copilot" viewBox="0 0 16 16" width="16" height="16" fill="currentColor" style="display:inline-block;user-select:none;vertical-align:text-bottom;overflow:visible"><path d="M7.998 15.035c-4.562 0-7.873-2.914-7.998-3.749V9.338c.085-.628.677-1.686 1.588-2.065.013-.07.024-.143.036-.218.029-.183.06-.384.126-.612-.201-.508-.254-1.084-.254-1.656 0-.87.128-1.769.693-2.484.579-.733 1.494-1.124 2.724-1.261 1.206-.134 2.262.034 2.944.765.05.053.096.108.139.165.044-.057.094-.112.143-.165.682-.731 1.738-.899 2.944-.765 1.23.137 2.145.528 2.724 1.261.566.715.693 1.614.693 2.484 0 .572-.053 1.148-.254 1.656.066.228.098.429.126.612.012.076.024.148.037.218.924.385 1.522 1.471 1.591 2.095v1.872c0 .766-3.351 3.795-8.002 3.795Zm0-1.485c2.28 0 4.584-1.11 5.002-1.433V7.862l-.023-.116c-.49.21-1.075.291-1.727.291-1.146 0-2.059-.327-2.71-.991A3.222 3.222 0 0 1 8 6.303a3.24 3.24 0 0 1-.544.743c-.65.664-1.563.991-2.71.991-.652 0-1.236-.081-1.727-.291l-.023.116v4.255c.419.323 2.722 1.433 5.002 1.433ZM6.762 2.83c-.193-.206-.637-.413-1.682-.297-1.019.113-1.479.404-1.713.7-.247.312-.369.789-.369 1.554 0 .793.129 1.171.308 1.371.162.181.519.379 1.442.379.853 0 1.339-.235 1.638-.54.315-.322.527-.827.617-1.553.117-.935-.037-1.395-.241-1.614Zm4.155-.297c-1.044-.116-1.488.091-1.681.297-.204.219-.359.679-.242 1.614.091.726.303 1.231.618 1.553.299.305.784.54 1.638.54.922 0 1.28-.198 1.442-.379.179-.2.308-.578.308-1.371 0-.765-.123-1.242-.37-1.554-.233-.296-.693-.587-1.713-.7Z"></path><path d="M6.25 9.037a.75.75 0 0 1 .75.75v1.501a.75.75 0 0 1-1.5 0V9.787a.75.75 0 0 1 .75-.75Zm4.25.75v1.501a.75.75 0 0 1-1.5 0V9.787a.75.75 0 0 1 1.5 0Z"></path></svg></span><span data-component="text" class="prc-Button-Label-pTQ3x">Code 55% faster with GitHub Copilot</span></span></button></div></div><div class="Box-sc-g0xbh4-0 jdLMhu react-blob-view-header-sticky" id="repos-sticky-header"><div class="Box-sc-g0xbh4-0 tOISc"><div class="react-blob-sticky-header"><div class="Box-sc-g0xbh4-0 hqwSEx"><div class="Box-sc-g0xbh4-0 bDVoEr"><div class="Box-sc-g0xbh4-0 kYLlPM"><div class="Box-sc-g0xbh4-0 gYjEmn"><button type="button" aria-haspopup="true" aria-expanded="false" tabindex="0" aria-label="main branch" data-testid="anchor-button" class="Box-sc-g0xbh4-0 dmxRgG prc-Button-ButtonBase-c50BI ref-selector-class" data-loading="false" data-size="medium" data-variant="default" aria-describedby="branch-picker-repos-header-ref-selector-loading-announcement" id="branch-picker-repos-header-ref-selector"><span data-component="buttonContent" class="Box-sc-g0xbh4-0 gUkoLg prc-Button-ButtonContent-HKbr-"><span data-component="text" class="prc-Button-Label-pTQ3x"><div class="Box-sc-g0xbh4-0 bZBlpz"><div class="Box-sc-g0xbh4-0 lhTYNA"><svg aria-hidden="true" focusable="false" class="octicon octicon-git-branch" viewBox="0 0 16 16" width="16" height="16" fill="currentColor" style="display:inline-block;user-select:none;vertical-align:text-bottom;overflow:visible"><path d="M9.5 3.25a2.25 2.25 0 1 1 3 2.122V6A2.5 2.5 0 0 1 10 8.5H6a1 1 0 0 0-1 1v1.128a2.251 2.251 0 1 1-1.5 0V5.372a2.25 2.25 0 1 1 1.5 0v1.836A2.493 2.493 0 0 1 6 7h4a1 1 0 0 0 1-1v-.628A2.25 2.25 0 0 1 9.5 3.25Zm-6 0a.75.75 0 1 0 1.5 0 .75.75 0 0 0-1.5 0Zm8.25-.75a.75.75 0 1 0 0 1.5.75.75 0 0 0 0-1.5ZM4.25 12a.75.75 0 1 0 0 1.5.75.75 0 0 0 0-1.5Z"></path></svg></div><div class="Box-sc-g0xbh4-0 dbrgmi ref-selector-button-text-container"><span class="Box-sc-g0xbh4-0 bmcJak prc-Text-Text-0ima0"> <!-- -->main</span></div></div></span><span data-component="trailingVisual" class="prc-Button-Visual-2epfX prc-Button-VisualWrap-Db-eB"><svg aria-hidden="true" focusable="false" class="octicon octicon-triangle-down" viewBox="0 0 16 16" width="16" height="16" fill="currentColor" style="display:inline-block;user-select:none;vertical-align:text-bottom;overflow:visible"><path d="m4.427 7.427 3.396 3.396a.25.25 0 0 0 .354 0l3.396-3.396A.25.25 0 0 0 11.396 7H4.604a.25.25 0 0 0-.177.427Z"></path></svg></span></span></button><button hidden="" data-hotkey-scope="read-only-cursor-text-area"></button></div><div class="Box-sc-g0xbh4-0 kGqOLL"><div class="Box-sc-g0xbh4-0 fHind"><nav data-testid="breadcrumbs" aria-labelledby="sticky-breadcrumb-heading" id="sticky-breadcrumb" class="Box-sc-g0xbh4-0 fzFXnm"><h2 class="sr-only prc-Heading-Heading-6CmGO" data-testid="screen-reader-heading" id="sticky-breadcrumb-heading">Breadcrumbs</h2><ol class="Box-sc-g0xbh4-0 iMnkmv"><li class="Box-sc-g0xbh4-0 ghzDag"><a class="Box-sc-g0xbh4-0 kHuKdh prc-Link-Link-85e08" sx="[object Object]" data-testid="breadcrumbs-repo-link" href="/Aish16032001/Pythoncourse_assignments/tree/main">Pythoncourse_assignments</a></li><li class="Box-sc-g0xbh4-0 ghzDag"><span class="Box-sc-g0xbh4-0 oDtgN prc-Text-Text-0ima0" aria-hidden="true">/</span><a class="Box-sc-g0xbh4-0 kgiVEz prc-Link-Link-85e08" sx="[object Object]" href="/Aish16032001/Pythoncourse_assignments/tree/main/day05">day05</a></li></ol></nav><div data-testid="breadcrumbs-filename" class="Box-sc-g0xbh4-0 ghzDag"><span class="Box-sc-g0xbh4-0 oDtgN prc-Text-Text-0ima0" aria-hidden="true">/</span><h1 class="Box-sc-g0xbh4-0 dnZoUW prc-Heading-Heading-6CmGO" tabindex="-1" id="sticky-file-name-id">assign5.ipynb</h1></div></div></div></div><button style="--button-color:fg.default" type="button" class="Box-sc-g0xbh4-0 jRZWlf prc-Button-ButtonBase-c50BI" data-loading="false" data-size="small" data-variant="invisible" aria-describedby=":Riptal9lab:-loading-announcement"><span data-component="buttonContent" class="Box-sc-g0xbh4-0 gUkoLg prc-Button-ButtonContent-HKbr-"><span data-component="leadingVisual" class="prc-Button-Visual-2epfX prc-Button-VisualWrap-Db-eB"><svg aria-hidden="true" focusable="false" class="octicon octicon-arrow-up" viewBox="0 0 16 16" width="16" height="16" fill="currentColor" style="display:inline-block;user-select:none;vertical-align:text-bottom;overflow:visible"><path d="M3.47 7.78a.75.75 0 0 1 0-1.06l4.25-4.25a.75.75 0 0 1 1.06 0l4.25 4.25a.751.751 0 0 1-.018 1.042.751.751 0 0 1-1.042.018L9 4.81v7.44a.75.75 0 0 1-1.5 0V4.81L4.53 7.78a.75.75 0 0 1-1.06 0Z"></path></svg></span><span data-component="text" class="prc-Button-Label-pTQ3x">Top</span></span></button></div></div></div><div class="Box-sc-g0xbh4-0 kTvpNk"><h2 class="sr-only prc-Heading-Heading-6CmGO" data-testid="screen-reader-heading">File metadata and controls</h2><div class="Box-sc-g0xbh4-0 iNMjfP"><ul aria-label="File view" class="SegmentedControl__SegmentedControlList-sc-1rzig82-0 lawgDG"><li class="Box-sc-g0xbh4-0 fefCSX"><button aria-current="true" type="button" class="SegmentedControlButton__SegmentedControlButtonStyled-sc-8lkgxl-0 dwImxt"><span class="segmentedControl-content"><div class="Box-sc-g0xbh4-0 segmentedControl-text">Preview</div></span></button></li><li class="Box-sc-g0xbh4-0 idgUkN"><button aria-current="false" type="button" class="SegmentedControlButton__SegmentedControlButtonStyled-sc-8lkgxl-0 iFTkun"><span class="segmentedControl-content"><div class="Box-sc-g0xbh4-0 segmentedControl-text">Code</div></span></button></li><li class="Box-sc-g0xbh4-0 idgUkN"><button aria-current="false" type="button" class="SegmentedControlButton__SegmentedControlButtonStyled-sc-8lkgxl-0 bHmvop"><span class="segmentedControl-content"><div class="Box-sc-g0xbh4-0 segmentedControl-text">Blame</div></span></button></li></ul><button hidden="" data-testid="" data-hotkey-scope="read-only-cursor-text-area"></button><button hidden="" data-testid="" data-hotkey-scope="read-only-cursor-text-area"></button><button hidden="" data-testid="" data-hotkey-scope="read-only-cursor-text-area"></button><div class="Box-sc-g0xbh4-0 jNEwzY react-code-size-details-in-header"><div class="Box-sc-g0xbh4-0 bsDwxw text-mono"><div title="76.6 KB" data-testid="blob-size" class="Truncate__StyledTruncate-sc-23o1d2-0 eAtkQz"><span>255 lines (255 loc) · 76.6 KB</span></div></div></div><div class="react-code-size-details-in-header"><button style="--button-color:fg.default" type="button" aria-haspopup="true" aria-expanded="false" tabindex="0" data-testid="copilot-popover-button" class="Box-sc-g0xbh4-0 kXyYCF prc-Button-ButtonBase-c50BI" data-loading="false" data-size="small" data-variant="invisible" aria-describedby=":R3kptal9lab:-loading-announcement" id=":R3kptal9lab:"><span data-component="buttonContent" class="Box-sc-g0xbh4-0 gUkoLg prc-Button-ButtonContent-HKbr-"><span data-component="leadingVisual" class="prc-Button-Visual-2epfX prc-Button-VisualWrap-Db-eB"><svg aria-hidden="true" focusable="false" class="octicon octicon-copilot" viewBox="0 0 16 16" width="16" height="16" fill="currentColor" style="display:inline-block;user-select:none;vertical-align:text-bottom;overflow:visible"><path d="M7.998 15.035c-4.562 0-7.873-2.914-7.998-3.749V9.338c.085-.628.677-1.686 1.588-2.065.013-.07.024-.143.036-.218.029-.183.06-.384.126-.612-.201-.508-.254-1.084-.254-1.656 0-.87.128-1.769.693-2.484.579-.733 1.494-1.124 2.724-1.261 1.206-.134 2.262.034 2.944.765.05.053.096.108.139.165.044-.057.094-.112.143-.165.682-.731 1.738-.899 2.944-.765 1.23.137 2.145.528 2.724 1.261.566.715.693 1.614.693 2.484 0 .572-.053 1.148-.254 1.656.066.228.098.429.126.612.012.076.024.148.037.218.924.385 1.522 1.471 1.591 2.095v1.872c0 .766-3.351 3.795-8.002 3.795Zm0-1.485c2.28 0 4.584-1.11 5.002-1.433V7.862l-.023-.116c-.49.21-1.075.291-1.727.291-1.146 0-2.059-.327-2.71-.991A3.222 3.222 0 0 1 8 6.303a3.24 3.24 0 0 1-.544.743c-.65.664-1.563.991-2.71.991-.652 0-1.236-.081-1.727-.291l-.023.116v4.255c.419.323 2.722 1.433 5.002 1.433ZM6.762 2.83c-.193-.206-.637-.413-1.682-.297-1.019.113-1.479.404-1.713.7-.247.312-.369.789-.369 1.554 0 .793.129 1.171.308 1.371.162.181.519.379 1.442.379.853 0 1.339-.235 1.638-.54.315-.322.527-.827.617-1.553.117-.935-.037-1.395-.241-1.614Zm4.155-.297c-1.044-.116-1.488.091-1.681.297-.204.219-.359.679-.242 1.614.091.726.303 1.231.618 1.553.299.305.784.54 1.638.54.922 0 1.28-.198 1.442-.379.179-.2.308-.578.308-1.371 0-.765-.123-1.242-.37-1.554-.233-.296-.693-.587-1.713-.7Z"></path><path d="M6.25 9.037a.75.75 0 0 1 .75.75v1.501a.75.75 0 0 1-1.5 0V9.787a.75.75 0 0 1 .75-.75Zm4.25.75v1.501a.75.75 0 0 1-1.5 0V9.787a.75.75 0 0 1 1.5 0Z"></path></svg></span><span data-component="text" class="prc-Button-Label-pTQ3x">Code 55% faster with GitHub Copilot</span></span></button></div></div><div class="Box-sc-g0xbh4-0 kcLCKF"><div class="Box-sc-g0xbh4-0 kVWtTz react-blob-header-edit-and-raw-actions"><div class="prc-ButtonGroup-ButtonGroup-vcMeG"><a href="https://github.com/Aish16032001/Pythoncourse_assignments/raw/refs/heads/main/day05/assign5.ipynb" data-testid="raw-button" class="Box-sc-g0xbh4-0 gWqxTd prc-Button-ButtonBase-c50BI" data-loading="false" data-no-visuals="true" data-size="small" data-variant="default" aria-describedby=":R5csptal9lab:-loading-announcement"><span data-component="buttonContent" class="Box-sc-g0xbh4-0 gUkoLg prc-Button-ButtonContent-HKbr-"><span data-component="text" class="prc-Button-Label-pTQ3x">Raw</span></span></a><button data-component="IconButton" type="button" aria-label="Copy raw content" data-testid="copy-raw-button" class="prc-Button-ButtonBase-c50BI prc-Button-IconButton-szpyj" data-loading="false" data-no-visuals="true" data-size="small" data-variant="default" aria-describedby=":Rpcsptal9lab:-loading-announcement"><svg aria-hidden="true" focusable="false" class="octicon octicon-copy" viewBox="0 0 16 16" width="16" height="16" fill="currentColor" style="display:inline-block;user-select:none;vertical-align:text-bottom;overflow:visible"><path d="M0 6.75C0 5.784.784 5 1.75 5h1.5a.75.75 0 0 1 0 1.5h-1.5a.25.25 0 0 0-.25.25v7.5c0 .138.112.25.25.25h7.5a.25.25 0 0 0 .25-.25v-1.5a.75.75 0 0 1 1.5 0v1.5A1.75 1.75 0 0 1 9.25 16h-7.5A1.75 1.75 0 0 1 0 14.25Z"></path><path d="M5 1.75C5 .784 5.784 0 6.75 0h7.5C15.216 0 16 .784 16 1.75v7.5A1.75 1.75 0 0 1 14.25 11h-7.5A1.75 1.75 0 0 1 5 9.25Zm1.75-.25a.25.25 0 0 0-.25.25v7.5c0 .138.112.25.25.25h7.5a.25.25 0 0 0 .25-.25v-7.5a.25.25 0 0 0-.25-.25Z"></path></svg></button><span role="tooltip" aria-label="Download raw file" id=":Rdcsptal9lab:" class="Tooltip__TooltipBase-sc-17tf59c-0 hWlpPn tooltipped-n"><button data-component="IconButton" type="button" aria-label="Download raw content" data-testid="download-raw-button" class="Box-sc-g0xbh4-0 ivobqY prc-Button-ButtonBase-c50BI prc-Button-IconButton-szpyj" data-loading="false" data-no-visuals="true" data-size="small" data-variant="default" aria-describedby=":Rtcsptal9lab:-loading-announcement"><svg aria-hidden="true" focusable="false" class="octicon octicon-download" viewBox="0 0 16 16" width="16" height="16" fill="currentColor" style="display:inline-block;user-select:none;vertical-align:text-bottom;overflow:visible"><path d="M2.75 14A1.75 1.75 0 0 1 1 12.25v-2.5a.75.75 0 0 1 1.5 0v2.5c0 .138.112.25.25.25h10.5a.25.25 0 0 0 .25-.25v-2.5a.75.75 0 0 1 1.5 0v2.5A1.75 1.75 0 0 1 13.25 14Z"></path><path d="M7.25 7.689V2a.75.75 0 0 1 1.5 0v5.689l1.97-1.969a.749.749 0 1 1 1.06 1.06l-3.25 3.25a.749.749 0 0 1-1.06 0L4.22 6.78a.749.749 0 1 1 1.06-1.06l1.97 1.969Z"></path></svg></button></span></div><button hidden="" data-testid="raw-button-shortcut" data-hotkey-scope="read-only-cursor-text-area"></button><button hidden="" data-testid="copy-raw-button-shortcut" data-hotkey-scope="read-only-cursor-text-area"></button><button hidden="" data-testid="download-raw-button-shortcut" data-hotkey-scope="read-only-cursor-text-area"></button><a class="js-github-dev-shortcut d-none prc-Link-Link-85e08" href="https://github.dev/"></a><button hidden="" data-testid="" data-hotkey-scope="read-only-cursor-text-area"></button><a class="js-github-dev-new-tab-shortcut d-none prc-Link-Link-85e08" href="https://github.dev/" target="_blank"></a><button hidden="" data-testid="" data-hotkey-scope="read-only-cursor-text-area"></button><div class="prc-ButtonGroup-ButtonGroup-vcMeG"><span role="tooltip" aria-label="Fork this repository and edit the file" id=":R6ksptal9lab:" class="Tooltip__TooltipBase-sc-17tf59c-0 hWlpPn tooltipped-nw"><a sx="[object Object]" data-component="IconButton" type="button" aria-label="Edit file" data-testid="edit-button" class="Box-sc-g0xbh4-0 kilKoS prc-Button-ButtonBase-c50BI prc-Button-IconButton-szpyj" data-loading="false" data-no-visuals="true" data-size="small" data-variant="default" aria-describedby=":Rmksptal9lab:-loading-announcement" href="/Aish16032001/Pythoncourse_assignments/edit/main/day05/assign5.ipynb"><svg aria-hidden="true" focusable="false" class="octicon octicon-pencil" viewBox="0 0 16 16" width="16" height="16" fill="currentColor" style="display:inline-block;user-select:none;vertical-align:text-bottom;overflow:visible"><path d="M11.013 1.427a1.75 1.75 0 0 1 2.474 0l1.086 1.086a1.75 1.75 0 0 1 0 2.474l-8.61 8.61c-.21.21-.47.364-.756.445l-3.251.93a.75.75 0 0 1-.927-.928l.929-3.25c.081-.286.235-.547.445-.758l8.61-8.61Zm.176 4.823L9.75 4.81l-6.286 6.287a.253.253 0 0 0-.064.108l-.558 1.953 1.953-.558a.253.253 0 0 0 .108-.064Zm1.238-3.763a.25.25 0 0 0-.354 0L10.811 3.75l1.439 1.44 1.263-1.263a.25.25 0 0 0 0-.354Z"></path></svg></a></span><button data-component="IconButton" type="button" aria-label="More edit options" data-testid="more-edit-button" aria-haspopup="true" aria-expanded="false" tabindex="0" class="prc-Button-ButtonBase-c50BI prc-Button-IconButton-szpyj" data-loading="false" data-no-visuals="true" data-size="small" data-variant="default" aria-describedby=":Raksptal9lab:-loading-announcement" id=":Raksptal9lab:"><svg aria-hidden="true" focusable="false" class="octicon octicon-triangle-down" viewBox="0 0 16 16" width="16" height="16" fill="currentColor" style="display:inline-block;user-select:none;vertical-align:text-bottom;overflow:visible"><path d="m4.427 7.427 3.396 3.396a.25.25 0 0 0 .354 0l3.396-3.396A.25.25 0 0 0 11.396 7H4.604a.25.25 0 0 0-.177.427Z"></path></svg></button></div><button hidden="" data-testid="" data-hotkey="e,Shift+E" data-hotkey-scope="read-only-cursor-text-area"></button></div><div class="react-blob-header-edit-and-raw-actions-combined"><button data-component="IconButton" type="button" aria-label="Edit and raw actions" title="More file actions" data-testid="more-file-actions-button" aria-haspopup="true" aria-expanded="false" tabindex="0" class="Box-sc-g0xbh4-0 ffkqe prc-Button-ButtonBase-c50BI js-blob-dropdown-click prc-Button-IconButton-szpyj" data-loading="false" data-no-visuals="true" data-size="small" data-variant="invisible" aria-describedby=":Rnsptal9lab:-loading-announcement" id=":Rnsptal9lab:"><svg aria-hidden="true" focusable="false" class="octicon octicon-kebab-horizontal" viewBox="0 0 16 16" width="16" height="16" fill="currentColor" style="display:inline-block;user-select:none;vertical-align:text-bottom;overflow:visible"><path d="M8 9a1.5 1.5 0 1 0 0-3 1.5 1.5 0 0 0 0 3ZM1.5 9a1.5 1.5 0 1 0 0-3 1.5 1.5 0 0 0 0 3Zm13 0a1.5 1.5 0 1 0 0-3 1.5 1.5 0 0 0 0 3Z"></path></svg></button></div></div></div></div><div></div></div><div class="Box-sc-g0xbh4-0 hGyMdv"><section aria-labelledby="file-name-id-wide file-name-id-mobile" class="Box-sc-g0xbh4-0 iWAocR"><!--$!--><template></template><div class="Box-sc-g0xbh4-0 fgsa-DI"><span class="prc-Spinner-Box-qNUI9"><svg height="32px" width="32px" viewBox="0 0 16 16" fill="none" aria-hidden="true" aria-label="Loading" class="Spinner__StyledComponentSpinner-sc-1knt686-0 iOyQGB"><circle cx="8" cy="8" r="7" stroke="currentColor" stroke-opacity="0.25" stroke-width="2" vector-effect="non-scaling-stroke"></circle><path d="M15 8a7.002 7.002 0 00-7-7" stroke="currentColor" stroke-width="2" stroke-linecap="round" vector-effect="non-scaling-stroke"></path></svg></span></div><!--/$--></section></div></div></div> <!-- --> <!-- --> </div></div></div><div class="Box-sc-g0xbh4-0"></div></div></div></div></div><div id="find-result-marks-container" class="Box-sc-g0xbh4-0 cCoXib"></div><button hidden="" data-testid="" data-hotkey-scope="read-only-cursor-text-area"></button><button hidden=""></button></div> <!-- --> <!-- --> <script type="application/json" id="__PRIMER_DATA_:R0:__">{"resolvedServerColorMode":"day"}</script></div>
</react-app>
</turbo-frame>



  </div>

</turbo-frame>

    </main>
  </div>

  </div>

          <footer class="footer pt-8 pb-6 f6 color-fg-muted p-responsive" role="contentinfo" >
  <h2 class='sr-only'>Footer</h2>

  


  <div class="d-flex flex-justify-center flex-items-center flex-column-reverse flex-lg-row flex-wrap flex-lg-nowrap">
    <div class="d-flex flex-items-center flex-shrink-0 mx-2">
      <a aria-label="Homepage" title="GitHub" class="footer-octicon mr-2" href="https://github.com">
        <svg aria-hidden="true" height="24" viewBox="0 0 24 24" version="1.1" width="24" data-view-component="true" class="octicon octicon-mark-github">
    <path d="M12.5.75C6.146.75 1 5.896 1 12.25c0 5.089 3.292 9.387 7.863 10.91.575.101.79-.244.79-.546 0-.273-.014-1.178-.014-2.142-2.889.532-3.636-.704-3.866-1.35-.13-.331-.69-1.352-1.18-1.625-.402-.216-.977-.748-.014-.762.906-.014 1.553.834 1.769 1.179 1.035 1.74 2.688 1.25 3.349.948.1-.747.402-1.25.733-1.538-2.559-.287-5.232-1.279-5.232-5.678 0-1.25.445-2.285 1.178-3.09-.115-.288-.517-1.467.115-3.048 0 0 .963-.302 3.163 1.179.92-.259 1.897-.388 2.875-.388.977 0 1.955.13 2.875.388 2.2-1.495 3.162-1.179 3.162-1.179.633 1.581.23 2.76.115 3.048.733.805 1.179 1.825 1.179 3.09 0 4.413-2.688 5.39-5.247 5.678.417.36.776 1.05.776 2.128 0 1.538-.014 2.774-.014 3.162 0 .302.216.662.79.547C20.709 21.637 24 17.324 24 12.25 24 5.896 18.854.75 12.5.75Z"></path>
</svg>
</a>
      <span>
        &copy; 2024 GitHub,&nbsp;Inc.
      </span>
    </div>

    <nav aria-label="Footer">
      <h3 class="sr-only" id="sr-footer-heading">Footer navigation</h3>

      <ul class="list-style-none d-flex flex-justify-center flex-wrap mb-2 mb-lg-0" aria-labelledby="sr-footer-heading">

          <li class="mx-2">
            <a data-analytics-event="{&quot;category&quot;:&quot;Footer&quot;,&quot;action&quot;:&quot;go to Terms&quot;,&quot;label&quot;:&quot;text:terms&quot;}" href="https://docs.github.com/site-policy/github-terms/github-terms-of-service" data-view-component="true" class="Link--secondary Link">Terms</a>
          </li>

          <li class="mx-2">
            <a data-analytics-event="{&quot;category&quot;:&quot;Footer&quot;,&quot;action&quot;:&quot;go to privacy&quot;,&quot;label&quot;:&quot;text:privacy&quot;}" href="https://docs.github.com/site-policy/privacy-policies/github-privacy-statement" data-view-component="true" class="Link--secondary Link">Privacy</a>
          </li>

          <li class="mx-2">
            <a data-analytics-event="{&quot;category&quot;:&quot;Footer&quot;,&quot;action&quot;:&quot;go to security&quot;,&quot;label&quot;:&quot;text:security&quot;}" href="https://github.com/security" data-view-component="true" class="Link--secondary Link">Security</a>
          </li>

          <li class="mx-2">
            <a data-analytics-event="{&quot;category&quot;:&quot;Footer&quot;,&quot;action&quot;:&quot;go to status&quot;,&quot;label&quot;:&quot;text:status&quot;}" href="https://www.githubstatus.com/" data-view-component="true" class="Link--secondary Link">Status</a>
          </li>

          <li class="mx-2">
            <a data-analytics-event="{&quot;category&quot;:&quot;Footer&quot;,&quot;action&quot;:&quot;go to docs&quot;,&quot;label&quot;:&quot;text:docs&quot;}" href="https://docs.github.com/" data-view-component="true" class="Link--secondary Link">Docs</a>
          </li>

          <li class="mx-2">
            <a data-analytics-event="{&quot;category&quot;:&quot;Footer&quot;,&quot;action&quot;:&quot;go to contact&quot;,&quot;label&quot;:&quot;text:contact&quot;}" href="https://support.github.com?tags=dotcom-footer" data-view-component="true" class="Link--secondary Link">Contact</a>
          </li>

          <li class="mx-2" >
  <cookie-consent-link>
    <button
      type="button"
      class="Link--secondary underline-on-hover border-0 p-0 color-bg-transparent"
      data-action="click:cookie-consent-link#showConsentManagement"
      data-analytics-event="{&quot;location&quot;:&quot;footer&quot;,&quot;action&quot;:&quot;cookies&quot;,&quot;context&quot;:&quot;subfooter&quot;,&quot;tag&quot;:&quot;link&quot;,&quot;label&quot;:&quot;cookies_link_subfooter_footer&quot;}"
    >
      Manage cookies
    </button>
  </cookie-consent-link>
</li>

<li class="mx-2">
  <cookie-consent-link>
    <button
      type="button"
      class="Link--secondary underline-on-hover border-0 p-0 color-bg-transparent"
      data-action="click:cookie-consent-link#showConsentManagement"
      data-analytics-event="{&quot;location&quot;:&quot;footer&quot;,&quot;action&quot;:&quot;dont_share_info&quot;,&quot;context&quot;:&quot;subfooter&quot;,&quot;tag&quot;:&quot;link&quot;,&quot;label&quot;:&quot;dont_share_info_link_subfooter_footer&quot;}"
    >
      Do not share my personal information
    </button>
  </cookie-consent-link>
</li>

      </ul>
    </nav>
  </div>
</footer>




    <ghcc-consent id="ghcc" class="position-fixed bottom-0 left-0" style="z-index: 999999" data-initial-cookie-consent-allowed="" data-cookie-consent-required="false"></ghcc-consent>


  <div id="ajax-error-message" class="ajax-error-message flash flash-error" hidden>
    <svg aria-hidden="true" height="16" viewBox="0 0 16 16" version="1.1" width="16" data-view-component="true" class="octicon octicon-alert">
    <path d="M6.457 1.047c.659-1.234 2.427-1.234 3.086 0l6.082 11.378A1.75 1.75 0 0 1 14.082 15H1.918a1.75 1.75 0 0 1-1.543-2.575Zm1.763.707a.25.25 0 0 0-.44 0L1.698 13.132a.25.25 0 0 0 .22.368h12.164a.25.25 0 0 0 .22-.368Zm.53 3.996v2.5a.75.75 0 0 1-1.5 0v-2.5a.75.75 0 0 1 1.5 0ZM9 11a1 1 0 1 1-2 0 1 1 0 0 1 2 0Z"></path>
</svg>
    <button type="button" class="flash-close js-ajax-error-dismiss" aria-label="Dismiss error">
      <svg aria-hidden="true" height="16" viewBox="0 0 16 16" version="1.1" width="16" data-view-component="true" class="octicon octicon-x">
    <path d="M3.72 3.72a.75.75 0 0 1 1.06 0L8 6.94l3.22-3.22a.749.749 0 0 1 1.275.326.749.749 0 0 1-.215.734L9.06 8l3.22 3.22a.749.749 0 0 1-.326 1.275.749.749 0 0 1-.734-.215L8 9.06l-3.22 3.22a.751.751 0 0 1-1.042-.018.751.751 0 0 1-.018-1.042L6.94 8 3.72 4.78a.75.75 0 0 1 0-1.06Z"></path>
</svg>
    </button>
    You can’t perform that action at this time.
  </div>

    <template id="site-details-dialog">
  <details class="details-reset details-overlay details-overlay-dark lh-default color-fg-default hx_rsm" open>
    <summary role="button" aria-label="Close dialog"></summary>
    <details-dialog class="Box Box--overlay d-flex flex-column anim-fade-in fast hx_rsm-dialog hx_rsm-modal">
      <button class="Box-btn-octicon m-0 btn-octicon position-absolute right-0 top-0" type="button" aria-label="Close dialog" data-close-dialog>
        <svg aria-hidden="true" height="16" viewBox="0 0 16 16" version="1.1" width="16" data-view-component="true" class="octicon octicon-x">
    <path d="M3.72 3.72a.75.75 0 0 1 1.06 0L8 6.94l3.22-3.22a.749.749 0 0 1 1.275.326.749.749 0 0 1-.215.734L9.06 8l3.22 3.22a.749.749 0 0 1-.326 1.275.749.749 0 0 1-.734-.215L8 9.06l-3.22 3.22a.751.751 0 0 1-1.042-.018.751.751 0 0 1-.018-1.042L6.94 8 3.72 4.78a.75.75 0 0 1 0-1.06Z"></path>
</svg>
      </button>
      <div class="octocat-spinner my-6 js-details-dialog-spinner"></div>
    </details-dialog>
  </details>
</template>

    <div class="Popover js-hovercard-content position-absolute" style="display: none; outline: none;">
  <div class="Popover-message Popover-message--bottom-left Popover-message--large Box color-shadow-large" style="width:360px;">
  </div>
</div>

    <template id="snippet-clipboard-copy-button">
  <div class="zeroclipboard-container position-absolute right-0 top-0">
    <clipboard-copy aria-label="Copy" class="ClipboardButton btn js-clipboard-copy m-2 p-0" data-copy-feedback="Copied!" data-tooltip-direction="w">
      <svg aria-hidden="true" height="16" viewBox="0 0 16 16" version="1.1" width="16" data-view-component="true" class="octicon octicon-copy js-clipboard-copy-icon m-2">
    <path d="M0 6.75C0 5.784.784 5 1.75 5h1.5a.75.75 0 0 1 0 1.5h-1.5a.25.25 0 0 0-.25.25v7.5c0 .138.112.25.25.25h7.5a.25.25 0 0 0 .25-.25v-1.5a.75.75 0 0 1 1.5 0v1.5A1.75 1.75 0 0 1 9.25 16h-7.5A1.75 1.75 0 0 1 0 14.25Z"></path><path d="M5 1.75C5 .784 5.784 0 6.75 0h7.5C15.216 0 16 .784 16 1.75v7.5A1.75 1.75 0 0 1 14.25 11h-7.5A1.75 1.75 0 0 1 5 9.25Zm1.75-.25a.25.25 0 0 0-.25.25v7.5c0 .138.112.25.25.25h7.5a.25.25 0 0 0 .25-.25v-7.5a.25.25 0 0 0-.25-.25Z"></path>
</svg>
      <svg aria-hidden="true" height="16" viewBox="0 0 16 16" version="1.1" width="16" data-view-component="true" class="octicon octicon-check js-clipboard-check-icon color-fg-success d-none m-2">
    <path d="M13.78 4.22a.75.75 0 0 1 0 1.06l-7.25 7.25a.75.75 0 0 1-1.06 0L2.22 9.28a.751.751 0 0 1 .018-1.042.751.751 0 0 1 1.042-.018L6 10.94l6.72-6.72a.75.75 0 0 1 1.06 0Z"></path>
</svg>
    </clipboard-copy>
  </div>
</template>
<template id="snippet-clipboard-copy-button-unpositioned">
  <div class="zeroclipboard-container">
    <clipboard-copy aria-label="Copy" class="ClipboardButton btn btn-invisible js-clipboard-copy m-2 p-0 d-flex flex-justify-center flex-items-center" data-copy-feedback="Copied!" data-tooltip-direction="w">
      <svg aria-hidden="true" height="16" viewBox="0 0 16 16" version="1.1" width="16" data-view-component="true" class="octicon octicon-copy js-clipboard-copy-icon">
    <path d="M0 6.75C0 5.784.784 5 1.75 5h1.5a.75.75 0 0 1 0 1.5h-1.5a.25.25 0 0 0-.25.25v7.5c0 .138.112.25.25.25h7.5a.25.25 0 0 0 .25-.25v-1.5a.75.75 0 0 1 1.5 0v1.5A1.75 1.75 0 0 1 9.25 16h-7.5A1.75 1.75 0 0 1 0 14.25Z"></path><path d="M5 1.75C5 .784 5.784 0 6.75 0h7.5C15.216 0 16 .784 16 1.75v7.5A1.75 1.75 0 0 1 14.25 11h-7.5A1.75 1.75 0 0 1 5 9.25Zm1.75-.25a.25.25 0 0 0-.25.25v7.5c0 .138.112.25.25.25h7.5a.25.25 0 0 0 .25-.25v-7.5a.25.25 0 0 0-.25-.25Z"></path>
</svg>
      <svg aria-hidden="true" height="16" viewBox="0 0 16 16" version="1.1" width="16" data-view-component="true" class="octicon octicon-check js-clipboard-check-icon color-fg-success d-none">
    <path d="M13.78 4.22a.75.75 0 0 1 0 1.06l-7.25 7.25a.75.75 0 0 1-1.06 0L2.22 9.28a.751.751 0 0 1 .018-1.042.751.751 0 0 1 1.042-.018L6 10.94l6.72-6.72a.75.75 0 0 1 1.06 0Z"></path>
</svg>
    </clipboard-copy>
  </div>
</template>


    <style>
      .user-mention[href$="/AnatolyKustanovich"] {
        color: var(--color-user-mention-fg);
        background-color: var(--bgColor-attention-muted, var(--color-attention-subtle));
        border-radius: 2px;
        margin-left: -2px;
        margin-right: -2px;
      }
      .user-mention[href$="/AnatolyKustanovich"]:before,
      .user-mention[href$="/AnatolyKustanovich"]:after {
        content: '';
        display: inline-block;
        width: 2px;
      }
    </style>


    </div>

    <div id="js-global-screen-reader-notice" class="sr-only mt-n1" aria-live="polite" aria-atomic="true" ></div>
    <div id="js-global-screen-reader-notice-assertive" class="sr-only mt-n1" aria-live="assertive" aria-atomic="true"></div>
  </body>
</html>

