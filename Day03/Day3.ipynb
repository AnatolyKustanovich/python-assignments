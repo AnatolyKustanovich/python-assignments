{
 "cells": [
  {
   "cell_type": "code",
   "execution_count": 10,
   "id": "752cd8a7-0b82-48f5-8971-50ac8ce7d2fd",
   "metadata": {},
   "outputs": [
    {
     "name": "stdout",
     "output_type": "stream",
     "text": [
      " Area of rectangle is: 200 \n",
      " Circumference of rectangle is: 60\n",
      " Area of circle is: 314.0 \n",
      " Circumference of circle is: 62.800000000000004\n"
     ]
    }
   ],
   "source": [
    "width_rectangle = 10\n",
    "length_rectangle = 20\n",
    "radius_circle = 10\n",
    "\n",
    "area_rectangle = width_rectangle * length_rectangle \n",
    "circumference_rectangle = 2*(width_rectangle+length_rectangle)\n",
    "pi = 3.14\n",
    "area_circle = pi*radius_circle*radius_circle\n",
    "circumference_circle = 2*pi*radius_circle\n",
    "\n",
    "print(\" Area of rectangle is:\", area_rectangle, '\\n', \"Circumference of rectangle is:\", circumference_rectangle)\n",
    "print(\" Area of circle is:\", area_circle, '\\n', \"Circumference of circle is:\", circumference_circle) "
   ]
  },
  {
   "cell_type": "code",
   "execution_count": null,
   "id": "74e93331-ac75-400d-a05b-85afafe90eae",
   "metadata": {},
   "outputs": [],
   "source": []
  }
 ],
 "metadata": {
  "kernelspec": {
   "display_name": "Python 3 (ipykernel)",
   "language": "python",
   "name": "python3"
  },
  "language_info": {
   "codemirror_mode": {
    "name": "ipython",
    "version": 3
   },
   "file_extension": ".py",
   "mimetype": "text/x-python",
   "name": "python",
   "nbconvert_exporter": "python",
   "pygments_lexer": "ipython3",
   "version": "3.12.7"
  }
 },
 "nbformat": 4,
 "nbformat_minor": 5
}
